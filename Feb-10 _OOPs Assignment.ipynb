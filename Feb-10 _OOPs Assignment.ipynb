{
 "cells": [
  {
   "cell_type": "markdown",
   "id": "82805bdb-6932-4efa-9d5a-896656808806",
   "metadata": {},
   "source": [
    "Q1. Which function is used to open a file? What are the different modes of opening a file? Explain each mode\n",
    "of file opening.\n"
   ]
  },
  {
   "cell_type": "code",
   "execution_count": null,
   "id": "5392a329-8fc0-419f-a8d5-77c0bda024b3",
   "metadata": {},
   "outputs": [],
   "source": [
    "#Answer:\n",
    "\"\"\"\n",
    "we use the open() method to open files.\n",
    "\n",
    "#open file in current directory\n",
    "file1 = open(\"test.txt\")\n",
    "\n",
    "\"\"\"\n",
    "    \n",
    "#different modes of opening a file :-\n",
    "#open a file in different modes:-\n",
    "file1 = open(\"test.txt\")      # equivalent to 'r' or 'rt'\n",
    "file1 = open(\"test.txt\",'w')  # write in text mode\n",
    "\n",
    "#(1)files are open in read mode:-\n",
    "f = open(\"test.txt\", \"r\")\n",
    "print(f.read())\n",
    "\n",
    "#(2)files are open in write mode:-\n",
    "f = open(\"test.txt\", \"w\")\n",
    "f.write(\"Woops! I have deleted the content!\")\n",
    "f.close()\n"
   ]
  },
  {
   "cell_type": "markdown",
   "id": "e4d771cf-8ee7-4fb1-b56e-76a24a0e9365",
   "metadata": {},
   "source": [
    "Q2. Why close() function is used? Why is it important to close a file?\n"
   ]
  },
  {
   "cell_type": "code",
   "execution_count": null,
   "id": "1bebdac9-2bfd-4ca7-8eef-a9f51f646935",
   "metadata": {},
   "outputs": [],
   "source": [
    "#file.close() :-\n",
    "'''\n",
    "The close() method closes an open file.\n",
    "'''\n",
    "#Ex\n",
    "f = open(\"demofile.txt\", \"r\")\n",
    "print(f.read())\n",
    "f.close()\n",
    "\n",
    "#Why is it important to close a file:-\n",
    "'''\n",
    "You should always close your files, in some cases, due to buffering, changes made\n",
    "to a file may not show until you close the file.\n",
    "'''"
   ]
  },
  {
   "cell_type": "markdown",
   "id": "ae9a9022-df69-4526-b987-ddb048b1c2b7",
   "metadata": {},
   "source": [
    "Q3. Write a python program to create a text file. Write ‘I want to become a Data Scientist’ in that file. Then\n",
    "close the file. Open this file and read the content of the file."
   ]
  },
  {
   "cell_type": "code",
   "execution_count": 5,
   "id": "fb0b241e-1498-44eb-823f-68aac12979ae",
   "metadata": {},
   "outputs": [
    {
     "name": "stdout",
     "output_type": "stream",
     "text": [
      "I want to become a Data Scientist.\n"
     ]
    }
   ],
   "source": [
    "f = open(\"test.txt\", \"w\")\n",
    "f.write(\"I want to become a Data Scientist.\")\n",
    "f.close()\n",
    "\n",
    "f = open(\"test.txt\", \"r\")\n",
    "print(f.read())\n"
   ]
  },
  {
   "cell_type": "markdown",
   "id": "3deb3e8b-6a4f-4cb3-91c9-ac08c23b6e75",
   "metadata": {},
   "source": [
    "Q4. Explain the following with python code: read(), readline() and readlines()."
   ]
  },
  {
   "cell_type": "markdown",
   "id": "b569334a-0630-4419-baf9-5d98557690d1",
   "metadata": {},
   "source": [
    "# read():- method returns the specified number of bytes from the file. Default is -1 which means the whole file.\n",
    "#Ex.\n",
    "f = open(\"demofile.txt\", \"r\")\n",
    "print(f.read())\n",
    "\n",
    "#readline() :-\n",
    "'''method returns one line from the file.\n",
    "You can also specified how many bytes from the line to return, by using the size parameter.\n",
    "'''\n",
    "#Ex\n",
    "f = open(\"demofile.txt\", \"r\")\n",
    "print(f.readline())\n",
    "print(f.readline())\n",
    "\n",
    "\n",
    "#readlines():- \n",
    "'''method returns a list containing each line in the file as a list item.\n",
    "Use the hint parameter to limit the number of lines returned. If the total number of bytes\n",
    "returned exceeds the specified number, no more lines are returned.'''\n",
    "#Ex\n",
    "f = open(\"demofile.txt\", \"r\")\n",
    "print(f.readlines())\n",
    "\n"
   ]
  },
  {
   "cell_type": "markdown",
   "id": "eab2abb9-ab51-41a4-b811-224fc19acf8e",
   "metadata": {},
   "source": [
    "Q5. Explain why with statement is used with open(). What is the advantage of using with statement and\n",
    "open() together?"
   ]
  },
  {
   "cell_type": "markdown",
   "id": "3f5dec45-c6be-4337-9cca-1e05f66c87e5",
   "metadata": {},
   "source": [
    "#The with statement works with the open() function to open a file.\n",
    "with open(\"hello.txt\") as my_file:\n",
    "    print(my_file.read())\n",
    "    \n",
    "#The advantage of using with statement and open() together:\n",
    "'''You might be wondering which way you should use to work with files between the combo of with and open() \n",
    "and just the open() function.\n",
    "I would advise you to use the combination of with and open() because the with statement \n",
    "closes the file for you and you get to write less code.'''"
   ]
  },
  {
   "cell_type": "markdown",
   "id": "258d8090-df8a-47e7-8ce3-a9ad3662ec8e",
   "metadata": {},
   "source": [
    "Q6. Explain the write() and writelines() functions. Give a suitable example."
   ]
  },
  {
   "cell_type": "code",
   "execution_count": null,
   "id": "e1c45762-cde7-4eb7-b64f-8635a650d7ab",
   "metadata": {},
   "outputs": [],
   "source": [
    "#write() function:-\n",
    "'''\n",
    "The write() function will write the content in the file without adding any extra characters.\n",
    "'''\n",
    "#Ex.\n",
    "file = open(\"Employees.txt\", \"w\")\n",
    "\n",
    "for i in range(3):\n",
    "name = input(\"Enter the name of the employee: \")\n",
    "file.write(name)\n",
    "file.write(\"\\n\")\n",
    "\t\n",
    "file.close()\n",
    "print(\"Data is written into the file.\")\n",
    "\n",
    "#writelines() function:-\n",
    "'''\n",
    "This function writes the content of a list to a file.\n",
    "'''\n",
    "#Ex.\n",
    "file1 = open(\"Employees.txt\", \"w\")\n",
    "lst = []\n",
    "for i in range(3):\n",
    "\tname = input(\"Enter the name of the employee: \")\n",
    "\tlst.append(name + '\\n')\n",
    "\t\n",
    "file1.writelines(lst)\n",
    "file1.close()\n",
    "print(\"Data is written into the file.\")\n"
   ]
  }
 ],
 "metadata": {
  "kernelspec": {
   "display_name": "Python 3 (ipykernel)",
   "language": "python",
   "name": "python3"
  },
  "language_info": {
   "codemirror_mode": {
    "name": "ipython",
    "version": 3
   },
   "file_extension": ".py",
   "mimetype": "text/x-python",
   "name": "python",
   "nbconvert_exporter": "python",
   "pygments_lexer": "ipython3",
   "version": "3.10.8"
  }
 },
 "nbformat": 4,
 "nbformat_minor": 5
}

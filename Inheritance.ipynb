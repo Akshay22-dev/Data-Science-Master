{
 "cells": [
  {
   "cell_type": "code",
   "execution_count": 1,
   "id": "3a98571f-bca7-4ea8-ba4e-af2c965096c5",
   "metadata": {},
   "outputs": [],
   "source": [
    "class parent:\n",
    "    def test_parent(self):\n",
    "        print(\"This is my parent class\")\n",
    "class child(parent):\n",
    "    pass"
   ]
  },
  {
   "cell_type": "code",
   "execution_count": 2,
   "id": "db9384ae-4e41-450d-834c-162a0da38479",
   "metadata": {},
   "outputs": [],
   "source": [
    "child_obj = child()"
   ]
  },
  {
   "cell_type": "code",
   "execution_count": 3,
   "id": "ca8d70b2-91bf-42e3-8a04-2f6e638ed46d",
   "metadata": {},
   "outputs": [
    {
     "name": "stdout",
     "output_type": "stream",
     "text": [
      "This is my parent class\n"
     ]
    }
   ],
   "source": [
    "child_obj.test_parent()"
   ]
  },
  {
   "cell_type": "markdown",
   "id": "20bd5cf4-5577-42c4-8229-1856d27d4e62",
   "metadata": {},
   "source": [
    "##Multilevel Inheritance"
   ]
  },
  {
   "cell_type": "code",
   "execution_count": 13,
   "id": "f10cc83e-122f-4b3b-a424-f21ba413c159",
   "metadata": {},
   "outputs": [],
   "source": [
    "class class1:\n",
    "    def test_class1(self):\n",
    "        print(\"This is class one\")"
   ]
  },
  {
   "cell_type": "code",
   "execution_count": 14,
   "id": "1f4f326a-8790-4332-8925-47133795fc1b",
   "metadata": {},
   "outputs": [],
   "source": [
    "class class2(class1):\n",
    "    def test_class2(self):\n",
    "        print(\"This is class second\")"
   ]
  },
  {
   "cell_type": "code",
   "execution_count": 15,
   "id": "611ad9e8-6081-4c15-9284-0c7c21979934",
   "metadata": {},
   "outputs": [],
   "source": [
    "class class3(class2):\n",
    "    def test_class3(self):\n",
    "        print(\"This is class three\")"
   ]
  },
  {
   "cell_type": "code",
   "execution_count": 16,
   "id": "a5981036-bef1-4bb8-8080-bc661c4904d9",
   "metadata": {},
   "outputs": [],
   "source": [
    "obj_class3 = class3()"
   ]
  },
  {
   "cell_type": "code",
   "execution_count": 17,
   "id": "4161aa56-4a11-4f83-a54f-1d920e2839f3",
   "metadata": {},
   "outputs": [
    {
     "name": "stdout",
     "output_type": "stream",
     "text": [
      "This is class one\n"
     ]
    }
   ],
   "source": [
    "obj_class3.test_class1()"
   ]
  },
  {
   "cell_type": "code",
   "execution_count": 18,
   "id": "5d04966c-64bb-4e57-b7ca-6e9ac57b030e",
   "metadata": {},
   "outputs": [
    {
     "name": "stdout",
     "output_type": "stream",
     "text": [
      "This is class second\n"
     ]
    }
   ],
   "source": [
    "obj_class3.test_class2()"
   ]
  },
  {
   "cell_type": "code",
   "execution_count": 19,
   "id": "824deb0d-fa78-4632-af25-a73c9ff1cc70",
   "metadata": {},
   "outputs": [
    {
     "name": "stdout",
     "output_type": "stream",
     "text": [
      "This is class three\n"
     ]
    }
   ],
   "source": [
    "obj_class3.test_class3()"
   ]
  },
  {
   "cell_type": "code",
   "execution_count": 20,
   "id": "47fe02e1-52b9-4cd8-9abe-b703850cef93",
   "metadata": {},
   "outputs": [],
   "source": [
    "obj_class2 = class2()"
   ]
  },
  {
   "cell_type": "code",
   "execution_count": 21,
   "id": "a3395dc7-feec-44b0-9b91-cb1dc03d5e42",
   "metadata": {},
   "outputs": [
    {
     "name": "stdout",
     "output_type": "stream",
     "text": [
      "This is class one\n"
     ]
    }
   ],
   "source": [
    "obj_class2.test_class1()"
   ]
  },
  {
   "cell_type": "code",
   "execution_count": 22,
   "id": "cf5832fb-2cb4-460a-8102-55a870e6428c",
   "metadata": {},
   "outputs": [
    {
     "name": "stdout",
     "output_type": "stream",
     "text": [
      "This is class second\n"
     ]
    }
   ],
   "source": [
    "obj_class2.test_class2()"
   ]
  },
  {
   "cell_type": "code",
   "execution_count": 23,
   "id": "f9a2b6a3-c27b-4f69-8513-196923766c29",
   "metadata": {},
   "outputs": [],
   "source": [
    "obj_class1 =class1()"
   ]
  },
  {
   "cell_type": "code",
   "execution_count": 24,
   "id": "e6427f78-e243-4e07-aa92-6d81dae0e983",
   "metadata": {},
   "outputs": [
    {
     "name": "stdout",
     "output_type": "stream",
     "text": [
      "This is class one\n"
     ]
    }
   ],
   "source": [
    "obj_class1.test_class1()"
   ]
  },
  {
   "cell_type": "markdown",
   "id": "fbdf8e16-28a8-4f8f-9025-471e8c2b101a",
   "metadata": {},
   "source": [
    "Multiple Inheritance:-"
   ]
  },
  {
   "cell_type": "code",
   "execution_count": 29,
   "id": "d6e3f6ea-fe1b-4940-ab2d-d52ba597140a",
   "metadata": {},
   "outputs": [],
   "source": [
    "class class1:\n",
    "    def test_class1(self):\n",
    "        print(\"This is class one\")"
   ]
  },
  {
   "cell_type": "code",
   "execution_count": 32,
   "id": "3435670b-d653-40fa-a1ed-c6373e9206ee",
   "metadata": {},
   "outputs": [],
   "source": [
    "class class2:\n",
    "    def test_class2(self):\n",
    "        print(\"This is class second\")"
   ]
  },
  {
   "cell_type": "code",
   "execution_count": 33,
   "id": "f480ef4e-4b1c-486d-b313-329bb9297bc6",
   "metadata": {},
   "outputs": [],
   "source": [
    "class class3(class1 , class2):\n",
    "    pass"
   ]
  },
  {
   "cell_type": "code",
   "execution_count": 34,
   "id": "2020c37b-2ad9-4d70-84a5-a6b82bf067f2",
   "metadata": {},
   "outputs": [],
   "source": [
    "obj_class3 =class3()"
   ]
  },
  {
   "cell_type": "code",
   "execution_count": 35,
   "id": "a1051a2d-222b-4dcc-8ef3-5357e210917f",
   "metadata": {},
   "outputs": [
    {
     "name": "stdout",
     "output_type": "stream",
     "text": [
      "This is class one\n"
     ]
    }
   ],
   "source": [
    "obj_class3.test_class1()"
   ]
  },
  {
   "cell_type": "code",
   "execution_count": 36,
   "id": "0b8c9346-ae08-42b8-baab-6ca46df71ebc",
   "metadata": {},
   "outputs": [
    {
     "name": "stdout",
     "output_type": "stream",
     "text": [
      "This is class second\n"
     ]
    }
   ],
   "source": [
    "obj_class3.test_class2()"
   ]
  },
  {
   "cell_type": "code",
   "execution_count": null,
   "id": "50b924bd-aa19-4bb1-b1d4-d5fdeff2daf2",
   "metadata": {},
   "outputs": [],
   "source": []
  }
 ],
 "metadata": {
  "kernelspec": {
   "display_name": "Python 3 (ipykernel)",
   "language": "python",
   "name": "python3"
  },
  "language_info": {
   "codemirror_mode": {
    "name": "ipython",
    "version": 3
   },
   "file_extension": ".py",
   "mimetype": "text/x-python",
   "name": "python",
   "nbconvert_exporter": "python",
   "pygments_lexer": "ipython3",
   "version": "3.10.8"
  }
 },
 "nbformat": 4,
 "nbformat_minor": 5
}

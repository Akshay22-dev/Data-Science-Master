{
 "cells": [
  {
   "cell_type": "markdown",
   "id": "122d7a2b-7968-4879-9ce8-e244e46ef3fa",
   "metadata": {},
   "source": [
    "Q1. What is and Exception in python? Write the difference between Exceptions\n",
    "and Syntax errors."
   ]
  },
  {
   "cell_type": "code",
   "execution_count": 8,
   "id": "2a36267f-b1be-4c8c-95fc-6ec1039a0911",
   "metadata": {},
   "outputs": [
    {
     "ename": "SyntaxError",
     "evalue": "expected ':' (2931626088.py, line 15)",
     "output_type": "error",
     "traceback": [
      "\u001b[0;36m  Cell \u001b[0;32mIn[8], line 15\u001b[0;36m\u001b[0m\n\u001b[0;31m    if(amount>2999)\u001b[0m\n\u001b[0m                   ^\u001b[0m\n\u001b[0;31mSyntaxError\u001b[0m\u001b[0;31m:\u001b[0m expected ':'\n"
     ]
    }
   ],
   "source": [
    "#Exception:\n",
    "'''\n",
    " an exception is a condition that interrupts the normal flow of the program. Both errors and exceptions are a type of runtime error, which means they occur during the execution of a program.\n",
    "'''\n",
    "#Syntax errors:\n",
    "'''\n",
    "When the proper syntax of the language is not followed then a syntax error is thrown.\n",
    "'''\n",
    "#ex.\n",
    "# initialize the amount variable\n",
    "amount = 10000\n",
    "\n",
    "# check that You are eligible to\n",
    "# purchase Dsa Self Paced or not\n",
    "if(amount>2999)\n",
    "\tprint(\"You are eligible to purchase Dsa Self Paced\")\n",
    "\n",
    "#Exception:-\n",
    "'''\n",
    "When in the runtime an error that occurs after passing \n",
    "the syntax test is called exception or logical type. \n",
    "For example, when we divide any number by zero then the \n",
    "ZeroDivisionError exception is raised, or when we import\n",
    "a module that does not exist then ImportError is raised.\n",
    "'''\n",
    "#Ex\n",
    "# initialize the amount variable\n",
    "marks = 10000\n",
    "\n",
    "# perform division with 0\n",
    "a = marks / 0\n",
    "print(a)\n",
    "\n",
    "\n"
   ]
  },
  {
   "cell_type": "markdown",
   "id": "1f1f4658-00e7-4fe3-8e5a-ae6cbc4c547f",
   "metadata": {},
   "source": [
    "Q2. What happens when an exception is not handled? Explain with an example."
   ]
  },
  {
   "cell_type": "code",
   "execution_count": 9,
   "id": "706d19f4-c3d3-4ffd-ba46-d8b9a99c5d4d",
   "metadata": {},
   "outputs": [
    {
     "name": "stdout",
     "output_type": "stream",
     "text": [
      "Goodbye, world!\n"
     ]
    },
    {
     "ename": "KeyboardInterrupt",
     "evalue": "",
     "output_type": "error",
     "traceback": [
      "\u001b[0;31m---------------------------------------------------------------------------\u001b[0m",
      "\u001b[0;31mKeyboardInterrupt\u001b[0m                         Traceback (most recent call last)",
      "Cell \u001b[0;32mIn[9], line 10\u001b[0m\n\u001b[1;32m      8\u001b[0m \u001b[38;5;66;03m#Ex\u001b[39;00m\n\u001b[1;32m      9\u001b[0m \u001b[38;5;28;01mtry\u001b[39;00m:\n\u001b[0;32m---> 10\u001b[0m     \u001b[38;5;28;01mraise\u001b[39;00m \u001b[38;5;167;01mKeyboardInterrupt\u001b[39;00m\n\u001b[1;32m     11\u001b[0m \u001b[38;5;28;01mfinally\u001b[39;00m:\n\u001b[1;32m     12\u001b[0m     \u001b[38;5;28mprint\u001b[39m(\u001b[38;5;124m'\u001b[39m\u001b[38;5;124mGoodbye, world!\u001b[39m\u001b[38;5;124m'\u001b[39m)\n",
      "\u001b[0;31mKeyboardInterrupt\u001b[0m: "
     ]
    }
   ],
   "source": [
    "'''\n",
    "If an exception occurs during execution of the\n",
    "try clause, the exception may be handled by \n",
    "an except clause. If the exception is not handled \n",
    "by an except clause, the exception is re-raised after \n",
    "the finally clause has been executed.\n",
    "'''\n",
    "#Ex\n",
    "try:\n",
    "    raise KeyboardInterrupt\n",
    "finally:\n",
    "    print('Goodbye, world!')"
   ]
  },
  {
   "cell_type": "markdown",
   "id": "06f09b6c-146d-4316-9863-01e25918e3fe",
   "metadata": {},
   "source": [
    "Q3. Which Python statements are used to catch and handle exceptions? Explain with and example."
   ]
  },
  {
   "cell_type": "code",
   "execution_count": 10,
   "id": "d068f96c-f146-48b9-879b-25050a06ab19",
   "metadata": {},
   "outputs": [
    {
     "name": "stdout",
     "output_type": "stream",
     "text": [
      "Linux function was not executed\n"
     ]
    }
   ],
   "source": [
    "'''\n",
    "The try and except block in Python is used to\n",
    "catch and handle exceptions. Python executes code \n",
    "following the try statement as a “normal” part of the program.\n",
    "'''\n",
    "#Ex\n",
    "try:\n",
    "    linux_interaction()\n",
    "except:\n",
    "    print('Linux function was not executed')"
   ]
  },
  {
   "cell_type": "markdown",
   "id": "688f2db4-dcb6-4609-88da-fdf2a2257cb9",
   "metadata": {},
   "source": [
    "Q4. Explain with and example:\n",
    "a. try and else\n",
    "b.finally\n",
    "c.raise"
   ]
  },
  {
   "cell_type": "code",
   "execution_count": 11,
   "id": "cb01e353-e7d4-4040-b81b-069b60ac3c6e",
   "metadata": {},
   "outputs": [
    {
     "name": "stdout",
     "output_type": "stream",
     "text": [
      "Hello\n",
      "Nothing went wrong\n"
     ]
    }
   ],
   "source": [
    "#a.Try Else:\n",
    "'''\n",
    "You can use the else keyword to define a block of code to be executed if no errors were raised:\n",
    "'''\n",
    "#Example\n",
    "''' In this example, the try block does not generate any error: '''\n",
    "\n",
    "try:\n",
    "  print(\"Hello\")\n",
    "except:\n",
    "  print(\"Something went wrong\")\n",
    "else:\n",
    "  print(\"Nothing went wrong\")"
   ]
  },
  {
   "cell_type": "code",
   "execution_count": 12,
   "id": "25c8601f-52ca-4e6b-bcd6-e9e2b2d05ebf",
   "metadata": {},
   "outputs": [
    {
     "name": "stdout",
     "output_type": "stream",
     "text": [
      "Something went wrong\n",
      "The try...except block is finished\n"
     ]
    }
   ],
   "source": [
    "#b.finally\n",
    "'''\n",
    "The finally block will always be executed, no matter if the try block raises an error or not:\n",
    "'''\n",
    "#Example:\n",
    "try:\n",
    "  x > 3\n",
    "except:\n",
    "  print(\"Something went wrong\")\n",
    "else:\n",
    "  print(\"Nothing went wrong\")\n",
    "finally:\n",
    "  print(\"The try...except block is finished\")"
   ]
  },
  {
   "cell_type": "code",
   "execution_count": 13,
   "id": "6452360c-a8d1-41b7-8ef7-64e6c5c8f6c5",
   "metadata": {},
   "outputs": [
    {
     "ename": "TypeError",
     "evalue": "Only integers are allowed",
     "output_type": "error",
     "traceback": [
      "\u001b[0;31m---------------------------------------------------------------------------\u001b[0m",
      "\u001b[0;31mTypeError\u001b[0m                                 Traceback (most recent call last)",
      "Cell \u001b[0;32mIn[13], line 10\u001b[0m\n\u001b[1;32m      8\u001b[0m x \u001b[38;5;241m=\u001b[39m \u001b[38;5;124m\"\u001b[39m\u001b[38;5;124mhello\u001b[39m\u001b[38;5;124m\"\u001b[39m\n\u001b[1;32m      9\u001b[0m \u001b[38;5;28;01mif\u001b[39;00m \u001b[38;5;129;01mnot\u001b[39;00m \u001b[38;5;28mtype\u001b[39m(x) \u001b[38;5;129;01mis\u001b[39;00m \u001b[38;5;28mint\u001b[39m:\n\u001b[0;32m---> 10\u001b[0m   \u001b[38;5;28;01mraise\u001b[39;00m \u001b[38;5;167;01mTypeError\u001b[39;00m(\u001b[38;5;124m\"\u001b[39m\u001b[38;5;124mOnly integers are allowed\u001b[39m\u001b[38;5;124m\"\u001b[39m)\n",
      "\u001b[0;31mTypeError\u001b[0m: Only integers are allowed"
     ]
    }
   ],
   "source": [
    "#c.raise\n",
    "'''\n",
    "The raise keyword is used to raise an exception.\n",
    "You can define what kind of error to raise, and the text \n",
    "to print to the user.\n",
    "'''\n",
    "#Example\n",
    "x = \"hello\"\n",
    "if not type(x) is int:\n",
    "  raise TypeError(\"Only integers are allowed\")"
   ]
  },
  {
   "cell_type": "markdown",
   "id": "7ac26cb2-178e-4b31-bd93-4e07280332d0",
   "metadata": {},
   "source": [
    "Q5. What are Custom Exeptions in python? Why do we need Custom Exceptions? Explain with an example."
   ]
  },
  {
   "cell_type": "code",
   "execution_count": 14,
   "id": "f1d2be14-66d5-4d8f-9b00-a28e9b8992fa",
   "metadata": {},
   "outputs": [
    {
     "name": "stdin",
     "output_type": "stream",
     "text": [
      "Enter a number:  34\n"
     ]
    },
    {
     "name": "stdout",
     "output_type": "stream",
     "text": [
      "Eligible to Vote\n"
     ]
    }
   ],
   "source": [
    "#ometimes we may need to create our own custom exceptions that serve our purpose.\n",
    "#Ex\n",
    "# define Python user-defined exceptions\n",
    "class InvalidAgeException(Exception):\n",
    "    \"Raised when the input value is less than 18\"\n",
    "    pass\n",
    "\n",
    "# you need to guess this number\n",
    "number = 18\n",
    "\n",
    "try:\n",
    "    input_num = int(input(\"Enter a number: \"))\n",
    "    if input_num < number:\n",
    "        raise InvalidAgeException\n",
    "    else:\n",
    "        print(\"Eligible to Vote\")\n",
    "        \n",
    "except InvalidAgeException:\n",
    "    print(\"Exception occurred: Invalid Age\")"
   ]
  },
  {
   "cell_type": "markdown",
   "id": "8b862688-92e2-42a8-b012-8f460cb37d57",
   "metadata": {},
   "source": [
    "Q6.Create a custom exception class.Use this class to handle an exception."
   ]
  },
  {
   "cell_type": "code",
   "execution_count": 15,
   "id": "49b79883-c088-44b1-a0fd-9c9b25dd3145",
   "metadata": {},
   "outputs": [
    {
     "name": "stdout",
     "output_type": "stream",
     "text": [
      "This is my custom exception\n"
     ]
    }
   ],
   "source": [
    "#Introduction to the Python custom exception\n",
    "'''\n",
    "To create a custom exception class, you define a class that inherits from the built-in Exception class or one of its subclasses such as ValueError class:\n",
    "'''\n",
    "#Ex\n",
    "class CustomException(Exception):\n",
    "    \"\"\" my custom exception class \"\"\"\n",
    "\n",
    "\n",
    "try:\n",
    "    raise CustomException('This is my custom exception')\n",
    "except CustomException as ex:\n",
    "    print(ex)\n",
    "\n"
   ]
  },
  {
   "cell_type": "code",
   "execution_count": null,
   "id": "5f86dce5-60c0-4d55-a6e1-e267ebd29a7c",
   "metadata": {},
   "outputs": [],
   "source": []
  }
 ],
 "metadata": {
  "kernelspec": {
   "display_name": "Python 3 (ipykernel)",
   "language": "python",
   "name": "python3"
  },
  "language_info": {
   "codemirror_mode": {
    "name": "ipython",
    "version": 3
   },
   "file_extension": ".py",
   "mimetype": "text/x-python",
   "name": "python",
   "nbconvert_exporter": "python",
   "pygments_lexer": "ipython3",
   "version": "3.10.8"
  }
 },
 "nbformat": 4,
 "nbformat_minor": 5
}

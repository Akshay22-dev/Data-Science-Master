{
 "cells": [
  {
   "cell_type": "markdown",
   "id": "30dbdb20-3cb4-4678-b9bc-b0959c9ff4b4",
   "metadata": {},
   "source": [
    "Q1. What are the characteristics of the tuples? Is tuple immutable?\n"
   ]
  },
  {
   "cell_type": "markdown",
   "id": "10342e3c-fb2c-4848-b22c-38aa66e5b18a",
   "metadata": {},
   "source": [
    "Ans:\n",
    "1.Tuple items is ordered collection.\n",
    "2.Tuple allows duplicate values.\n",
    "3.Tuple items are unchangeable(immutable).\n",
    "4.Tuple items declare by tuples use parentheses. i.e ()\n",
    "5.Tuple supports forward indexing start from[0] and Backward indexing indexing start from[-1].\n",
    "Yes,Tuple items are unchangeable(immutable).\n"
   ]
  },
  {
   "cell_type": "markdown",
   "id": "c3a6c575-abb1-4e6a-9082-c3fea7b99990",
   "metadata": {},
   "source": [
    "Q2. What are the two tuple methods in python? Give an example of each method. Give a reason why\n",
    "tuples have only two in-built methods as compared to Lists.\n"
   ]
  },
  {
   "cell_type": "markdown",
   "id": "22a0b7e8-d3fd-4b08-a02d-b23dcd3dac78",
   "metadata": {},
   "source": [
    "t1=(1,2,3,5)\n",
    "#Tuple methods Examples:\n",
    "min(t1)\n",
    "max(t1)\n",
    "len(t1)\n",
    "#why tuples have only two in-built methods as compared to Lists:\n",
    "##Ans:Because Tuple is  immutable.\n",
    "\n"
   ]
  },
  {
   "cell_type": "markdown",
   "id": "427e0990-3dce-48d6-8342-1cc5bf1af2ec",
   "metadata": {},
   "source": [
    "Q3. Which collection datatypes in python do not allow duplicate items? Write a code using a set to remove\n",
    "duplicates from the given list.\n",
    "List = [1, 1, 1, 2, 1, 3, 1, 4, 2, 1, 2, 2, 2, 3, 2, 4, 3, 1, 3, 2, 3, 3, 3, 4, 4, 1, 4, 2, 4, 3, 4, 4]\n"
   ]
  },
  {
   "cell_type": "code",
   "execution_count": 2,
   "id": "05c1864f-a9d5-4e13-b165-a7fb095e6ff1",
   "metadata": {},
   "outputs": [
    {
     "name": "stdout",
     "output_type": "stream",
     "text": [
      "[1, 2, 3, 4]\n"
     ]
    }
   ],
   "source": [
    "#Which collection datatypes in python do not allow duplicate items:\n",
    "## Ans: Lists, Tuples and Sets are allows duplicate items.\n",
    "Lst = [1, 1, 1, 2, 1, 3, 1, 4, 2, 1, 2, 2, 2, 3, 2, 4, 3, 1, 3, 2, 3, 3, 3, 4, 4, 1, 4, 2, 4, 3, 4, 4]\n",
    "dup = list(set(Lst))\n",
    "print(dup)"
   ]
  },
  {
   "cell_type": "markdown",
   "id": "38cbca36-8ad6-4ec7-9e13-47474b41c9fe",
   "metadata": {},
   "source": [
    "Q4. Explain the difference between the union() and update() methods for a set. Give an example of\n",
    "each method.\n"
   ]
  },
  {
   "cell_type": "code",
   "execution_count": null,
   "id": "39c2ac25-4fe5-436c-84fb-cd451fa76de9",
   "metadata": {},
   "outputs": [],
   "source": [
    "#Difference between the union() and update() methods for a set:\n",
    "## update() adds all missing elements to the set on which it is called whereas set.\n",
    "#Ex of update():\n",
    "A = {'a', 'b'}\n",
    "B = {1, 2, 3}\n",
    "# updates A after the items of B is added to A\n",
    "A.update(B)\n",
    "print(A)\n",
    "\n",
    "## union() creates a new set.\n",
    "#Ex of union():\n",
    "x = {\"apple\", \"banana\", \"cherry\"}\n",
    "y = {\"google\", \"microsoft\", \"apple\"}\n",
    "\n",
    "z = x.union(y)\n",
    "\n",
    "print(z)"
   ]
  },
  {
   "cell_type": "markdown",
   "id": "0895ca0b-efff-4dbd-acd6-ed36bfd1ccc6",
   "metadata": {},
   "source": [
    "Q5. What is a dictionary? Give an example. Also, state whether a dictionary is ordered or unordered."
   ]
  },
  {
   "cell_type": "code",
   "execution_count": 5,
   "id": "14328821-55fc-4e37-a66b-1bf4fa27e48a",
   "metadata": {},
   "outputs": [
    {
     "name": "stdout",
     "output_type": "stream",
     "text": [
      "{'Nepal': 'Kathmandu', 'Italy': 'Rome', 'England': 'London'}\n"
     ]
    }
   ],
   "source": [
    "# Dictionary:\n",
    "'''\n",
    "1.Dictionaries are used to store data values in key:value pairs.\n",
    "2.A dictionary is a ordered collection.\n",
    "3. A dictionary is changeable(mutable).\n",
    "4.A dictionary do not allow duplicates.\n",
    "'''\n",
    "#Ex.state whether a dictionary is ordered or unordered.\n",
    "capital_city = {\"Nepal\": \"Kathmandu\", \"Italy\": \"Rome\", \"England\": \"London\"}\n",
    "print(capital_city)\n",
    "# as per Ex output it state that dictionary is ordered collection.\n"
   ]
  },
  {
   "cell_type": "markdown",
   "id": "c54aef28-ef6a-4905-99ad-0a3af27a27fe",
   "metadata": {},
   "source": [
    "Q6. Can we create a nested dictionary? If so, please give an example by creating a simple one-level\n",
    "nested dictionary.\n"
   ]
  },
  {
   "cell_type": "code",
   "execution_count": 6,
   "id": "bda7df78-3b93-4cc7-b77b-8699be33ebfd",
   "metadata": {},
   "outputs": [
    {
     "name": "stdout",
     "output_type": "stream",
     "text": [
      "{1: {'name': 'John', 'age': '27', 'sex': 'Male'}, 2: {'name': 'Marie', 'age': '22', 'sex': 'Female'}}\n"
     ]
    }
   ],
   "source": [
    "# Yes,we can create nested dictionary.\n",
    "#Ex.\n",
    "people = {1: {'name': 'John', 'age': '27', 'sex': 'Male'},\n",
    "          2: {'name': 'Marie', 'age': '22', 'sex': 'Female'}}\n",
    "\n",
    "print(people)\n"
   ]
  },
  {
   "cell_type": "markdown",
   "id": "06b4f450-4589-4795-b4b0-857cf7703d27",
   "metadata": {},
   "source": [
    "Q7. Using setdefault() method, create key named topics in the given dictionary and also add the value of\n",
    "the key as this list ['Python', 'Machine Learning’, 'Deep Learning']\n",
    "dict1 = {'language' : 'Python', 'course': 'Data Science Masters'}"
   ]
  },
  {
   "cell_type": "code",
   "execution_count": 11,
   "id": "a8257ade-54fb-4b48-98ad-a63ed2f5fb6a",
   "metadata": {},
   "outputs": [
    {
     "name": "stdout",
     "output_type": "stream",
     "text": [
      "{'language': 'Python', 'course': 'Data Science Masters', 'topics': 'Python'}\n"
     ]
    }
   ],
   "source": [
    "dict1 = {'language' : 'Python', 'course': 'Data Science Masters'}\n",
    "dict1.setdefault('topics','Python')\n",
    "print(dict1)\n"
   ]
  },
  {
   "cell_type": "markdown",
   "id": "f021dd51-5f68-4b77-afa3-7537ec7a6951",
   "metadata": {},
   "source": [
    "Q8. What are the three view objects in dictionaries? Use the three in-built methods in python to display\n",
    "these three view objects for the given dictionary.\n",
    "dict1 = {'Sport': 'Cricket' , 'Teams': ['India', 'Australia', 'England', 'South Africa', 'Sri Lanka', 'New Zealand']}"
   ]
  },
  {
   "cell_type": "code",
   "execution_count": 12,
   "id": "e5a0ddfd-ddfd-4d3d-9eed-6230f0a3cba7",
   "metadata": {},
   "outputs": [
    {
     "name": "stdout",
     "output_type": "stream",
     "text": [
      "{'Sport': 'Cricket', 'Teams': ['India', 'Australia', 'England', 'South Africa', 'Sri Lanka', 'New Zealand']}\n"
     ]
    }
   ],
   "source": [
    "# Ans :: The main view objects of dictionary in python are keys, values and items.\n",
    "dict1 = {'Sport': 'Cricket' , 'Teams': ['India', 'Australia', 'England', 'South Africa', 'Sri Lanka', 'New Zealand']}\n",
    "print(dict1)"
   ]
  },
  {
   "cell_type": "code",
   "execution_count": null,
   "id": "ab83aaad-1c34-468e-aeea-3437af45afd7",
   "metadata": {},
   "outputs": [],
   "source": []
  }
 ],
 "metadata": {
  "kernelspec": {
   "display_name": "Python 3 (ipykernel)",
   "language": "python",
   "name": "python3"
  },
  "language_info": {
   "codemirror_mode": {
    "name": "ipython",
    "version": 3
   },
   "file_extension": ".py",
   "mimetype": "text/x-python",
   "name": "python",
   "nbconvert_exporter": "python",
   "pygments_lexer": "ipython3",
   "version": "3.10.8"
  }
 },
 "nbformat": 4,
 "nbformat_minor": 5
}

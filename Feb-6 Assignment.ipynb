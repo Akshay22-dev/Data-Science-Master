{
 "cells": [
  {
   "cell_type": "markdown",
   "id": "3f65100b-dfb4-4944-baf8-1ea02c7f8151",
   "metadata": {},
   "source": [
    "Q1. Create a function which will take a list as an argument and return the product of all the numbers\n",
    "after creating a flat list.\n",
    "Use the below-given list as an argument for your function.\n",
    "list1 = [1,2,3,4, [44,55,66, True], False, (34,56,78,89,34), {1,2,3,3,2,1}, {1:34, \"key2\": [55, 67, 78, 89], 4: (45,\n",
    "22, 61, 34)}, [56, 'data science'], 'Machine Learning']\n",
    "Note: you must extract numeric keys and values of the dictionary also."
   ]
  },
  {
   "cell_type": "code",
   "execution_count": 3,
   "id": "6dbca461-6eda-456e-80bc-118955cc5994",
   "metadata": {},
   "outputs": [
    {
     "name": "stdout",
     "output_type": "stream",
     "text": [
      "[1, 2, 3, 4, False]\n"
     ]
    }
   ],
   "source": [
    "#Answer:\n",
    "list1 = [1,2,3,4, [44,55,66, True], False, (34,56,78,89,34), {1,2,3,3,2,1}, {1:34, \"key2\": [55, 67, 78, 89], 4: (45,\n",
    "22, 61, 34)}, [56, 'data science'], 'Machine Learning']\n",
    "result = [val for val in list1 if isinstance(val, (int, float))]\n",
    "print(result)\n"
   ]
  },
  {
   "cell_type": "markdown",
   "id": "35d698aa-2e2e-42a5-afd4-3c3f7dae1065",
   "metadata": {},
   "source": [
    "Q2. Write a python program for encrypting a message sent to you by your friend. The logic of encryption\n",
    "should be such that, for a the output should be z. For b, the output should be y. For c, the output should\n",
    "be x respectively. Also, the whitespace should be replaced with a dollar sign. Keep the punctuation\n",
    "marks unchanged.\n",
    "Input Sentence: I want to become a Data Scientist.\n",
    "Encrypt the above input sentence using the program you just created.\n",
    "Note: Convert the given input sentence into lowercase before encrypting. The final output should be\n",
    "lowercase."
   ]
  },
  {
   "cell_type": "code",
   "execution_count": 7,
   "id": "39ddaec4-3da8-411f-b040-71a7609cfc82",
   "metadata": {},
   "outputs": [
    {
     "name": "stdout",
     "output_type": "stream",
     "text": [
      ".ts2tn12cs 0t0d 0 1m3c1b 3t tn0w 2aca\n"
     ]
    }
   ],
   "source": [
    "# Create an input field\n",
    "encrypt = \"I want to become a Data Scientist.\"\n",
    "\n",
    "# Reverse the string\n",
    "num = encrypt[::-1].lower()\n",
    "\n",
    "vow=\"aeiou\"\n",
    "x=\"\"\n",
    "# Replace vowels using loops\n",
    "for i in num:\n",
    "\tif(i in vow):\n",
    "\t\tx+=str(vow.index(i))\n",
    "\telse:\n",
    "\t\tx+=i\n",
    "print(x+\"aca\")\n"
   ]
  },
  {
   "cell_type": "code",
   "execution_count": null,
   "id": "18969f31-efff-4a4f-a937-ca2db81d621b",
   "metadata": {},
   "outputs": [],
   "source": []
  }
 ],
 "metadata": {
  "kernelspec": {
   "display_name": "Python 3 (ipykernel)",
   "language": "python",
   "name": "python3"
  },
  "language_info": {
   "codemirror_mode": {
    "name": "ipython",
    "version": 3
   },
   "file_extension": ".py",
   "mimetype": "text/x-python",
   "name": "python",
   "nbconvert_exporter": "python",
   "pygments_lexer": "ipython3",
   "version": "3.10.8"
  }
 },
 "nbformat": 4,
 "nbformat_minor": 5
}

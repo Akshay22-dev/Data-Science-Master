{
 "cells": [
  {
   "cell_type": "markdown",
   "id": "e2300913-0efe-4f8e-8ebc-8d3a042862f1",
   "metadata": {},
   "source": [
    "Q1. Which keyword is used to create a function? Create a function to return a list of odd numbers in the\n",
    "range of 1 to 25.\n"
   ]
  },
  {
   "cell_type": "code",
   "execution_count": 10,
   "id": "969b3f26-07d9-411d-a81c-a58817a769a8",
   "metadata": {},
   "outputs": [
    {
     "name": "stdout",
     "output_type": "stream",
     "text": [
      "[1, 3, 5, 7, 9, 11, 13, 15, 17, 19, 21, 23]\n"
     ]
    }
   ],
   "source": [
    "# def keyword used for create funtion in python.\n",
    "def odd():\n",
    "    list1 = []\n",
    "    for num in range(1,25):\n",
    "        only_odd = [num for num in list1 if num % 2 == 1]\n",
    "        list1.append(num)\n",
    "    print(only_odd)\n",
    "odd()"
   ]
  },
  {
   "cell_type": "markdown",
   "id": "3efce548-6c19-493d-ad03-60dfae24f40c",
   "metadata": {},
   "source": [
    "Q2. Why *args and **kwargs is used in some functions? Create a function each for *args and **kwargs to\n",
    "demonstrate their use.\n"
   ]
  },
  {
   "cell_type": "code",
   "execution_count": null,
   "id": "d37240bb-80f8-435d-88ea-bb3bb62da816",
   "metadata": {},
   "outputs": [],
   "source": [
    "#Answer:\n",
    "\n",
    "# *args:-\n",
    "'''\n",
    "Python has *args which allow us to pass the variable number of non keyword arguments to function.\n",
    "In the function, we should use an asterisk * before the parameter name to pass variable length arguments.\n",
    "The arguments arepassed as a tuple and these passed arguments make tuple inside the function with same name \n",
    "as the parameter excluding asterisk *.\n",
    "'''\n",
    "#Ex. of *args:-\n",
    "\n",
    "def adder(*num):\n",
    "    sum = 0\n",
    "    \n",
    "    for n in num:\n",
    "        sum = sum + n\n",
    "\n",
    "    print(\"Sum:\",sum)\n",
    "\n",
    "adder(3,5)\n",
    "adder(4,5,6,7)\n",
    "adder(1,2,3,5,6)\n",
    "\n",
    "\n",
    "\n",
    "# **kwargs:-\n",
    "\n",
    "'''\n",
    "Python passes variable length non keyword argument to function using *args but we cannot use this \n",
    "to pass keyword argument. For this problem Python has got a solution called **kwargs, it allows us to pass\n",
    "the variable length of keyword arguments to the function.\n",
    "In the function, we use the double asterisk ** before the parameter name to denote this type of argument. \n",
    "The arguments are passed as a dictionary and these arguments make a dictionary inside function with name \n",
    "same as the parameter excluding double asterisk **.\n",
    "'''\n",
    "#Ex. of **kwargs:-\n",
    "\n",
    "def intro(**data):\n",
    "    print(\"\\nData type of argument:\",type(data))\n",
    "\n",
    "    for key, value in data.items():\n",
    "        print(\"{} is {}\".format(key,value))\n",
    "\n",
    "intro(Firstname=\"Sita\", Lastname=\"Sharma\", Age=22, Phone=1234567890)\n",
    "intro(Firstname=\"John\", Lastname=\"Wood\", Email=\"johnwood@nomail.com\", Country=\"Wakanda\", Age=25, Phone=9876543210)\n",
    "\n"
   ]
  },
  {
   "cell_type": "markdown",
   "id": "a6daf950-e4ab-4896-a2dc-e95bd5800f71",
   "metadata": {},
   "source": [
    "Q3. What is an iterator in python? Name the method used to initialise the iterator object and the method\n",
    "used for iteration. Use these methods to print the first five elements of the given list [2, 4, 6, 8, 10, 12, 14, 16,\n",
    "18, 20]."
   ]
  },
  {
   "cell_type": "code",
   "execution_count": 3,
   "id": "50f580b1-0080-4050-b9b1-25e6667cbd7b",
   "metadata": {},
   "outputs": [
    {
     "name": "stdout",
     "output_type": "stream",
     "text": [
      "[2, 4, 6, 8, 10]\n"
     ]
    }
   ],
   "source": [
    "# iterator in python:\n",
    "'''\n",
    "An iterator is an object that contains a countable number of values. \n",
    "An iterator is an object that can be iterated upon, meaning that you can traverse through all the values. \n",
    "'''\n",
    "#Name the method used to initialise the iterator object and the method used for iteration:\n",
    "'''\n",
    "The iterator object is initialized using the iter() method. It uses the next() method for iteration.\n",
    "1]__iter__(): The iter() method is called for the initialization of an iterator. This returns an iterator object.\n",
    "\n",
    "2]__next__(): The next method returns the next value for the iterable. When we use a for loop to traverse any iterable \n",
    "object, internally it uses the iter() method to get an iterator object, which further uses the next() method to iterate over.\n",
    "This method raises a StopIteration to signal the end of the iteration.\n",
    "'''\n",
    "def printValues():\n",
    "\tl = [2, 4, 6, 8, 10, 12, 14, 16, 18, 20]\n",
    "\tfor i in range(1,5):\n",
    "\t\tl.append(i)\n",
    "\tprint(l[:5]) #To print first 5 elements.\n",
    "\t#print(l[-5:]) # To print last 5 elements.\n",
    "\n",
    "printValues()"
   ]
  },
  {
   "cell_type": "markdown",
   "id": "dad285e7-a3b3-4a78-906d-0ff0f69bffff",
   "metadata": {},
   "source": [
    "Q4. What is a generator function in python? Why yield keyword is used? Give an example of a generator\n",
    "function."
   ]
  },
  {
   "cell_type": "code",
   "execution_count": 5,
   "id": "8b06cd75-9e0e-422f-abc0-e7d83781f2b1",
   "metadata": {},
   "outputs": [
    {
     "name": "stdout",
     "output_type": "stream",
     "text": [
      "0\n",
      "1\n",
      "1\n",
      "2\n",
      "3\n",
      "5\n",
      "8\n",
      "13\n",
      "21\n",
      "34\n"
     ]
    }
   ],
   "source": [
    "# Generator:\n",
    "'''\n",
    "A generator is a function that returns an iterator that produces a sequence of values when iterated over.\n",
    "Generators are useful when we want to produce a large sequence of values,but we don't want to store all of \n",
    "them in memory at once.\n",
    "'''\n",
    "# Why yield keyword is used:\n",
    "'''\n",
    "The advantages of using yield keywords instead of return are that the values returned by yield statement are\n",
    "stored as local variables states, which allows control over memory overhead allocation. Also, each time, the \n",
    "execution does not start from the beginning, since the previous state is retained.\n",
    "'''\n",
    "# Ex of Generator:\n",
    "def test_fib(n):\n",
    "    a,b=0,1\n",
    "    for i in range(n):\n",
    "         yield a\n",
    "         a,b = b ,a+b\n",
    "test_fib(10)\n",
    "for i in test_fib(10):\n",
    "    print(i)"
   ]
  },
  {
   "cell_type": "markdown",
   "id": "bae49f3d-fd70-4160-adf3-77bf868376cf",
   "metadata": {},
   "source": [
    "Q5. Create a generator function for prime numbers less than 1000. Use the next() method to print the\n",
    "first 20 prime numbers."
   ]
  },
  {
   "cell_type": "code",
   "execution_count": null,
   "id": "c4342ddf-f2e7-4627-8087-408a4746415e",
   "metadata": {},
   "outputs": [],
   "source": []
  }
 ],
 "metadata": {
  "kernelspec": {
   "display_name": "Python 3 (ipykernel)",
   "language": "python",
   "name": "python3"
  },
  "language_info": {
   "codemirror_mode": {
    "name": "ipython",
    "version": 3
   },
   "file_extension": ".py",
   "mimetype": "text/x-python",
   "name": "python",
   "nbconvert_exporter": "python",
   "pygments_lexer": "ipython3",
   "version": "3.10.8"
  }
 },
 "nbformat": 4,
 "nbformat_minor": 5
}

{
 "cells": [
  {
   "cell_type": "code",
   "execution_count": 1,
   "id": "67712be5-e5db-48df-84ed-74066722bcb2",
   "metadata": {},
   "outputs": [
    {
     "name": "stdin",
     "output_type": "stream",
     "text": [
      "Enter your number or string: 121\n"
     ]
    }
   ],
   "source": [
    "n=input(\"Enter your number or string:\")"
   ]
  },
  {
   "cell_type": "code",
   "execution_count": 3,
   "id": "1ee57015-cc3e-4234-a0df-e15414b0d5d4",
   "metadata": {},
   "outputs": [],
   "source": [
    "temp=n[::-1]"
   ]
  },
  {
   "cell_type": "code",
   "execution_count": 8,
   "id": "82bacb06-cc8e-4c3e-8524-f0e04061b34d",
   "metadata": {},
   "outputs": [
    {
     "name": "stdout",
     "output_type": "stream",
     "text": [
      "No/string is palindrome\n"
     ]
    }
   ],
   "source": [
    "if temp==n:\n",
    "    print(\"No/string is palindrome\")\n",
    "else:\n",
    "    print(\"Not palindrome\")"
   ]
  },
  {
   "cell_type": "code",
   "execution_count": 12,
   "id": "7b147199-1c5e-40df-a461-30e45229e79c",
   "metadata": {},
   "outputs": [
    {
     "name": "stdin",
     "output_type": "stream",
     "text": [
      "Enter your number or string: 121\n"
     ]
    },
    {
     "name": "stdout",
     "output_type": "stream",
     "text": [
      "No/string is palindrome\n"
     ]
    }
   ],
   "source": [
    "n=input(\"Enter your number or string:\")\n",
    "temp=n[::-1]\n",
    "if temp==n:\n",
    "    print(\"No/string is palindrome\")\n",
    "else:\n",
    "    print(\"Not palindrome\")"
   ]
  },
  {
   "cell_type": "code",
   "execution_count": null,
   "id": "1d5a1cd7-b3fb-4001-ac78-5e0cf8c8381f",
   "metadata": {},
   "outputs": [],
   "source": []
  },
  {
   "cell_type": "code",
   "execution_count": 17,
   "id": "f1d029f1-ffb3-4c09-a736-acb8ad985831",
   "metadata": {},
   "outputs": [
    {
     "name": "stdout",
     "output_type": "stream",
     "text": [
      "lst1: [2, 4, 6, 8]   lst2: [1, 3, 5, 7]\n"
     ]
    }
   ],
   "source": [
    "lst1=[1,3,5,7]\n",
    "lst2=[2,4,6,8]\n",
    "#swap a list\n",
    "lst1,lst2=lst2,lst1\n",
    "print(\"lst1:\",lst1,\" \",\"lst2:\",lst2)"
   ]
  },
  {
   "cell_type": "code",
   "execution_count": 20,
   "id": "edf02bf3-84c6-4ed1-985f-e8ac492ed636",
   "metadata": {},
   "outputs": [
    {
     "name": "stdout",
     "output_type": "stream",
     "text": [
      "My age is: 32\n"
     ]
    }
   ],
   "source": [
    "age=32\n",
    "print(\"My age is:\", age)"
   ]
  },
  {
   "cell_type": "code",
   "execution_count": 23,
   "id": "2faac49a-683d-49d2-ab8b-4ac06292dca9",
   "metadata": {},
   "outputs": [
    {
     "name": "stdout",
     "output_type": "stream",
     "text": [
      "My age is:32\n"
     ]
    }
   ],
   "source": [
    "print(f\"My age is:{age}\")"
   ]
  },
  {
   "cell_type": "code",
   "execution_count": 26,
   "id": "e7ba3940-5d84-47ed-b655-41c367b848ff",
   "metadata": {},
   "outputs": [
    {
     "name": "stdout",
     "output_type": "stream",
     "text": [
      "My name is Akshay and age is 25\n"
     ]
    }
   ],
   "source": [
    "name=\"Akshay\"\n",
    "age=25\n",
    "print(\"My name is {} and age is {}\".format(name,age)) #for less parameter"
   ]
  },
  {
   "cell_type": "code",
   "execution_count": 30,
   "id": "e6c2bed5-9784-462a-9aa2-b728ae5395e8",
   "metadata": {},
   "outputs": [
    {
     "name": "stdout",
     "output_type": "stream",
     "text": [
      "My name is Akshay and age is 25\n"
     ]
    }
   ],
   "source": [
    "name=\"Akshay\"\n",
    "age=25\n",
    "print(\"My name is {fname} and age is {fage}\".format(fname=name,fage=age))# this is for nuber of parameter are infinte"
   ]
  },
  {
   "cell_type": "code",
   "execution_count": 31,
   "id": "45aef675-a588-4412-85d2-757b4a7ad52a",
   "metadata": {},
   "outputs": [],
   "source": [
    "#############Control Flow\n",
    "#########################\n",
    "#Descision Making stateements:\n",
    "#1.if\n",
    "#2.if else \n",
    "#3.if elif else\n",
    "#4 nested If\n",
    "#5.single staement suites\n",
    "\n",
    "\n"
   ]
  },
  {
   "cell_type": "code",
   "execution_count": 35,
   "id": "c11a047b-0ccd-43f9-bf45-4bf5271416ac",
   "metadata": {},
   "outputs": [
    {
     "name": "stdout",
     "output_type": "stream",
     "text": [
      "You are eligible to vote\n"
     ]
    }
   ],
   "source": [
    "#if statement:\n",
    "age=18\n",
    "if age>=18:\n",
    "    print(\"You are eligible to vote\")\n",
    "    "
   ]
  },
  {
   "cell_type": "code",
   "execution_count": 39,
   "id": "8cf33254-812a-4f6c-951b-93e9f582f84a",
   "metadata": {},
   "outputs": [
    {
     "name": "stdout",
     "output_type": "stream",
     "text": [
      "You are Not eligible to vote\n"
     ]
    }
   ],
   "source": [
    "age=18\n",
    "if age<=18:\n",
    "    print(\"You are Not eligible to vote\")"
   ]
  },
  {
   "cell_type": "code",
   "execution_count": 40,
   "id": "3d917af4-e898-4bc5-9909-ac816b5239f5",
   "metadata": {},
   "outputs": [
    {
     "name": "stdout",
     "output_type": "stream",
     "text": [
      "B is grater\n"
     ]
    }
   ],
   "source": [
    "##greater number\n",
    "a=10\n",
    "b=20\n",
    "if a>b:\n",
    "    print(\"A is greater\")\n",
    "else:\n",
    "    print(\"B is grater\")"
   ]
  },
  {
   "cell_type": "code",
   "execution_count": 43,
   "id": "5b5fa1b0-6a17-48dd-b0dd-67406f147920",
   "metadata": {},
   "outputs": [
    {
     "name": "stdin",
     "output_type": "stream",
     "text": [
      "Enter your 1st Number: 30\n",
      "Enter your 2nd  Number: 20\n",
      "Enter your 3rd Number: 10\n"
     ]
    },
    {
     "name": "stdout",
     "output_type": "stream",
     "text": [
      "A is greatr than B and C\n"
     ]
    }
   ],
   "source": [
    "## Greater in 3 number:\n",
    "a=int(input(\"Enter your 1st Number:\"))\n",
    "b=int(input(\"Enter your 2nd  Number:\"))\n",
    "c=int(input(\"Enter your 3rd Number:\"))\n",
    "if a>b and a>c:\n",
    "    print(\"A is greatr than B and C\")\n",
    "elif b>a and b>c:\n",
    "    print(\"B is greater than A and C\")\n",
    "elif c>a and c>b:\n",
    "    print(\"C is grater than A and B\")\n",
    "else:\n",
    "    print(\"All are same\")"
   ]
  },
  {
   "cell_type": "code",
   "execution_count": null,
   "id": "21860df9-28dd-484b-9d8f-2dc8d30ced9c",
   "metadata": {},
   "outputs": [],
   "source": []
  }
 ],
 "metadata": {
  "kernelspec": {
   "display_name": "Python 3 (ipykernel)",
   "language": "python",
   "name": "python3"
  },
  "language_info": {
   "codemirror_mode": {
    "name": "ipython",
    "version": 3
   },
   "file_extension": ".py",
   "mimetype": "text/x-python",
   "name": "python",
   "nbconvert_exporter": "python",
   "pygments_lexer": "ipython3",
   "version": "3.10.8"
  }
 },
 "nbformat": 4,
 "nbformat_minor": 5
}

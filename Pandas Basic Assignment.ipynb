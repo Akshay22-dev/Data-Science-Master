{
 "cells": [
  {
   "cell_type": "markdown",
   "id": "0befe7cd-2300-45d5-839e-7e17166984df",
   "metadata": {},
   "source": [
    "Q1. Create a Pandas Series that contains the following data: 4, 8, 15, 16, 23, and 42. Then, print the series."
   ]
  },
  {
   "cell_type": "code",
   "execution_count": 1,
   "id": "b76931f8-8edd-4cfd-8520-8e47e7598642",
   "metadata": {},
   "outputs": [
    {
     "name": "stdout",
     "output_type": "stream",
     "text": [
      "0     4\n",
      "1     8\n",
      "2    15\n",
      "3    16\n",
      "4    23\n",
      "5    42\n",
      "dtype: int64\n"
     ]
    }
   ],
   "source": [
    "import pandas as pd\n",
    "\n",
    "data = [4, 8, 15, 16, 23, 42]\n",
    "series = pd.Series(data)\n",
    "\n",
    "print(series)\n"
   ]
  },
  {
   "cell_type": "markdown",
   "id": "5ac7e930-2059-4728-996a-816de3692caa",
   "metadata": {},
   "source": [
    "Q2. Create a variable of list type containing 10 elements in it, and apply pandas.Series function on the\n",
    "variable print it."
   ]
  },
  {
   "cell_type": "code",
   "execution_count": 2,
   "id": "7369f018-e1b0-48b6-a2c9-da6e884ca092",
   "metadata": {},
   "outputs": [
    {
     "name": "stdout",
     "output_type": "stream",
     "text": [
      "0     10\n",
      "1     20\n",
      "2     30\n",
      "3     40\n",
      "4     50\n",
      "5     60\n",
      "6     70\n",
      "7     80\n",
      "8     90\n",
      "9    100\n",
      "dtype: int64\n"
     ]
    }
   ],
   "source": [
    "import pandas as pd\n",
    "\n",
    "my_list = [10, 20, 30, 40, 50, 60, 70, 80, 90, 100]\n",
    "\n",
    "series = pd.Series(my_list)\n",
    "print(series)\n"
   ]
  },
  {
   "cell_type": "markdown",
   "id": "18fbd6c4-eb8c-4158-ab3c-573644a8b356",
   "metadata": {},
   "source": [
    "Q3. Create a Pandas DataFrame that contains the following data:\n",
    "    Name\n",
    "Alice\n",
    "Bob\n",
    "Claire\n",
    "\n",
    "Age\n",
    "25\n",
    "30\n",
    "27\n",
    "\n",
    "Gender\n",
    "Female\n",
    "Male\n",
    "Female\n",
    "Then, print the DataFrame."
   ]
  },
  {
   "cell_type": "code",
   "execution_count": 3,
   "id": "ace4e77f-1e4e-4b1d-bc4e-4027554c91e0",
   "metadata": {},
   "outputs": [
    {
     "name": "stdout",
     "output_type": "stream",
     "text": [
      "    Name  Age  Gender\n",
      "0  Alice   25  Female\n",
      "1    Bob   30    Male\n",
      "2  Clair   27  Female\n"
     ]
    }
   ],
   "source": [
    "import pandas as pd\n",
    "\n",
    "data = {\n",
    "    'Name': ['Alice', 'Bob', 'Clair'],\n",
    "    'Age': [25, 30, 27],\n",
    "    'Gender': ['Female', 'Male', 'Female']\n",
    "}\n",
    "\n",
    "df = pd.DataFrame(data)\n",
    "\n",
    "print(df)\n"
   ]
  },
  {
   "cell_type": "markdown",
   "id": "cd8ba1b8-ad12-412e-a000-44c3ee88acf6",
   "metadata": {},
   "source": [
    "Q4. What is ‘DataFrame’ in pandas and how is it different from pandas.series? Explain with an example."
   ]
  },
  {
   "cell_type": "code",
   "execution_count": 4,
   "id": "cda7254e-bc56-46cb-bd7f-3b96419e0071",
   "metadata": {},
   "outputs": [
    {
     "name": "stdout",
     "output_type": "stream",
     "text": [
      "DataFrame:\n",
      "   Name  Age Occupation\n",
      "0  John   25   Engineer\n",
      "1  Jane   30     Doctor\n",
      "2   Jim   35    Teacher\n",
      "3  Joan   40     Lawyer\n",
      "\n",
      "Series:\n",
      "0    25\n",
      "1    30\n",
      "2    35\n",
      "3    40\n",
      "Name: Age, dtype: int64\n"
     ]
    }
   ],
   "source": [
    "'''\n",
    "Here's how a DataFrame is different from a Pandas Series:\n",
    "\n",
    "Dimensionality:\n",
    "\n",
    "1.DataFrame: Two-dimensional (rows and columns).\n",
    "Series: One-dimensional (a single column or row of data).\n",
    "Structure:\n",
    "\n",
    "2.DataFrame: Can contain multiple columns, and each column can have a different data type.\n",
    "Series: Contains a single column of data with a homogeneous data type.\n",
    "Indexing:\n",
    "\n",
    "3.DataFrame: Has both row and column labels (row index and column names).\n",
    "Series: Has an index (row labels), which can be custom or default, but no column names.\n",
    "'''\n",
    "#Example\n",
    "import pandas as pd\n",
    "\n",
    "# Creating a DataFrame\n",
    "data = {'Name': ['John', 'Jane', 'Jim', 'Joan'],\n",
    "        'Age': [25, 30, 35, 40],\n",
    "        'Occupation': ['Engineer', 'Doctor', 'Teacher', 'Lawyer']}\n",
    "df = pd.DataFrame(data)\n",
    "\n",
    "# Creating a Series\n",
    "ages = pd.Series([25, 30, 35, 40], name='Age')\n",
    "\n",
    "# Printing DataFrame and Series\n",
    "print(\"DataFrame:\")\n",
    "print(df)\n",
    "print(\"\\nSeries:\")\n",
    "print(ages)\n"
   ]
  },
  {
   "cell_type": "markdown",
   "id": "a4f5b2ba-0b15-4702-a30b-6e21a81635d1",
   "metadata": {},
   "source": [
    "Q5. What are some common functions you can use to manipulate data in a Pandas DataFrame? Can\n",
    "you give an example of when you might use one of these functions?"
   ]
  },
  {
   "cell_type": "code",
   "execution_count": 5,
   "id": "baa430ec-83cf-4832-bf15-2165fe099685",
   "metadata": {},
   "outputs": [
    {
     "data": {
      "text/plain": [
       "\"\\nPandas provides a wide range of functions to manipulate data in a DataFrame. Some common functions and methods include\\n\\n1.Selection and Filtering:\\nloc[] and iloc[]: Used to select specific rows and columns by labels or integer location, respectively.\\n[] (square brackets): Used for column selection.\\nquery(): Allows you to filter rows based on a query expression.\\n\\nExample:\\npython\\nCopy code\\ndf.loc[df['Age'] > 30]  # Select rows where Age > 30\\n\\n2.Sorting:\\nsort_values(): Sorts the DataFrame by one or more columns.\\nsort_index(): Sorts the DataFrame by row or column index.\\n\\nExample:\\npython\\nCopy code\\ndf.sort_values(by='Age', ascending=False)  # Sort by Age in descending order\\n\\n3.Aggregation and Grouping:\\ngroupby(): Groups data based on a specified column and allows you to perform aggregation operations.\\nAggregation functions like sum(), mean(), count(), etc.\\n\\nExample:\\npython\\nCopy code\\ndf.groupby('Occupation')['Age'].mean()  # Calculate the mean age by occupation\\n\\n4.Data Cleaning:\\ndrop(): Removes specified rows or columns.\\nfillna(): Fills missing values with specified values.\\ndrop_duplicates(): Removes duplicate rows.\\n\\nExample:\\npython\\nCopy code\\ndf.drop(columns=['Occupation'])  # Remove the 'Occupation' column\\n\\n5.Data Transformation:\\napply(): Applies a function to each element or column.\\nmap(): Applies a function to each element in a Series.\\nreplace(): Replaces values with other values.\\n\\nExample:\\npython\\nCopy code\\ndf['Age'].apply(lambda x: x + 5)  # Add 5 to each age value\\n\\n6.Merging and Joining:\\nmerge(): Combines multiple DataFrames based on common columns.\\nconcat(): Concatenates DataFrames along rows or columns.\\n\\nExample:\\npython\\nCopy code\\nmerged_df = pd.merge(df1, df2, on='key')  # Merge two DataFrames on a common 'key' column\\n\\n7.Reshaping and Pivoting:\\npivot(): Reshapes data from long to wide format.\\nmelt(): Reshapes data from wide to long format.\\n\\nExample:\\npython\\nCopy code\\ndf.pivot(index='Name', columns='Occupation', values\\n\""
      ]
     },
     "execution_count": 5,
     "metadata": {},
     "output_type": "execute_result"
    }
   ],
   "source": [
    "'''\n",
    "Pandas provides a wide range of functions to manipulate data in a DataFrame. Some common functions and methods include\n",
    "\n",
    "1.Selection and Filtering:\n",
    "loc[] and iloc[]: Used to select specific rows and columns by labels or integer location, respectively.\n",
    "[] (square brackets): Used for column selection.\n",
    "query(): Allows you to filter rows based on a query expression.\n",
    "\n",
    "Example:\n",
    "python\n",
    "Copy code\n",
    "df.loc[df['Age'] > 30]  # Select rows where Age > 30\n",
    "\n",
    "2.Sorting:\n",
    "sort_values(): Sorts the DataFrame by one or more columns.\n",
    "sort_index(): Sorts the DataFrame by row or column index.\n",
    "\n",
    "Example:\n",
    "python\n",
    "Copy code\n",
    "df.sort_values(by='Age', ascending=False)  # Sort by Age in descending order\n",
    "\n",
    "3.Aggregation and Grouping:\n",
    "groupby(): Groups data based on a specified column and allows you to perform aggregation operations.\n",
    "Aggregation functions like sum(), mean(), count(), etc.\n",
    "\n",
    "Example:\n",
    "python\n",
    "Copy code\n",
    "df.groupby('Occupation')['Age'].mean()  # Calculate the mean age by occupation\n",
    "\n",
    "4.Data Cleaning:\n",
    "drop(): Removes specified rows or columns.\n",
    "fillna(): Fills missing values with specified values.\n",
    "drop_duplicates(): Removes duplicate rows.\n",
    "\n",
    "Example:\n",
    "python\n",
    "Copy code\n",
    "df.drop(columns=['Occupation'])  # Remove the 'Occupation' column\n",
    "\n",
    "5.Data Transformation:\n",
    "apply(): Applies a function to each element or column.\n",
    "map(): Applies a function to each element in a Series.\n",
    "replace(): Replaces values with other values.\n",
    "\n",
    "Example:\n",
    "python\n",
    "Copy code\n",
    "df['Age'].apply(lambda x: x + 5)  # Add 5 to each age value\n",
    "\n",
    "6.Merging and Joining:\n",
    "merge(): Combines multiple DataFrames based on common columns.\n",
    "concat(): Concatenates DataFrames along rows or columns.\n",
    "\n",
    "Example:\n",
    "python\n",
    "Copy code\n",
    "merged_df = pd.merge(df1, df2, on='key')  # Merge two DataFrames on a common 'key' column\n",
    "\n",
    "7.Reshaping and Pivoting:\n",
    "pivot(): Reshapes data from long to wide format.\n",
    "melt(): Reshapes data from wide to long format.\n",
    "\n",
    "Example:\n",
    "python\n",
    "Copy code\n",
    "df.pivot(index='Name', columns='Occupation', values\n",
    "'''"
   ]
  },
  {
   "cell_type": "markdown",
   "id": "bdf3c07d-b7a6-4b31-b324-32bea9bf3d95",
   "metadata": {},
   "source": [
    "Q6. Which of the following is mutable in nature Series, DataFrame, Panel?"
   ]
  },
  {
   "cell_type": "code",
   "execution_count": 6,
   "id": "7cb7d2f8-5768-469a-89ad-7eafae6cedc0",
   "metadata": {},
   "outputs": [
    {
     "data": {
      "text/plain": [
       "'\\nIn Pandas, the following data structures are mutable:\\n\\n1.DataFrame: DataFrames are mutable, meaning you can change their content after creation. You can add or remove rows and columns, update values, \\nand perform various data manipulation operations on DataFrames.\\n\\n2.Series: While Series are also mutable, they are more limited in their mutability compared to DataFrames. You can change the values within a Series, \\nbut you cannot change the index labels or the data type of the Series.\\n\\n3.Panel: Pandas Panel has been deprecated in recent versions (0.25.0 and later) and is no longer recommended for use. Instead, \\nyou should use other data structures like DataFrames with MultiIndexes. However, when Panels were available, they were also mutable.\\n'"
      ]
     },
     "execution_count": 6,
     "metadata": {},
     "output_type": "execute_result"
    }
   ],
   "source": [
    "'''\n",
    "In Pandas, the following data structures are mutable:\n",
    "\n",
    "1.DataFrame: DataFrames are mutable, meaning you can change their content after creation. You can add or remove rows and columns, update values, \n",
    "and perform various data manipulation operations on DataFrames.\n",
    "\n",
    "2.Series: While Series are also mutable, they are more limited in their mutability compared to DataFrames. You can change the values within a Series, \n",
    "but you cannot change the index labels or the data type of the Series.\n",
    "\n",
    "3.Panel: Pandas Panel has been deprecated in recent versions (0.25.0 and later) and is no longer recommended for use. Instead, \n",
    "you should use other data structures like DataFrames with MultiIndexes. However, when Panels were available, they were also mutable.\n",
    "'''\n",
    "\n",
    "\n",
    "\n",
    "\n"
   ]
  },
  {
   "cell_type": "markdown",
   "id": "a80e25c0-d090-4698-9ac7-f9ddb388ef0e",
   "metadata": {},
   "source": [
    "Q7. Create a DataFrame using multiple Series. Explain with an example."
   ]
  },
  {
   "cell_type": "code",
   "execution_count": 7,
   "id": "3ee8db03-75f8-41f7-ab56-27404a9a68af",
   "metadata": {},
   "outputs": [
    {
     "name": "stdout",
     "output_type": "stream",
     "text": [
      "   Name  Age Occupation\n",
      "0  John   25   Engineer\n",
      "1  Jane   30     Doctor\n",
      "2   Jim   35    Teacher\n",
      "3  Joan   40     Lawyer\n"
     ]
    }
   ],
   "source": [
    "import pandas as pd\n",
    "\n",
    "# Create multiple Series\n",
    "names = pd.Series(['John', 'Jane', 'Jim', 'Joan'])\n",
    "ages = pd.Series([25, 30, 35, 40])\n",
    "occupations = pd.Series(['Engineer', 'Doctor', 'Teacher', 'Lawyer'])\n",
    "\n",
    "# Combine the Series into a DataFrame\n",
    "data = {\n",
    "    'Name': names,\n",
    "    'Age': ages,\n",
    "    'Occupation': occupations\n",
    "}\n",
    "\n",
    "df = pd.DataFrame(data)\n",
    "\n",
    "# Print the resulting DataFrame\n",
    "print(df)\n"
   ]
  },
  {
   "cell_type": "code",
   "execution_count": null,
   "id": "4e2ffbd2-fe6a-409a-a711-e26dbfa3b082",
   "metadata": {},
   "outputs": [],
   "source": []
  }
 ],
 "metadata": {
  "kernelspec": {
   "display_name": "Python 3 (ipykernel)",
   "language": "python",
   "name": "python3"
  },
  "language_info": {
   "codemirror_mode": {
    "name": "ipython",
    "version": 3
   },
   "file_extension": ".py",
   "mimetype": "text/x-python",
   "name": "python",
   "nbconvert_exporter": "python",
   "pygments_lexer": "ipython3",
   "version": "3.10.8"
  }
 },
 "nbformat": 4,
 "nbformat_minor": 5
}

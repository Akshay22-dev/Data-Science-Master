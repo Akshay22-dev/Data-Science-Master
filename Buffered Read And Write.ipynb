{
 "cells": [
  {
   "cell_type": "code",
   "execution_count": 1,
   "id": "5097796f-059b-41f4-83b1-c918d1af44de",
   "metadata": {},
   "outputs": [],
   "source": [
    "import io"
   ]
  },
  {
   "cell_type": "code",
   "execution_count": 2,
   "id": "3b44a768-06d4-4d45-bc7f-679f3e9c53f4",
   "metadata": {},
   "outputs": [],
   "source": [
    "with open(\"test.txt\",\"wb\") as f:\n",
    "    file = io.BufferedWriter(f)\n",
    "    file.write(b\"this is my bufferwrite\\n\")\n",
    "    file.write(b\"this is my second line that i am trying to write\")\n",
    "    file.flush()"
   ]
  },
  {
   "cell_type": "code",
   "execution_count": 5,
   "id": "e67ae2d6-aaa9-45f0-9544-9a14da7a2b02",
   "metadata": {},
   "outputs": [
    {
     "name": "stdout",
     "output_type": "stream",
     "text": [
      "b'this is my'\n"
     ]
    }
   ],
   "source": [
    "with open(\"test.txt\",\"rb\") as f:\n",
    "    file = io.BufferedReader(f)\n",
    "    data = file.read(10)\n",
    "    print(data)"
   ]
  },
  {
   "cell_type": "code",
   "execution_count": null,
   "id": "724f2893-817f-4163-8372-da54fd842961",
   "metadata": {},
   "outputs": [],
   "source": []
  }
 ],
 "metadata": {
  "kernelspec": {
   "display_name": "Python 3 (ipykernel)",
   "language": "python",
   "name": "python3"
  },
  "language_info": {
   "codemirror_mode": {
    "name": "ipython",
    "version": 3
   },
   "file_extension": ".py",
   "mimetype": "text/x-python",
   "name": "python",
   "nbconvert_exporter": "python",
   "pygments_lexer": "ipython3",
   "version": "3.10.8"
  }
 },
 "nbformat": 4,
 "nbformat_minor": 5
}

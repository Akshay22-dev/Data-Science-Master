{
 "cells": [
  {
   "cell_type": "code",
   "execution_count": 4,
   "id": "46008b13-ac3e-4d18-8c9a-0ad13feefa5e",
   "metadata": {},
   "outputs": [],
   "source": [
    "def test():\n",
    "    pass\n",
    "    "
   ]
  },
  {
   "cell_type": "code",
   "execution_count": 6,
   "id": "d4385289-0945-48c6-a21a-629447647fa7",
   "metadata": {},
   "outputs": [
    {
     "name": "stdout",
     "output_type": "stream",
     "text": [
      "This is my very first first fuction\n"
     ]
    }
   ],
   "source": [
    "def test1():\n",
    "    print(\"This is my very first first fuction\") # defining function\n",
    "test1() # calling function"
   ]
  },
  {
   "cell_type": "code",
   "execution_count": 1,
   "id": "f8407d96-4be3-4665-840d-ab22e6fef692",
   "metadata": {},
   "outputs": [
    {
     "data": {
      "text/plain": [
       "(12, 13, 'Pwskill', 34.13)"
      ]
     },
     "execution_count": 1,
     "metadata": {},
     "output_type": "execute_result"
    }
   ],
   "source": [
    "def test3():\n",
    "    return 12,13,\"Pwskill\",34.13\n",
    "test3()"
   ]
  },
  {
   "cell_type": "code",
   "execution_count": 2,
   "id": "c990390d-3439-45da-ba99-0a72b873a8db",
   "metadata": {},
   "outputs": [
    {
     "data": {
      "text/plain": [
       "12"
      ]
     },
     "execution_count": 2,
     "metadata": {},
     "output_type": "execute_result"
    }
   ],
   "source": [
    "test3()[0]"
   ]
  },
  {
   "cell_type": "code",
   "execution_count": 3,
   "id": "10838df9-2644-4d77-8c39-235443d2b15d",
   "metadata": {},
   "outputs": [
    {
     "data": {
      "text/plain": [
       "13"
      ]
     },
     "execution_count": 3,
     "metadata": {},
     "output_type": "execute_result"
    }
   ],
   "source": [
    "test3()[1]"
   ]
  },
  {
   "cell_type": "code",
   "execution_count": 4,
   "id": "489a2baf-30e5-46d1-b02f-ad761670cb36",
   "metadata": {},
   "outputs": [
    {
     "data": {
      "text/plain": [
       "'Pwskill'"
      ]
     },
     "execution_count": 4,
     "metadata": {},
     "output_type": "execute_result"
    }
   ],
   "source": [
    "test3()[2]"
   ]
  },
  {
   "cell_type": "code",
   "execution_count": 5,
   "id": "dda956b6-cc0a-4491-8639-70104155bc52",
   "metadata": {},
   "outputs": [
    {
     "data": {
      "text/plain": [
       "34.13"
      ]
     },
     "execution_count": 5,
     "metadata": {},
     "output_type": "execute_result"
    }
   ],
   "source": [
    "test3()[3]"
   ]
  },
  {
   "cell_type": "code",
   "execution_count": 1,
   "id": "06a67b9f-82b3-4d1e-8619-85952fe9ef59",
   "metadata": {},
   "outputs": [
    {
     "data": {
      "text/plain": [
       "17"
      ]
     },
     "execution_count": 1,
     "metadata": {},
     "output_type": "execute_result"
    }
   ],
   "source": [
    "def test4():\n",
    "    a = 3*4 + 5\n",
    "    return a\n",
    "test4()"
   ]
  },
  {
   "cell_type": "code",
   "execution_count": 2,
   "id": "925251db-c1de-48a3-8efc-ba7ff753cbe3",
   "metadata": {},
   "outputs": [
    {
     "data": {
      "text/plain": [
       "int"
      ]
     },
     "execution_count": 2,
     "metadata": {},
     "output_type": "execute_result"
    }
   ],
   "source": [
    "type(test4())"
   ]
  },
  {
   "cell_type": "code",
   "execution_count": 7,
   "id": "f3d1a74c-0dae-4846-9899-9373de271a5c",
   "metadata": {},
   "outputs": [],
   "source": [
    "def test5(a,b):\n",
    "    c = a + b\n",
    "    return c\n"
   ]
  },
  {
   "cell_type": "code",
   "execution_count": 8,
   "id": "7ead12d0-75d5-42c8-bb86-cfd2d3b8dd98",
   "metadata": {},
   "outputs": [
    {
     "data": {
      "text/plain": [
       "4"
      ]
     },
     "execution_count": 8,
     "metadata": {},
     "output_type": "execute_result"
    }
   ],
   "source": [
    "test5(1,3)"
   ]
  },
  {
   "cell_type": "code",
   "execution_count": 9,
   "id": "7c175275-a82d-487b-b075-b8929c67467d",
   "metadata": {},
   "outputs": [
    {
     "data": {
      "text/plain": [
       "'AksahyHande'"
      ]
     },
     "execution_count": 9,
     "metadata": {},
     "output_type": "execute_result"
    }
   ],
   "source": [
    "test5(\"Aksahy\",\"Hande\") # string concatination operation on string "
   ]
  },
  {
   "cell_type": "code",
   "execution_count": 15,
   "id": "dfe6e512-d8c5-4d6a-ad01-f3ab750cfdfe",
   "metadata": {},
   "outputs": [
    {
     "data": {
      "text/plain": [
       "'HandeAksahy'"
      ]
     },
     "execution_count": 15,
     "metadata": {},
     "output_type": "execute_result"
    }
   ],
   "source": [
    "test5(b = \"Aksahy\" , a = \"Hande\")"
   ]
  },
  {
   "cell_type": "code",
   "execution_count": 16,
   "id": "0dde1fb2-c96b-4db4-b28e-ba6160961500",
   "metadata": {},
   "outputs": [
    {
     "data": {
      "text/plain": [
       "[1, 2, 3, 4, 5, 6, 7, 8, 9, 10]"
      ]
     },
     "execution_count": 16,
     "metadata": {},
     "output_type": "execute_result"
    }
   ],
   "source": [
    "test5([1,2,3,4,5] , [6,7,8,9,10]) #List concatination operation on string"
   ]
  },
  {
   "cell_type": "code",
   "execution_count": 22,
   "id": "6d272b36-73ae-4f4d-adfb-81377169dc82",
   "metadata": {},
   "outputs": [],
   "source": [
    "l=[1,2,3,4,5,\"sudh\",\"pwskill\",[1,2,3,34,45]]"
   ]
  },
  {
   "cell_type": "code",
   "execution_count": 23,
   "id": "9af86604-d88f-4abf-a7c7-7bd26a6eeeee",
   "metadata": {},
   "outputs": [
    {
     "data": {
      "text/plain": [
       "[1, 2, 3, 4, 5]"
      ]
     },
     "execution_count": 23,
     "metadata": {},
     "output_type": "execute_result"
    }
   ],
   "source": [
    "#create a function which will take list as a input and giv me afinal list with allthe numeric value\n",
    "def test6(a):\n",
    "    n = []\n",
    "    for i in a:\n",
    "        if type(i) == int or type(i) == float:\n",
    "            n.append(i)\n",
    "    return n\n",
    "test6(l)"
   ]
  },
  {
   "cell_type": "code",
   "execution_count": 24,
   "id": "33410c2f-808a-4c19-848b-ea3de6ad961d",
   "metadata": {},
   "outputs": [
    {
     "data": {
      "text/plain": [
       "[1, 2, 3, 4, 5, 1, 2, 3, 34, 45]"
      ]
     },
     "execution_count": 24,
     "metadata": {},
     "output_type": "execute_result"
    }
   ],
   "source": [
    "#find out list inside list int and float numbers:\n",
    "def test7(a):\n",
    "    n = []\n",
    "    for i in a:\n",
    "        if type(i) == list:\n",
    "            for j in i:\n",
    "                if type(j) == int or type(j) == float:\n",
    "                    n.append(j)\n",
    "        else:\n",
    "            if type(i) == int or type(i) == float:\n",
    "                n.append(i)\n",
    "    return n\n",
    "test7(l)"
   ]
  },
  {
   "cell_type": "code",
   "execution_count": 25,
   "id": "1d4f2fd6-be03-4052-a5c0-a0b00586c15b",
   "metadata": {},
   "outputs": [],
   "source": [
    "def test8(a,b,c,d,e):\n",
    "    pass"
   ]
  },
  {
   "cell_type": "code",
   "execution_count": 26,
   "id": "f431bd0e-888a-4636-95b5-345cfab35b19",
   "metadata": {},
   "outputs": [],
   "source": [
    "test8(1,2,3,4,5)"
   ]
  },
  {
   "cell_type": "code",
   "execution_count": 27,
   "id": "8ff0e202-ec8f-4014-ba98-24a52b047b85",
   "metadata": {},
   "outputs": [
    {
     "ename": "TypeError",
     "evalue": "test8() takes 5 positional arguments but 7 were given",
     "output_type": "error",
     "traceback": [
      "\u001b[0;31m---------------------------------------------------------------------------\u001b[0m",
      "\u001b[0;31mTypeError\u001b[0m                                 Traceback (most recent call last)",
      "Cell \u001b[0;32mIn[27], line 1\u001b[0m\n\u001b[0;32m----> 1\u001b[0m \u001b[43mtest8\u001b[49m\u001b[43m(\u001b[49m\u001b[38;5;241;43m1\u001b[39;49m\u001b[43m,\u001b[49m\u001b[38;5;241;43m2\u001b[39;49m\u001b[43m,\u001b[49m\u001b[38;5;241;43m3\u001b[39;49m\u001b[43m,\u001b[49m\u001b[38;5;241;43m4\u001b[39;49m\u001b[43m,\u001b[49m\u001b[38;5;241;43m5\u001b[39;49m\u001b[43m,\u001b[49m\u001b[38;5;241;43m6\u001b[39;49m\u001b[43m,\u001b[49m\u001b[38;5;241;43m7\u001b[39;49m\u001b[43m)\u001b[49m\n",
      "\u001b[0;31mTypeError\u001b[0m: test8() takes 5 positional arguments but 7 were given"
     ]
    }
   ],
   "source": [
    "test8(1,2,3,4,5,6,7)"
   ]
  },
  {
   "cell_type": "code",
   "execution_count": 32,
   "id": "9a056368-d456-4f1e-aec8-b5344234e39e",
   "metadata": {},
   "outputs": [],
   "source": [
    "def test9(*args): #we can pass any number of arguments using *args\n",
    "    return args"
   ]
  },
  {
   "cell_type": "code",
   "execution_count": 33,
   "id": "f092c039-3113-4442-b239-7bcd71e005e1",
   "metadata": {},
   "outputs": [
    {
     "data": {
      "text/plain": [
       "(2,)"
      ]
     },
     "execution_count": 33,
     "metadata": {},
     "output_type": "execute_result"
    }
   ],
   "source": [
    "test9(2)"
   ]
  },
  {
   "cell_type": "code",
   "execution_count": 34,
   "id": "04de92d1-daba-4d84-82ef-09d046813750",
   "metadata": {},
   "outputs": [
    {
     "data": {
      "text/plain": [
       "(1, 2, 3, 4, 5)"
      ]
     },
     "execution_count": 34,
     "metadata": {},
     "output_type": "execute_result"
    }
   ],
   "source": [
    "test9(1,2,3,4,5)"
   ]
  },
  {
   "cell_type": "code",
   "execution_count": 35,
   "id": "2f110a36-24a0-4e03-abfa-0404c7cc48a1",
   "metadata": {},
   "outputs": [
    {
     "data": {
      "text/plain": [
       "('sudh', [1, 2, 3, 4, 5], (1, 2, 3, 4, 5))"
      ]
     },
     "execution_count": 35,
     "metadata": {},
     "output_type": "execute_result"
    }
   ],
   "source": [
    "test9(\"sudh\",[1,2,3,4,5],(1,2,3,4,5))"
   ]
  },
  {
   "cell_type": "code",
   "execution_count": 39,
   "id": "5fd1152f-423b-4f03-8b4f-203a5de151a1",
   "metadata": {},
   "outputs": [],
   "source": [
    "def test10(*sudh): #we can take any name on the position of *args but syntax required same\n",
    "    return sudh"
   ]
  },
  {
   "cell_type": "code",
   "execution_count": 41,
   "id": "a8839cfb-52d6-4b54-aa89-825d1a267533",
   "metadata": {},
   "outputs": [
    {
     "data": {
      "text/plain": [
       "(2, 3, 45, 67, 78)"
      ]
     },
     "execution_count": 41,
     "metadata": {},
     "output_type": "execute_result"
    }
   ],
   "source": [
    "test10(2,3,45,67,78)"
   ]
  },
  {
   "cell_type": "code",
   "execution_count": 42,
   "id": "262f02f3-27d1-4cd1-b770-14baa523f3d3",
   "metadata": {},
   "outputs": [],
   "source": [
    "def test11(*args, a):\n",
    "    return args,a"
   ]
  },
  {
   "cell_type": "code",
   "execution_count": 43,
   "id": "7281c488-a57f-47f2-99d3-ba9db767e2d0",
   "metadata": {},
   "outputs": [
    {
     "ename": "TypeError",
     "evalue": "test11() missing 1 required keyword-only argument: 'a'",
     "output_type": "error",
     "traceback": [
      "\u001b[0;31m---------------------------------------------------------------------------\u001b[0m",
      "\u001b[0;31mTypeError\u001b[0m                                 Traceback (most recent call last)",
      "Cell \u001b[0;32mIn[43], line 1\u001b[0m\n\u001b[0;32m----> 1\u001b[0m \u001b[43mtest11\u001b[49m\u001b[43m(\u001b[49m\u001b[38;5;241;43m3\u001b[39;49m\u001b[43m)\u001b[49m\n",
      "\u001b[0;31mTypeError\u001b[0m: test11() missing 1 required keyword-only argument: 'a'"
     ]
    }
   ],
   "source": [
    "test11(3)"
   ]
  },
  {
   "cell_type": "code",
   "execution_count": 44,
   "id": "7899a0df-131b-4f52-b062-b3dd87b448da",
   "metadata": {},
   "outputs": [
    {
     "data": {
      "text/plain": [
       "((1, 2, 3, 4), 'sudh')"
      ]
     },
     "execution_count": 44,
     "metadata": {},
     "output_type": "execute_result"
    }
   ],
   "source": [
    "test11(1,2,3,4,a=\"sudh\")"
   ]
  },
  {
   "cell_type": "code",
   "execution_count": 45,
   "id": "a7bce7cf-1148-410b-a502-ff9a247ec1b7",
   "metadata": {},
   "outputs": [],
   "source": [
    "# only execute list elements \n",
    "def test12(*args):\n",
    "    l = []\n",
    "    for i in args:\n",
    "        if type(i)  == list:\n",
    "            l.append(i)\n",
    "    return l\n"
   ]
  },
  {
   "cell_type": "code",
   "execution_count": 46,
   "id": "22bc4517-02d8-4e4d-8789-ea4d3c6fca92",
   "metadata": {},
   "outputs": [
    {
     "data": {
      "text/plain": [
       "[[1, 2, 3, 4, 5]]"
      ]
     },
     "execution_count": 46,
     "metadata": {},
     "output_type": "execute_result"
    }
   ],
   "source": [
    "test12(1,2,3,4,[1,2,3,4,5],(1,2,3,4,5),\"Sudh\")"
   ]
  },
  {
   "cell_type": "code",
   "execution_count": 47,
   "id": "3d111e8d-c1c1-4e74-a65c-b32435c084c3",
   "metadata": {},
   "outputs": [
    {
     "data": {
      "text/plain": [
       "[[1, 2, 3, 4, 5], [4, 5, 6], [8, 9, 6]]"
      ]
     },
     "execution_count": 47,
     "metadata": {},
     "output_type": "execute_result"
    }
   ],
   "source": [
    "test12(1,2,3,4,[1,2,3,4,5],(1,2,3,4,5),\"Sudh\",[4,5,6],[8,9,6])"
   ]
  },
  {
   "cell_type": "code",
   "execution_count": 48,
   "id": "91c40e3d-baa2-43aa-85e6-7dbac66fc913",
   "metadata": {},
   "outputs": [],
   "source": [
    "# **kwargs it can any take N number of arguments but output in given in dictionary format:\n",
    "def test13(**kwargs):\n",
    "    return kwargs"
   ]
  },
  {
   "cell_type": "code",
   "execution_count": 49,
   "id": "1044c853-5cdd-4de4-949d-84d943df3278",
   "metadata": {},
   "outputs": [
    {
     "data": {
      "text/plain": [
       "{}"
      ]
     },
     "execution_count": 49,
     "metadata": {},
     "output_type": "execute_result"
    }
   ],
   "source": [
    "test13()"
   ]
  },
  {
   "cell_type": "code",
   "execution_count": 50,
   "id": "ec8ba3fd-763f-47da-b288-9b2c70ca527e",
   "metadata": {},
   "outputs": [
    {
     "data": {
      "text/plain": [
       "dict"
      ]
     },
     "execution_count": 50,
     "metadata": {},
     "output_type": "execute_result"
    }
   ],
   "source": [
    "type(test13())"
   ]
  },
  {
   "cell_type": "code",
   "execution_count": 51,
   "id": "85a516bf-0188-415a-829a-43ee1b6fbf5f",
   "metadata": {},
   "outputs": [
    {
     "data": {
      "text/plain": [
       "{'a': 23, 'b': 34, 'c': [1, 2, 3, 4], 'd': ('sudh', 'kumar')}"
      ]
     },
     "execution_count": 51,
     "metadata": {},
     "output_type": "execute_result"
    }
   ],
   "source": [
    "test13(a = 23, b = 34 , c = [1,2,3,4], d = (\"sudh\",\"kumar\"))"
   ]
  },
  {
   "cell_type": "code",
   "execution_count": 54,
   "id": "4c0ddbe8-18fa-426c-9f23-0da102789e59",
   "metadata": {},
   "outputs": [],
   "source": [
    "def test14(**kwargs):\n",
    "    for i in kwargs.keys():\n",
    "        if type(kwargs[i] ) == list:\n",
    "                return i , kwargs[i]"
   ]
  },
  {
   "cell_type": "code",
   "execution_count": 55,
   "id": "9315e2ef-956d-494f-ad3e-d05af085b730",
   "metadata": {},
   "outputs": [
    {
     "data": {
      "text/plain": [
       "('c', [1, 2, 3, 4])"
      ]
     },
     "execution_count": 55,
     "metadata": {},
     "output_type": "execute_result"
    }
   ],
   "source": [
    "test14(a = 23, b = 34 , c = [1,2,3,4], d = (\"sudh\",\"kumar\"))"
   ]
  },
  {
   "cell_type": "code",
   "execution_count": 56,
   "id": "0e998203-c00c-456b-8de3-994500147d86",
   "metadata": {},
   "outputs": [],
   "source": [
    "# *args is accepts number of arguments and **kwargs accepts arguments in key value format\n",
    "def test15(*args, **kwargs):\n",
    "    return args, kwargs"
   ]
  },
  {
   "cell_type": "code",
   "execution_count": 57,
   "id": "dcd19ded-e41f-436b-97ca-62feff6b3be3",
   "metadata": {},
   "outputs": [
    {
     "data": {
      "text/plain": [
       "((2, 3, 4, 5), {'a': 25, 'b': 98})"
      ]
     },
     "execution_count": 57,
     "metadata": {},
     "output_type": "execute_result"
    }
   ],
   "source": [
    "test15(2,3,4,5, a=25,b=98)"
   ]
  },
  {
   "cell_type": "code",
   "execution_count": null,
   "id": "6c241bf5-78ca-45b9-95a1-41b1f00c315c",
   "metadata": {},
   "outputs": [],
   "source": []
  }
 ],
 "metadata": {
  "kernelspec": {
   "display_name": "Python 3 (ipykernel)",
   "language": "python",
   "name": "python3"
  },
  "language_info": {
   "codemirror_mode": {
    "name": "ipython",
    "version": 3
   },
   "file_extension": ".py",
   "mimetype": "text/x-python",
   "name": "python",
   "nbconvert_exporter": "python",
   "pygments_lexer": "ipython3",
   "version": "3.10.8"
  }
 },
 "nbformat": 4,
 "nbformat_minor": 5
}

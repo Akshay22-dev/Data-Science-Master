{
 "cells": [
  {
   "cell_type": "markdown",
   "id": "dc657249-80fd-4e62-92f6-77d9dbd4f30f",
   "metadata": {},
   "source": [
    "Q2. Create a simple Flask application to display ‘Hello World!!’. Attach the screenshot of the output in\n",
    "Jupyter Notebook."
   ]
  },
  {
   "cell_type": "code",
   "execution_count": 1,
   "id": "0751d62f-56dd-4ea8-aa24-aa71622b1a05",
   "metadata": {},
   "outputs": [
    {
     "data": {
      "text/plain": [
       "'\\nfrom flask import Flask\\n\\napp = Flask(__name__)\\n\\n@app.route(\"/\")\\ndef hello_world():\\n    return \"Hello, World!\"\\n\\nif __name__==\"__main__\":\\n    app.run(host=\"0.0.0.0\")\\n'"
      ]
     },
     "execution_count": 1,
     "metadata": {},
     "output_type": "execute_result"
    }
   ],
   "source": [
    "#Answer:\n",
    "#Code:-\n",
    "'''\n",
    "from flask import Flask\n",
    "\n",
    "app = Flask(__name__)\n",
    "\n",
    "@app.route(\"/\")\n",
    "def hello_world():\n",
    "    return \"Hello, World!\"\n",
    "\n",
    "if __name__==\"__main__\":\n",
    "    app.run(host=\"0.0.0.0\")\n",
    "'''\n"
   ]
  },
  {
   "cell_type": "markdown",
   "id": "550f321b-f4e6-4c6b-baf3-4741b2f5215f",
   "metadata": {},
   "source": [
    "Q1. What is Flask Framework? What are the advantages of Flask Framework?"
   ]
  },
  {
   "cell_type": "code",
   "execution_count": 2,
   "id": "ea937765-47ca-421e-8b78-c000a982d2a1",
   "metadata": {},
   "outputs": [
    {
     "data": {
      "text/plain": [
       "'\\nIt is a lightweight framework that offers hassle-free development.\\nProvide flexibility to the developer to experiment with their modules or architecture.\\nIt is suitable for small projects.\\nOffers a built-in development server and fast debugger.\\nEasily scalable for the applications.\\nSupport for secure cookies.\\n'"
      ]
     },
     "execution_count": 2,
     "metadata": {},
     "output_type": "execute_result"
    }
   ],
   "source": [
    "#Answer:\n",
    "'''\n",
    "Flask is a web framework. Flask allows you to build a web application by providing tools, libraries, and technologies.\n",
    "This web application will be a web page, a wiki, or a big web-based calendar application or commercial website. \n",
    "Flask is classified into a micro-framework that means it has little to no dependencies on external libraries. \n",
    "There are some pros and cons. Pros mean there are little dependencies to upgrade and to watch security bugs \n",
    "and cons means by adding the plugin you will increase the dependencies. Flask has two dependencies, they are-\n",
    "Werkzeug a WSGI utility library\n",
    "Jinja2 is a template engine\n",
    "Flask for Python based on Werkzeug, jinja2, and good intention.\n",
    "'''\n",
    "#Advantage of Flask:\n",
    "'''\n",
    "It is a lightweight framework that offers hassle-free development.\n",
    "Provide flexibility to the developer to experiment with their modules or architecture.\n",
    "It is suitable for small projects.\n",
    "Offers a built-in development server and fast debugger.\n",
    "Easily scalable for the applications.\n",
    "Support for secure cookies.\n",
    "'''"
   ]
  },
  {
   "cell_type": "markdown",
   "id": "45233e8f-200d-4fda-b368-ec5d7fbd9711",
   "metadata": {},
   "source": [
    "Q3. What is App routing in Flask? Why do we use app routes?"
   ]
  },
  {
   "cell_type": "code",
   "execution_count": 3,
   "id": "cedb44f2-29e8-432a-8dc6-ecb310a2db7f",
   "metadata": {},
   "outputs": [
    {
     "data": {
      "text/plain": [
       "'\\nApp Routing means mapping the URLs to a specific function that will handle the logic for that URL. \\nModern web frameworks use more meaningful URLs to help users remember the URLs and make navigation simpler.\\nExample: In our application, the URL (“/”) is associated with the root URL.\\n'"
      ]
     },
     "execution_count": 3,
     "metadata": {},
     "output_type": "execute_result"
    }
   ],
   "source": [
    "#Answer:\n",
    "'''\n",
    "App routing is the technique used to map the specific URL with the associated function intended to perform some task. \n",
    "The Latest Web frameworks use the routing technique to help users remember application URLs.\n",
    "'''\n",
    "#Use of App routing:\n",
    "'''\n",
    "App Routing means mapping the URLs to a specific function that will handle the logic for that URL. \n",
    "Modern web frameworks use more meaningful URLs to help users remember the URLs and make navigation simpler.\n",
    "Example: In our application, the URL (“/”) is associated with the root URL.\n",
    "'''"
   ]
  },
  {
   "cell_type": "markdown",
   "id": "4a9d7aef-cd33-4982-b35d-323f538c8d7a",
   "metadata": {},
   "source": [
    "Q5. What function is used in Flask for URL Building? Write a Python code to demonstrate the working of the\n",
    "url_for() function."
   ]
  },
  {
   "cell_type": "code",
   "execution_count": 4,
   "id": "fad6a43e-9811-4f00-ae7e-e294c332c410",
   "metadata": {},
   "outputs": [
    {
     "data": {
      "text/plain": [
       "'\\nfrom flask import Flask, render_template\\n\\napp = Flask(__name__)\\n\\n\\n# Default route added using a decorator, for view function \\'welcome\\'\\n# Landing page of our web application - sportsmain.html\\n@app.route(\\'/\\')\\ndef welcome():\\n\\treturn render_template(\\'sportsmain.html\\')\\n\\n# only if this is the starting page\\nif(__name__ == \"__main__\"):\\n\\tapp.run(debug=True)\\n'"
      ]
     },
     "execution_count": 4,
     "metadata": {},
     "output_type": "execute_result"
    }
   ],
   "source": [
    "#Answer:\n",
    "'''\n",
    "Flask is a web framework in Python. It is called a microframework since it doesn't require any particular tools\n",
    "or libraries to compile Flask files. The url_for() function is used to build a URL to the specific function dynamically\n",
    "'''\n",
    "#Example:\n",
    "'''\n",
    "from flask import Flask, render_template\n",
    "\n",
    "app = Flask(__name__)\n",
    "ss\n",
    "\n",
    "# Default route added using a decorator, for view function 'welcome'\n",
    "# Landing page of our web application - sportsmain.html\n",
    "@app.route('/')\n",
    "def welcome():\n",
    "\treturn render_template('sportsmain.html')\n",
    "\n",
    "# only if this is the starting page\n",
    "if(__name__ == \"__main__\"):\n",
    "\tapp.run(debug=True)\n",
    "'''"
   ]
  },
  {
   "cell_type": "code",
   "execution_count": null,
   "id": "67b2375a-c48d-4337-983e-9a52df88fa58",
   "metadata": {},
   "outputs": [],
   "source": []
  }
 ],
 "metadata": {
  "kernelspec": {
   "display_name": "Python 3 (ipykernel)",
   "language": "python",
   "name": "python3"
  },
  "language_info": {
   "codemirror_mode": {
    "name": "ipython",
    "version": 3
   },
   "file_extension": ".py",
   "mimetype": "text/x-python",
   "name": "python",
   "nbconvert_exporter": "python",
   "pygments_lexer": "ipython3",
   "version": "3.10.8"
  }
 },
 "nbformat": 4,
 "nbformat_minor": 5
}

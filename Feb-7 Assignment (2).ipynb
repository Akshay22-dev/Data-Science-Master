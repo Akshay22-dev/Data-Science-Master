{
 "cells": [
  {
   "cell_type": "markdown",
   "id": "c6ce618d-e90e-4132-a2d8-65adb2fb1794",
   "metadata": {},
   "source": [
    "Q1. You are writing code for a company. The requirement of the company is that you create a python\n",
    "function that will check whether the password entered by the user is correct or not. The function should\n",
    "take the password as input and return the string “Valid Password” if the entered password follows the\n",
    "below-given password guidelines else it should return “Invalid Password”.\n",
    "Note: 1. The Password should contain at least two uppercase letters and at least two lowercase letters.\n",
    "2. The Password should contain at least a number and three special characters.\n",
    "3. The length of the password should be 10 characters long."
   ]
  },
  {
   "cell_type": "code",
   "execution_count": 3,
   "id": "ce7020a3-a890-4cef-b9c8-2d15d92c84cf",
   "metadata": {},
   "outputs": [
    {
     "name": "stdout",
     "output_type": "stream",
     "text": [
      "Password is valid\n"
     ]
    }
   ],
   "source": [
    "# Password validation in Python\n",
    "# using naive method\n",
    "\n",
    "# Function to validate the password\n",
    "def password_check(passwd):\n",
    "\t\n",
    "\tSpecialSym =['$', '@', '#', '%']\n",
    "\tval = True\n",
    "\t\n",
    "\tif len(passwd) < 6:\n",
    "\t\tprint('length should be at least 6')\n",
    "\t\tval = False\n",
    "\t\t\n",
    "\tif len(passwd) > 20:\n",
    "\t\tprint('length should be not be greater than 8')\n",
    "\t\tval = False\n",
    "\t\t\n",
    "\tif not any(char.isdigit() for char in passwd):\n",
    "\t\tprint('Password should have at least one numeral')\n",
    "\t\tval = False\n",
    "\t\t\n",
    "\tif not any(char.isupper() for char in passwd):\n",
    "\t\tprint('Password should have at least one uppercase letter')\n",
    "\t\tval = False\n",
    "\t\t\n",
    "\tif not any(char.islower() for char in passwd):\n",
    "\t\tprint('Password should have at least one lowercase letter')\n",
    "\t\tval = False\n",
    "\t\t\n",
    "\tif not any(char in SpecialSym for char in passwd):\n",
    "\t\tprint('Password should have at least one of the symbols $@#')\n",
    "\t\tval = False\n",
    "\tif val:\n",
    "\t\treturn val\n",
    "\n",
    "# Main method\n",
    "def main():\n",
    "\tpasswd = 'GGeek12@'\n",
    "\t\n",
    "\tif (password_check(passwd)):\n",
    "\t\tprint(\"Password is valid\")\n",
    "\telse:\n",
    "\t\tprint(\"Invalid Password !!\")\n",
    "\t\t\n",
    "# Driver Code\t\n",
    "if __name__ == '__main__':\n",
    "\tmain()\n"
   ]
  },
  {
   "cell_type": "markdown",
   "id": "f3ba1532-e46c-4cb4-9ced-aae78beaa81e",
   "metadata": {},
   "source": [
    "Q2. Solve the below-given questions using at least one of the following:\n",
    "1. Lambda functioJ\n",
    "2. Filter functioJ\n",
    "3. Zap functioJ\n",
    "4. List ComprehensioI\n",
    "B Check if the string starts with a particular letterY\n",
    "B Check if the string is numericY\n",
    "B Sort a list of tuples having fruit names and their quantity. [(\"mango\",99),(\"orange\",80), (\"grapes\", 1000)-\n",
    "B Find the squares of numbers from 1 to 10Y\n",
    "B Find the cube root of numbers from 1 to 10Y\n",
    "B Check if a given number is evenY\n",
    "B Filter odd numbers from the given list.\n",
    "[1,2,3,4,5,6,7,8,9,10-\n",
    "B Sort a list of integers into positive and negative integers lists.\n",
    "[1,2,3,4,5,6,-1,-2,-3,-4,-5,0]"
   ]
  },
  {
   "cell_type": "code",
   "execution_count": 6,
   "id": "649b9cae-0315-42b7-bfbe-cd170e9dd283",
   "metadata": {},
   "outputs": [
    {
     "name": "stdout",
     "output_type": "stream",
     "text": [
      "True\n",
      "False\n"
     ]
    }
   ],
   "source": [
    "# Check if the string starts with a particular letterY\n",
    "starts_with = lambda x: True if x.startswith('I') else False\n",
    "print(starts_with('India'))\n",
    "starts_with = lambda x: True if x.startswith('X') else False\n",
    "print(starts_with('England'))"
   ]
  },
  {
   "cell_type": "code",
   "execution_count": 8,
   "id": "1f1d4627-7204-4da5-97dd-c10f30ff8d66",
   "metadata": {},
   "outputs": [
    {
     "name": "stdout",
     "output_type": "stream",
     "text": [
      "True\n"
     ]
    }
   ],
   "source": [
    "#Check if the string is numeric\n",
    "\n",
    "num = lambda q: q.replace('.','',1).isnumeric()\n",
    "print(num('26587'))"
   ]
  },
  {
   "cell_type": "code",
   "execution_count": 30,
   "id": "600c3c22-3196-4ebb-a2f1-833d0d43ff14",
   "metadata": {},
   "outputs": [
    {
     "name": "stdout",
     "output_type": "stream",
     "text": [
      "[('orange', 80), ('mango', 99), ('grapes', 1000)]\n"
     ]
    }
   ],
   "source": [
    "#Sort a list of tuples having fruit names and their quantity. [(\"mango\",99),(\"orange\",80), (\"grapes\", 1000)]\n",
    "def Sort_Tuple(tup):\n",
    "    return(sorted(tup, key = lambda x: x[1])) \n",
    "tup = [(\"mango\",99),(\"orange\",80), (\"grapes\", 1000)]\n",
    "print(Sort_Tuple(tup))"
   ]
  },
  {
   "cell_type": "code",
   "execution_count": 16,
   "id": "0c9b6d3d-9eaf-46d5-b43e-068529479c90",
   "metadata": {},
   "outputs": [
    {
     "name": "stdout",
     "output_type": "stream",
     "text": [
      "[1, 4, 9, 16, 25, 36, 49, 64, 81, 100]\n"
     ]
    }
   ],
   "source": [
    "s#Find the squares of numbers from 1 to 10\n",
    "lst = [1, 2, 3, 4, 5,6,7,8,9,10] \n",
    "print(list(map(lambda x: x*x, lst)))  "
   ]
  },
  {
   "cell_type": "code",
   "execution_count": 18,
   "id": "be35f702-39af-4c7e-89b6-ea4d92a4e4ae",
   "metadata": {},
   "outputs": [
    {
     "name": "stdout",
     "output_type": "stream",
     "text": [
      "[1, 8, 27, 64, 125, 216, 343, 512, 729, 1000]\n"
     ]
    }
   ],
   "source": [
    "#Find the cube root of numbers from 1 to 10\n",
    "lst = [1, 2, 3, 4, 5,6,7,8,9,10] \n",
    "print(list(map(lambda x: x*x*x, lst)))  "
   ]
  },
  {
   "cell_type": "code",
   "execution_count": 21,
   "id": "1d8dbb58-a2ce-40a8-9bd3-4d76f112d51d",
   "metadata": {},
   "outputs": [
    {
     "name": "stdin",
     "output_type": "stream",
     "text": [
      " 10\n"
     ]
    },
    {
     "name": "stdout",
     "output_type": "stream",
     "text": [
      "Even number\n"
     ]
    }
   ],
   "source": [
    "#Check if a given number is even:\n",
    "\n",
    "n=int(input())\n",
    "odd_even=lambda n:\"Even number\" if(n%2==0) else \"Odd number\"\n",
    "print(odd_even(n))\n",
    "\n"
   ]
  },
  {
   "cell_type": "code",
   "execution_count": 22,
   "id": "acc6a082-7884-4cd3-8c63-f0e0f9cda216",
   "metadata": {},
   "outputs": [
    {
     "name": "stdout",
     "output_type": "stream",
     "text": [
      "Original List : [1, 2, 3, 4, 5, 6, 7, 8, 9, 10]\n",
      "Filtered List : [1, 3, 5, 7, 9]\n"
     ]
    }
   ],
   "source": [
    "#B Filter odd numbers from the given list.[1,2,3,4,5,6,7,8,9,10]\n",
    "def odd(x):\n",
    "    return x % 2 == 1\n",
    "\n",
    "a = [1,2,3,4,5,6,7,8,9,10]\n",
    "\n",
    "result = filter(odd, a)\n",
    "print('Original List :', a)\n",
    "print('Filtered List :', list(result))\n"
   ]
  },
  {
   "cell_type": "code",
   "execution_count": 26,
   "id": "92adca85-bcdd-4333-9127-42e4f0dfe790",
   "metadata": {},
   "outputs": [
    {
     "name": "stdout",
     "output_type": "stream",
     "text": [
      "Original List : [1, 2, 3, 4, 5, 6, -1, -2, -3, -4, -5, 0]\n",
      "Positive List : [1, 2, 3, 4, 5, 6]\n",
      "Negative List : [-1, -2, -3, -4, -5]\n"
     ]
    }
   ],
   "source": [
    "#B Sort a list of integers into positive and negative integers lists.[1,2,3,4,5,6,-1,-2,-3,-4,-5,0]\n",
    "def pos(x):\n",
    "    return x  > 0 \n",
    "def neg(x):\n",
    "    return x < 0 \n",
    "\n",
    "a=[1,2,3,4,5,6,-1,-2,-3,-4,-5,0]\n",
    "\n",
    "\n",
    "result1 = filter(pos, a)\n",
    "result2 = filter(neg, a)\n",
    "print('Original List :', a)\n",
    "print('Positive List :', list(result1))\n",
    "print('Negative List :', list(result2))\n"
   ]
  },
  {
   "cell_type": "code",
   "execution_count": null,
   "id": "d9343f16-f9c0-4e19-b859-7e341c185302",
   "metadata": {},
   "outputs": [],
   "source": []
  }
 ],
 "metadata": {
  "kernelspec": {
   "display_name": "Python 3 (ipykernel)",
   "language": "python",
   "name": "python3"
  },
  "language_info": {
   "codemirror_mode": {
    "name": "ipython",
    "version": 3
   },
   "file_extension": ".py",
   "mimetype": "text/x-python",
   "name": "python",
   "nbconvert_exporter": "python",
   "pygments_lexer": "ipython3",
   "version": "3.10.8"
  }
 },
 "nbformat": 4,
 "nbformat_minor": 5
}

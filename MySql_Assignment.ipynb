{
 "cells": [
  {
   "cell_type": "markdown",
   "id": "0389db4b-851b-41fe-b8c9-c0fd6a7e3a26",
   "metadata": {},
   "source": [
    "Q1. What is a database? Differentiate between SQL and NoSQL databases.\n"
   ]
  },
  {
   "cell_type": "code",
   "execution_count": 5,
   "id": "071f5eb7-35b4-48fb-8bea-32aac88433b6",
   "metadata": {},
   "outputs": [
    {
     "data": {
      "text/plain": [
       "'\\n1. SQL databases are table-based And NoSQL databases are document, key-value, graph, or wide-column stores.\\n2. SQL databases are better for multi-row transactions And  NoSQL is better for unstructured data like documents or JSON.\\n3.SQL databases are relational, and NoSQL databases are non-relational.\\n4.SQL databases use structured query language (SQL) and have a predefined schema. NoSQL databases have dynamic schemas for unstructured data.\\n5.SQL databases are vertically scalable, while NoSQL databases are horizontally scalable.\\n'"
      ]
     },
     "execution_count": 5,
     "metadata": {},
     "output_type": "execute_result"
    }
   ],
   "source": [
    "#Answers:\n",
    "#DBMS:-\n",
    "'''\n",
    "A database is an organized collection of structured information, or data, typically stored electronically \n",
    "in a computer system. \n",
    "A database is usually controlled by a database management system (DBMS).\n",
    "'''\n",
    "# Differentiate between SQL and NoSQL databases:-\n",
    "'''\n",
    "1. SQL databases are table-based And NoSQL databases are document, key-value, graph, or wide-column stores.\n",
    "2. SQL databases are better for multi-row transactions And  NoSQL is better for unstructured data like documents or JSON.\n",
    "3.SQL databases are relational, and NoSQL databases are non-relational.\n",
    "4.SQL databases use structured query language (SQL) and have a predefined schema. NoSQL databases have dynamic schemas for unstructured data.\n",
    "5.SQL databases are vertically scalable, while NoSQL databases are horizontally scalable.\n",
    "'''"
   ]
  },
  {
   "cell_type": "markdown",
   "id": "321c9ae3-eeb6-479e-8419-b7c963f80b38",
   "metadata": {},
   "source": [
    "Q2. What is DDL? Explain why CREATE, DROP, ALTER, and TRUNCATE are used with an example."
   ]
  },
  {
   "cell_type": "code",
   "execution_count": 4,
   "id": "60bf05ff-2dd0-4928-925c-9e66375e9cfa",
   "metadata": {},
   "outputs": [
    {
     "data": {
      "text/plain": [
       "'\\nTRUNCATE Command\\nTRUNCATE is another DDL command which deletes or removes all the records from the table.\\nThis command also removes the space allocated for storing the table records.\\nSyntax of TRUNCATE command\\nTRUNCATE TABLE Table_Name; \\n'"
      ]
     },
     "execution_count": 4,
     "metadata": {},
     "output_type": "execute_result"
    }
   ],
   "source": [
    "#Answers:\n",
    "#DDL:-\n",
    "''' The DDL Commands in Structured Query Language are used to create and modify the schema of \n",
    "the database and its objects. The syntax of DDL commands is predefined for describing the data.\n",
    "'''\n",
    "#CREATE:\n",
    "'''\n",
    "CREATE is a DDL command used to create databases, tables, triggers and other database objects.\n",
    "Syntax to Create a Database:\n",
    "CREATE Database Database_Name;\n",
    "\n",
    "Syntax to Create a Table:\n",
    "Create table Tabe_Name(Att1 data_type,....);\n",
    "'''\n",
    "\n",
    "#Drop:-\n",
    "'''\n",
    "DROP Command:-\n",
    "DROP is a DDL command used to delete/remove the database objects from the SQL database. We can easily remove the entire table,\n",
    "view, or index from the database using this DDL command.\n",
    "Syntax to remove a database:\n",
    "DROP DATABASE Database_Name;  \n",
    "Syntax to remove a table:\n",
    "DROP TABLE Table_Name; \n",
    "This example describes how to remove the existing index from the SQL database.\n",
    "Syntax to remove an index:\n",
    "DROP INDEX Index_Name;  \n",
    "'''\n",
    "\n",
    "#ALTER:-\n",
    "'''\n",
    "ALTER Command\n",
    "ALTER is a DDL command which changes or modifies the existing structure of the database,\n",
    "and it also changes the schema of database objects.\n",
    "This example shows how to add a new field to the existing table.\n",
    "Syntax to add a newfield in the table:\n",
    "ALTER TABLE name_of_table ADD column_name column_definition; \n",
    "Example: ALTER TABLE Student ADD Father's_Name Varchar(60);  \n",
    "'''\n",
    "\n",
    "#TRUNCATE:-\n",
    "'''\n",
    "TRUNCATE Command\n",
    "TRUNCATE is another DDL command which deletes or removes all the records from the table.\n",
    "This command also removes the space allocated for storing the table records.\n",
    "Syntax of TRUNCATE command\n",
    "TRUNCATE TABLE Table_Name; \n",
    "'''"
   ]
  },
  {
   "cell_type": "markdown",
   "id": "8bd8d3b1-e647-422d-a0a7-acb88b75509a",
   "metadata": {},
   "source": [
    "Q3. What is DML? Explain INSERT, UPDATE, and DELETE with an example."
   ]
  },
  {
   "cell_type": "code",
   "execution_count": 6,
   "id": "e3dcf5a5-4672-4d99-8548-e6a9fee7f914",
   "metadata": {},
   "outputs": [
    {
     "data": {
      "text/plain": [
       "\"\\nDELETE DML Command\\nDELETE is a DML command which allows SQL users to remove single or multiple existing records from the database tables.\\nThis command of Data Manipulation Language does not delete the stored data permanently from the database.\\nWe use the WHERE clause with the DELETE command to select specific rows from the table.\\nSyntax of DELETE Command:\\nDELETE FROM Table_Name WHERE condition; \\nExample:\\nDELETE FROM Product WHERE Product_Id = 'P202' ;  \\n\""
      ]
     },
     "execution_count": 6,
     "metadata": {},
     "output_type": "execute_result"
    }
   ],
   "source": [
    "#DML:-\n",
    "'''\n",
    "DML Commands in SQL\n",
    "DML is an abbreviation of Data Manipulation Language.\n",
    "The DML commands in Structured Query Language change the data present in the SQL database. We can easily access, \n",
    "store, modify, update and delete the existing records from the database using DML commands.\n",
    "'''\n",
    "\n",
    "#INSERT:-\n",
    "'''\n",
    "INSERT DML Command\n",
    "INSERT is another most important data manipulation command in Structured Query Language, which allows users to insert data \n",
    "in database tables.\n",
    "Syntax of INSERT Command:-\n",
    "INSERT INTO TABLE_NAME ( column_Name1 , column_Name2 , column_Name3 , .... column_NameN )  VALUES (value_1, value_2, value_3, .... value_N ) ;   \n",
    "Example:-\n",
    "INSERT INTO Student (Stu_id, Stu_Name, Stu_Marks, Stu_Age) VALUES (104, Anmol, 89, 19);  \n",
    "'''\n",
    "\n",
    "#UPDATE:-\n",
    "'''\n",
    "UPDATE DML Command:-\n",
    "UPDATE is another most important data manipulation command in Structured Query Language, which allows users to \n",
    "update or modify the existing data in database tables.\n",
    "Syntax of UPDATE Command:\n",
    "UPDATE Table_name SET [column_name1= value_1, ….., column_nameN = value_N] WHERE CONDITION;\n",
    "Example:\n",
    "UPDATE Product SET Product_Price = 80 WHERE Product_Id = 'P102' ;  \n",
    "'''\n",
    "\n",
    "#DELETE:-\n",
    "'''\n",
    "DELETE DML Command\n",
    "DELETE is a DML command which allows SQL users to remove single or multiple existing records from the database tables.\n",
    "This command of Data Manipulation Language does not delete the stored data permanently from the database.\n",
    "We use the WHERE clause with the DELETE command to select specific rows from the table.\n",
    "Syntax of DELETE Command:\n",
    "DELETE FROM Table_Name WHERE condition; \n",
    "Example:\n",
    "DELETE FROM Product WHERE Product_Id = 'P202' ;  \n",
    "'''"
   ]
  },
  {
   "cell_type": "markdown",
   "id": "cbf38327-926d-42a1-bc5e-d798dd400d1e",
   "metadata": {},
   "source": [
    "Q4. What is DQL? Explain SELECT with an example."
   ]
  },
  {
   "cell_type": "code",
   "execution_count": 7,
   "id": "b02e1e31-1c75-42cd-9d3b-2e62b8b73046",
   "metadata": {},
   "outputs": [
    {
     "data": {
      "text/plain": [
       "'\\nThe SQL SELECT Statement:\\nThe SELECT statement is used to select data from a database.\\nThe data returned is stored in a result table, called the result-set.\\nSELECT Syntax\\nSELECT column1, column2, ...\\nFROM table_name;\\nExample:\\nSELECT * FROM table_name;\\n'"
      ]
     },
     "execution_count": 7,
     "metadata": {},
     "output_type": "execute_result"
    }
   ],
   "source": [
    "#DQL:-\n",
    "'''\n",
    "The Data Query Language, or DQL for short, is the group of commands responsible for querying data from a database. \n",
    "The principal DQL command in SQL is the SELECT command, which retrieves data from one or more tables.\n",
    "'''\n",
    "#SELECT:-\n",
    "'''\n",
    "The SQL SELECT Statement:\n",
    "The SELECT statement is used to select data from a database.\n",
    "The data returned is stored in a result table, called the result-set.\n",
    "SELECT Syntax\n",
    "SELECT column1, column2, ...\n",
    "FROM table_name;\n",
    "Example:\n",
    "SELECT * FROM table_name;\n",
    "'''\n",
    "\n"
   ]
  },
  {
   "cell_type": "markdown",
   "id": "02bbafe1-8780-4d03-bcea-0b7063b0597b",
   "metadata": {},
   "source": [
    "Q5. Explain Primary Key and Foreign Key."
   ]
  },
  {
   "cell_type": "code",
   "execution_count": 8,
   "id": "74e4f8b8-099b-4560-86f5-a8e3a53c0eff",
   "metadata": {},
   "outputs": [
    {
     "data": {
      "text/plain": [
       "'\\nA foreign key is generally used to build a relationship between the two tables. The major purpose of the foreign \\nkey is to sustain data integrity between two separate instances of an entity.\\nTables can allow more than one foreign key.\\nThe foreign key accepts multiple null values.\\nA foreign key is a field in the table that is the primary key in another table.\\nIn this, the value can be deleted from the child table.\\nIts restriction cannot be defined on the global or local temporary tables.\\n'"
      ]
     },
     "execution_count": 8,
     "metadata": {},
     "output_type": "execute_result"
    }
   ],
   "source": [
    "#Primary Key:\n",
    "'''\n",
    "A primary key generally focuses on the uniqueness of the table. It is a column or a set of columns that uniquely distinguishes every row in the database.\n",
    "It means it should not have any duplicate value. Also, it doesn’t contain a NULL value.\n",
    "The table allows only one primary key.\n",
    "The primary key doesn’t allow null values.\n",
    "It can identify the record uniquely in the database table.\n",
    "In the primary key, the value cannot be removed from the parent table.\n",
    "Its restriction can be completely defined on the temporary tables.\n",
    "'''\n",
    "#Foreign Key:\n",
    "'''\n",
    "A foreign key is generally used to build a relationship between the two tables. The major purpose of the foreign \n",
    "key is to sustain data integrity between two separate instances of an entity.\n",
    "Tables can allow more than one foreign key.\n",
    "The foreign key accepts multiple null values.\n",
    "A foreign key is a field in the table that is the primary key in another table.\n",
    "In this, the value can be deleted from the child table.\n",
    "Its restriction cannot be defined on the global or local temporary tables.\n",
    "'''"
   ]
  },
  {
   "cell_type": "markdown",
   "id": "2f07666b-15e7-4e4d-b742-ad179366b176",
   "metadata": {},
   "source": [
    "Q6. Write a python code to connect MySQL to python. Explain the cursor() and execute() method."
   ]
  },
  {
   "cell_type": "code",
   "execution_count": 9,
   "id": "22f9754c-a61d-4462-94a9-7bf8910be67c",
   "metadata": {},
   "outputs": [
    {
     "data": {
      "text/plain": [
       "'\\nThe cursor object can be defined as an abstraction specified in the Python DB-API 2.0. \\nIt facilitates us to have multiple separate working environments through the same connection to the database. \\nWe can create the cursor object by calling the \\'cursor\\' function of the connection object. \\nThe cursor object is an important aspect of executing queries to the databases.\\n\\nThe syntax to create the cursor object is given below.\\n<my_cur>  = conn.cursor() \\n\\nExample:\\nimport mysql.connector  \\n#Create the connection object   \\nmyconn = mysql.connector.connect(host = \"localhost\", user = \"root\",passwd = \"google\", database = \"mydb\")  \\n  #printing the connection object   \\nprint(myconn)   \\n  #creating the cursor object  \\ncur = myconn.cursor()  \\n  print(cur)\\n'"
      ]
     },
     "execution_count": 9,
     "metadata": {},
     "output_type": "execute_result"
    }
   ],
   "source": [
    "#python code to connect MySQL to python:\n",
    "'''\n",
    "import mysql.connector  \n",
    "  #Create the connection object   \n",
    "myconn = mysql.connector.connect(host = \"localhost\", user = \"root\",passwd = \"google\")  \n",
    "  #printing the connection object   \n",
    "print(myconn) \n",
    "'''\n",
    "\n",
    "#Creating a cursor object:\n",
    "'''\n",
    "The cursor object can be defined as an abstraction specified in the Python DB-API 2.0. \n",
    "It facilitates us to have multiple separate working environments through the same connection to the database. \n",
    "We can create the cursor object by calling the 'cursor' function of the connection object. \n",
    "The cursor object is an important aspect of executing queries to the databases.\n",
    "\n",
    "The syntax to create the cursor object is given below.\n",
    "<my_cur>  = conn.cursor() \n",
    "\n",
    "Example:\n",
    "import mysql.connector  \n",
    "#Create the connection object   \n",
    "myconn = mysql.connector.connect(host = \"localhost\", user = \"root\",passwd = \"google\", database = \"mydb\")  \n",
    "  #printing the connection object   \n",
    "print(myconn)   \n",
    "  #creating the cursor object  \n",
    "cur = myconn.cursor()  \n",
    "  print(cur)\n",
    "'''"
   ]
  },
  {
   "cell_type": "markdown",
   "id": "953d5cbf-f074-41eb-ac7c-31ddc947bc24",
   "metadata": {},
   "source": [
    "Q7. Give the order of execution of SQL clauses in an SQL query."
   ]
  },
  {
   "cell_type": "code",
   "execution_count": null,
   "id": "9e7fcfea-092a-4b93-9cdc-894199bb985f",
   "metadata": {},
   "outputs": [],
   "source": [
    "#Answer:\n",
    "'''\n",
    "Order of execution of SQL clauses in an SQL query:ssssssss\n",
    "from -->where ---> group by--->having --->select --->order by--->limit.\n",
    "'''"
   ]
  }
 ],
 "metadata": {
  "kernelspec": {
   "display_name": "Python 3 (ipykernel)",
   "language": "python",
   "name": "python3"
  },
  "language_info": {
   "codemirror_mode": {
    "name": "ipython",
    "version": 3
   },
   "file_extension": ".py",
   "mimetype": "text/x-python",
   "name": "python",
   "nbconvert_exporter": "python",
   "pygments_lexer": "ipython3",
   "version": "3.10.8"
  }
 },
 "nbformat": 4,
 "nbformat_minor": 5
}

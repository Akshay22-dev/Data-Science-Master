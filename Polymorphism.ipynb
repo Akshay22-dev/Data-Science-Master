{
 "cells": [
  {
   "cell_type": "code",
   "execution_count": 1,
   "id": "e08c479e-fc36-4799-9d57-a65170f3d1d1",
   "metadata": {},
   "outputs": [],
   "source": [
    "class data:\n",
    "    def test(self):\n",
    "        print(\"This is for a data science\")"
   ]
  },
  {
   "cell_type": "code",
   "execution_count": 2,
   "id": "647a2432-d46d-493a-8c69-c9d920cdbb0f",
   "metadata": {},
   "outputs": [],
   "source": [
    "class web:\n",
    "    def test(self):\n",
    "        print(\"This is for a wed development\")"
   ]
  },
  {
   "cell_type": "code",
   "execution_count": 3,
   "id": "fbeb8650-01aa-4f98-8bae-b7f0020775ab",
   "metadata": {},
   "outputs": [],
   "source": [
    "def parser(obj):\n",
    "    for i in obj:\n",
    "        i.test()\n",
    "    "
   ]
  },
  {
   "cell_type": "code",
   "execution_count": 5,
   "id": "cfee7a80-a547-418b-80d3-dad54de4c9c6",
   "metadata": {},
   "outputs": [],
   "source": [
    "obj_ds = data()"
   ]
  },
  {
   "cell_type": "code",
   "execution_count": 6,
   "id": "7f32546d-949c-475c-bbe5-f8cee653f2cc",
   "metadata": {},
   "outputs": [],
   "source": [
    "obj_wd = web()"
   ]
  },
  {
   "cell_type": "code",
   "execution_count": 7,
   "id": "ec2b0d62-46d3-4b49-9146-9285700147d9",
   "metadata": {},
   "outputs": [],
   "source": [
    "obj = [obj_ds, obj_wd]"
   ]
  },
  {
   "cell_type": "code",
   "execution_count": 8,
   "id": "fcb94cc4-1815-4bff-af5a-d73fde0c123e",
   "metadata": {},
   "outputs": [
    {
     "name": "stdout",
     "output_type": "stream",
     "text": [
      "This is for a data science\n",
      "This is for a wed development\n"
     ]
    }
   ],
   "source": [
    "parser(obj)"
   ]
  },
  {
   "cell_type": "code",
   "execution_count": null,
   "id": "498206ce-589e-4346-9acc-2bedf657cdb5",
   "metadata": {},
   "outputs": [],
   "source": []
  }
 ],
 "metadata": {
  "kernelspec": {
   "display_name": "Python 3 (ipykernel)",
   "language": "python",
   "name": "python3"
  },
  "language_info": {
   "codemirror_mode": {
    "name": "ipython",
    "version": 3
   },
   "file_extension": ".py",
   "mimetype": "text/x-python",
   "name": "python",
   "nbconvert_exporter": "python",
   "pygments_lexer": "ipython3",
   "version": "3.10.8"
  }
 },
 "nbformat": 4,
 "nbformat_minor": 5
}

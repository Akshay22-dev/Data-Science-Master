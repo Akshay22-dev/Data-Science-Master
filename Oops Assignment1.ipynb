{
 "cells": [
  {
   "cell_type": "markdown",
   "id": "39c94679-caa7-4d2c-aee1-75ff6bcdfc05",
   "metadata": {},
   "source": [
    "Q1. Explain Class and Object with respect to Object-Oriented Programming. Give a suitable example."
   ]
  },
  {
   "cell_type": "code",
   "execution_count": 2,
   "id": "98786ac4-cba0-4e6e-b875-94cb3aad1e4e",
   "metadata": {},
   "outputs": [],
   "source": [
    "#Answer:-\n",
    "#Class:\n",
    "'''\n",
    "A class is considered as a blueprint of objects.\n",
    "we use class keyword to create class in python.\n",
    "Syntax:\n",
    "class ClassName:\n",
    "    # class definition \n",
    "'''\n",
    "#Example of class:\n",
    "class Bike:\n",
    "    name = \"\"\n",
    "    gear = 0\n",
    "    \n",
    "# Object:\n",
    "'''\n",
    "An object is called an instance of a class.\n",
    "\n",
    "syntax to create an object:\n",
    "objectName = ClassName()\n",
    "'''\n",
    "#Example of object:\n",
    "# create class\n",
    "class Bike:\n",
    "    name = \"\"\n",
    "    gear = 0\n",
    "\n",
    "# create objects of class\n",
    "bike1 = Bike()"
   ]
  },
  {
   "cell_type": "markdown",
   "id": "446f08b0-d5fa-4453-987d-848527c9934e",
   "metadata": {},
   "source": [
    "Q2. Name the four pillars of OOPs.\n"
   ]
  },
  {
   "cell_type": "code",
   "execution_count": 4,
   "id": "3172da76-e2b2-48bd-8054-03396aa7778e",
   "metadata": {
    "jp-MarkdownHeadingCollapsed": true,
    "tags": []
   },
   "outputs": [
    {
     "data": {
      "text/plain": [
       "'\\n1. Inheritance\\n2. polymorphism\\n3. Abstraction\\n4. Encapsulation\\n'"
      ]
     },
     "execution_count": 4,
     "metadata": {},
     "output_type": "execute_result"
    }
   ],
   "source": [
    "#Answer:\n",
    "# Pillars of OOPs:\n",
    "'''\n",
    "1. Inheritance\n",
    "2. polymorphism\n",
    "3. Abstraction\n",
    "4. Encapsulation\n",
    "'''"
   ]
  },
  {
   "cell_type": "markdown",
   "id": "7caaeb2e-3d1d-431c-9d14-57809ec1a931",
   "metadata": {},
   "source": [
    "Q3. Explain why the __init__() function is used. Give a suitable example."
   ]
  },
  {
   "cell_type": "code",
   "execution_count": 7,
   "id": "f06cb7d2-512b-44a0-b564-d06315172ef8",
   "metadata": {},
   "outputs": [
    {
     "name": "stdout",
     "output_type": "stream",
     "text": [
      "Hello, my name is Nikhil\n"
     ]
    }
   ],
   "source": [
    "#Answer:\n",
    "#init():\n",
    "'''\n",
    "The Default __init__ Constructor. Constructors are used to initializing the object’s state. \n",
    "The task of constructors is to initialize(assign values) to the data members of the class when an object of the class is created.\n",
    "Like methods, a constructor also contains a collection of statements(i.e. instructions) that are executed at the time of Object creation.\n",
    "It is run as soon as an object of a class is instantiated. The method is useful to do any initialization you want to do with your object.\n",
    "'''\n",
    "#Example:\n",
    "class Person:\n",
    " # init method or constructor\n",
    "    def __init__(self, name):\n",
    "        self.name = name\n",
    " \n",
    "\n",
    "    def say_hi(self):\n",
    "        print('Hello, my name is', self.name)\n",
    " \n",
    " \n",
    "p = Person('Nikhil')\n",
    "p.say_hi()"
   ]
  },
  {
   "cell_type": "markdown",
   "id": "53057553-ca8b-4ed7-aeeb-6abec7a9bf4c",
   "metadata": {},
   "source": [
    "Q4. Why self is used in OOPs?"
   ]
  },
  {
   "cell_type": "code",
   "execution_count": 8,
   "id": "3177e34f-c709-4bdc-b609-afa1de0f773f",
   "metadata": {},
   "outputs": [
    {
     "data": {
      "text/plain": [
       "'\\nself represents the instance of the class. By using the “self”  we can access \\nthe attributes and methods of the class in python. It binds the attributes with the given arguments.\\nThe reason you need to use self. is because Python does not use the @ syntax to refer to instance attributes. \\nPython decided to do methods in a way that makes the instance to which the method\\nbelongs be passed automatically, but not received automatically: the first parameter of methods is the instance the method is called on.\\n'"
      ]
     },
     "execution_count": 8,
     "metadata": {},
     "output_type": "execute_result"
    }
   ],
   "source": [
    "#Answer:\n",
    "#self:\n",
    "'''\n",
    "self represents the instance of the class. By using the “self”  we can access \n",
    "the attributes and methods of the class in python. It binds the attributes with the given arguments.\n",
    "The reason you need to use self. is because Python does not use the @ syntax to refer to instance attributes. \n",
    "Python decided to do methods in a way that makes the instance to which the method\n",
    "belongs be passed automatically, but not received automatically: the first parameter of methods is the instance the method is called on.\n",
    "'''"
   ]
  },
  {
   "cell_type": "markdown",
   "id": "d5144281-d815-4456-bf2f-d318747c57c4",
   "metadata": {},
   "source": [
    "Q5. What is inheritance? Give an example for each type of inheritance."
   ]
  },
  {
   "cell_type": "code",
   "execution_count": 10,
   "id": "9822dc31-7ecd-44f6-83ce-71d594d3a47e",
   "metadata": {},
   "outputs": [
    {
     "name": "stdout",
     "output_type": "stream",
     "text": [
      "Hey there, you are in the parent class\n",
      "Hey there, you are in the sub class\n",
      "Hey there, you are in the parent class\n",
      "10\n",
      "5\n"
     ]
    }
   ],
   "source": [
    "#Answer:\n",
    "#Inheritance:\n",
    "'''\n",
    "Inheritance is a process of obtaining properties and characteristics(variables and methods) of another class.\n",
    "In this hierarchical order, the class which inherits another class is called subclass or child class, and the other class is the parent class.\n",
    "\n",
    "There are five types of inheritances:\n",
    "1.Single Inheritance\n",
    "2.Multiple Inheritance\n",
    "3.Multilevel Inheritance\n",
    "4.Hierarchical Inheritance\n",
    "5.Hybrid Inheritance\n",
    "'''\n",
    "#1.Single Inheritance\n",
    "'''\n",
    "This type of inheritance enables a subclass\n",
    "or derived class to inherit properties and characteristics of the parent class, this avoids duplication of code and improves code reusability.\n",
    "'''\n",
    "#Ex\n",
    "#parent class\n",
    "class Above:\n",
    "    i = 5\n",
    "    def fun1(self):\n",
    "        print(\"Hey there, you are in the parent class\")\n",
    "\n",
    "#subclass\n",
    "class Below(Above):\n",
    "    i=10\n",
    "    def fun2(self):\n",
    "        print(\"Hey there, you are in the sub class\")\n",
    "\n",
    "temp1=Below()\n",
    "temp2=Above()\n",
    "temp1.fun1()\n",
    "temp1.fun2()\n",
    "temp2.fun1()\n",
    "print(temp1.i)\n",
    "print(temp2.i)"
   ]
  },
  {
   "cell_type": "code",
   "execution_count": 12,
   "id": "3e1b03cd-0b4f-46be-8760-7f18e573b4e7",
   "metadata": {},
   "outputs": [
    {
     "name": "stdout",
     "output_type": "stream",
     "text": [
      "Hey there, you are in the child class\n",
      "first number is :  10\n",
      "second number is :  5\n"
     ]
    }
   ],
   "source": [
    "#Multiple Inheritance:\n",
    "'''\n",
    "This inheritance enables a child class to inherit from more than one parent class. \n",
    "This type of inheritance is not supported by java classes, but python does support this kind of inheritance. \n",
    "It has a massive advantage if we have a requirement of gathering multiple characteristics from different classes.\n",
    "'''\n",
    "#Ex.\n",
    "#parent class 1\n",
    "class A:\n",
    "    demo1=0\n",
    "    def fun1(self):\n",
    "        print(self.demo1)\n",
    "\n",
    "#parent class 2\n",
    "class B:\n",
    "    demo2=0\n",
    "    def fun2(self):\n",
    "        print(self.demo2)\n",
    "\n",
    "#child class\n",
    "class C(A, B):\n",
    "    def fun3(self):\n",
    "        print(\"Hey there, you are in the child class\")\n",
    "\n",
    "# Main code\n",
    "c = C()\n",
    "c.demo1 = 10\n",
    "c.demo2 = 5\n",
    "c.fun3()\n",
    "print(\"first number is : \",c.demo1)\n",
    "print(\"second number is : \",c.demo2)"
   ]
  },
  {
   "cell_type": "code",
   "execution_count": 16,
   "id": "d4d3489b-4b84-480a-ab0a-660145d2af08",
   "metadata": {},
   "outputs": [
    {
     "name": "stdout",
     "output_type": "stream",
     "text": [
      "electric car runs on electricity\n",
      "a car has 4 wheels\n",
      "vehicles are used for transportation\n"
     ]
    }
   ],
   "source": [
    "#Multilevel Inheritance\n",
    "\n",
    "'''\n",
    "In multilevel inheritance, the transfer of the properties of characteristics is done to more than one class hierarchically. To get a better \n",
    "visualization we can consider it as an ancestor to grandchildren relation or a root to leaf in a tree with more than one level.\n",
    "'''\n",
    "#Ex.\n",
    "#parent class 1\n",
    "class vehicle:\n",
    "    def functioning(self):\n",
    "        print(\"vehicles are used for transportation\")\n",
    "\n",
    "#child class 1\n",
    "class car(vehicle):\n",
    "    def wheels(self):\n",
    "        print(\"a car has 4 wheels\")\n",
    "       \n",
    "#child class 2\n",
    "class electric_car(car):\n",
    "    def speciality(self):\n",
    "        print(\"electric car runs on electricity\")\n",
    "\n",
    "electric=electric_car()\n",
    "electric.speciality()\n",
    "electric.wheels()\n",
    "electric.functioning()"
   ]
  },
  {
   "cell_type": "code",
   "execution_count": 18,
   "id": "98146e38-a08d-46d4-b2fe-b61e29a6e7e7",
   "metadata": {},
   "outputs": [
    {
     "name": "stdout",
     "output_type": "stream",
     "text": [
      "Hey there, you are in the parent class\n",
      "Hey there, you are in the child class 3\n",
      "Hey there, you are in the parent class\n",
      "Hey there, you are in the child class 2\n",
      "Hey there, you are in the parent class\n",
      "Hey there, you are in the child class 1\n"
     ]
    }
   ],
   "source": [
    "#Hierarchical Inheritance:\n",
    "'''\n",
    "This inheritance allows a class to host as a parent class for more than one child class or subclass. \n",
    "This provides a benefit of sharing the functioning of methods with multiple child classes, hence avoiding code duplication.\n",
    "'''\n",
    "#Ex:\n",
    "#parent class\n",
    "class Parent:\n",
    "    def fun1(self):\n",
    "        print(\"Hey there, you are in the parent class\")\n",
    " \n",
    "#child class 1\n",
    "class child1(Parent):\n",
    "    def fun2(self):\n",
    "        print(\"Hey there, you are in the child class 1\")\n",
    "\n",
    "#child class 2 \n",
    "class child2(Parent):\n",
    "    def fun3(self):\n",
    "        print(\"Hey there, you are in the child class 2\")\n",
    " \n",
    "#child class 3\n",
    "class child3(Parent):\n",
    "    def fun4(self):\n",
    "        print(\"Hey there, you are in the child class 3\")\n",
    " \n",
    "# main program\n",
    "child_obj1 = child3()\n",
    "child_obj2 = child2()\n",
    "child_obj3 = child1()\n",
    "child_obj1.fun1()\n",
    "child_obj1.fun4()\n",
    "child_obj2.fun1()\n",
    "child_obj2.fun3()\n",
    "child_obj3.fun1()\n",
    "child_obj3.fun2()"
   ]
  },
  {
   "cell_type": "code",
   "execution_count": 20,
   "id": "7cbfa44b-228a-4a40-a26e-72475c560de9",
   "metadata": {},
   "outputs": [
    {
     "name": "stdout",
     "output_type": "stream",
     "text": [
      "Hey there, you are in the class D\n",
      "Hey there, you are in class C\n",
      "Hey there, you are in class A\n"
     ]
    }
   ],
   "source": [
    "#Hybrid Inheritance:\n",
    "'''\n",
    "An inheritance is said hybrid inheritance if more than one type of inheritance is implemented in the same code. \n",
    "This feature enables the user to utilize the feature of inheritance at its best. \n",
    "This satisfies the requirement of implementing a code that needs multiple inheritances in implementation.\n",
    "'''\n",
    "#Ex.\n",
    "class A:\n",
    "    def fun1(self):\n",
    "        print(\"Hey there, you are in class A\")\n",
    "class B(A):\n",
    "    def fun2(self):\n",
    "        print(\"Hey there, you are in class B\")\n",
    "class C(A):\n",
    "    def fun3(self):\n",
    "        print(\"Hey there, you are in class C\")\n",
    "class D(C,A): #line 13\n",
    "    def fun4(self):\n",
    "        print(\"Hey there, you are in the class D\")#main program\n",
    "ref = D()\n",
    "ref.fun4()\n",
    "ref.fun3()\n",
    "ref.fun1()"
   ]
  },
  {
   "cell_type": "code",
   "execution_count": null,
   "id": "4df0b707-845e-482a-a214-7565be54cfd9",
   "metadata": {},
   "outputs": [],
   "source": []
  }
 ],
 "metadata": {
  "kernelspec": {
   "display_name": "Python 3 (ipykernel)",
   "language": "python",
   "name": "python3"
  },
  "language_info": {
   "codemirror_mode": {
    "name": "ipython",
    "version": 3
   },
   "file_extension": ".py",
   "mimetype": "text/x-python",
   "name": "python",
   "nbconvert_exporter": "python",
   "pygments_lexer": "ipython3",
   "version": "3.10.8"
  }
 },
 "nbformat": 4,
 "nbformat_minor": 5
}

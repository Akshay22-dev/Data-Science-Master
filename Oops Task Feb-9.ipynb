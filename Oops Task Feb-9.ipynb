{
 "cells": [
  {
   "cell_type": "markdown",
   "id": "d73513f5-1095-4025-b906-2f7c63857209",
   "metadata": {},
   "source": [
    "Q1, Create a vehicle class with an init method having instance variables as name_of_vehicle, max_speed\n",
    "and average_of_vehicle."
   ]
  },
  {
   "cell_type": "code",
   "execution_count": 5,
   "id": "926f9501-36fb-4a59-a835-ff3b60916ee2",
   "metadata": {},
   "outputs": [],
   "source": [
    "class vehicle:\n",
    "    def __init__(self,name_of_vehicle,max_speed,average_of_vehicle):\n",
    "        self.name_of_vehicle =  name_of_vehicle\n",
    "        self.max_speed = max_speed\n",
    "        self.average_of_vehicle = average_of_vehicle"
   ]
  },
  {
   "cell_type": "code",
   "execution_count": 7,
   "id": "66964a9d-f278-443a-a6b1-ddad7da52701",
   "metadata": {},
   "outputs": [],
   "source": [
    "obj_vehicle = vehicle(\"BMW\",120,80)"
   ]
  },
  {
   "cell_type": "code",
   "execution_count": 9,
   "id": "3d26315d-7e73-4bcf-a364-bd289b13fd95",
   "metadata": {},
   "outputs": [
    {
     "data": {
      "text/plain": [
       "80"
      ]
     },
     "execution_count": 9,
     "metadata": {},
     "output_type": "execute_result"
    }
   ],
   "source": [
    "obj_vehicle.average_of_vehicle"
   ]
  },
  {
   "cell_type": "code",
   "execution_count": 10,
   "id": "aca5f8db-8af2-4a2c-a2f8-7341df1c094b",
   "metadata": {},
   "outputs": [
    {
     "data": {
      "text/plain": [
       "120"
      ]
     },
     "execution_count": 10,
     "metadata": {},
     "output_type": "execute_result"
    }
   ],
   "source": [
    "obj_vehicle.max_speed"
   ]
  },
  {
   "cell_type": "code",
   "execution_count": 11,
   "id": "1df0e69d-f446-4535-b2e2-2f1d20dd7ed9",
   "metadata": {},
   "outputs": [
    {
     "data": {
      "text/plain": [
       "'BMW'"
      ]
     },
     "execution_count": 11,
     "metadata": {},
     "output_type": "execute_result"
    }
   ],
   "source": [
    "obj_vehicle.name_of_vehicle"
   ]
  },
  {
   "cell_type": "markdown",
   "id": "c097a354-d3f2-4107-884c-083c1994fbea",
   "metadata": {},
   "source": [
    "Q2. Create a child class car from the vehicle class created in Que 1, which will inherit the vehicle class.\n",
    "Create a method named seating_capacity which takes capacity as an argument and returns the name of\n",
    "the vehicle and its seating capacity."
   ]
  },
  {
   "cell_type": "code",
   "execution_count": 14,
   "id": "8825768a-62f5-48da-8eef-9e6f6f2af8ea",
   "metadata": {},
   "outputs": [],
   "source": [
    "class car(vehicle):\n",
    "    def seating_capacity(self,seating_capacity):\n",
    "        self.seating_capacity = 10"
   ]
  },
  {
   "cell_type": "code",
   "execution_count": 17,
   "id": "04c22161-d908-4675-940f-78230fa70737",
   "metadata": {},
   "outputs": [],
   "source": [
    "obj_car = car('toyota',120,90)"
   ]
  },
  {
   "cell_type": "code",
   "execution_count": 19,
   "id": "07776b45-ec47-4c20-b1e3-0d100d162156",
   "metadata": {},
   "outputs": [
    {
     "data": {
      "text/plain": [
       "120"
      ]
     },
     "execution_count": 19,
     "metadata": {},
     "output_type": "execute_result"
    }
   ],
   "source": [
    "obj_car.max_speed"
   ]
  },
  {
   "cell_type": "code",
   "execution_count": 20,
   "id": "7b6230ac-ccb6-4dd6-95c6-0cbfe2cc76f8",
   "metadata": {},
   "outputs": [
    {
     "data": {
      "text/plain": [
       "90"
      ]
     },
     "execution_count": 20,
     "metadata": {},
     "output_type": "execute_result"
    }
   ],
   "source": [
    "obj_car.average_of_vehicle"
   ]
  },
  {
   "cell_type": "code",
   "execution_count": 21,
   "id": "b2c21a41-5274-40af-a1a4-79f9f50eb0b3",
   "metadata": {},
   "outputs": [
    {
     "data": {
      "text/plain": [
       "'toyota'"
      ]
     },
     "execution_count": 21,
     "metadata": {},
     "output_type": "execute_result"
    }
   ],
   "source": [
    "obj_car.name_of_vehicle"
   ]
  },
  {
   "cell_type": "code",
   "execution_count": 24,
   "id": "45475bc4-9dc7-425c-afbd-cdccf4f2bacd",
   "metadata": {},
   "outputs": [
    {
     "name": "stdout",
     "output_type": "stream",
     "text": [
      "<bound method car.seating_capacity of <__main__.car object at 0x7f0af2686cb0>>\n"
     ]
    }
   ],
   "source": [
    "print(obj_car.seating_capacity)"
   ]
  },
  {
   "cell_type": "markdown",
   "id": "1ca1afba-1353-4aac-a524-8b43306152d1",
   "metadata": {},
   "source": [
    "Q3. What is multiple inheritance? Write a python code to demonstrate multiple inheritance."
   ]
  },
  {
   "cell_type": "code",
   "execution_count": 25,
   "id": "b74bea10-b0ab-4df7-82bf-9d33373aa782",
   "metadata": {},
   "outputs": [
    {
     "name": "stdout",
     "output_type": "stream",
     "text": [
      "In Class2\n"
     ]
    }
   ],
   "source": [
    "#Multiple Inheritance :\n",
    "'''\n",
    "When a class is derived from more than one base class it is called multiple Inheritance. \n",
    "The derived class inherits all the features of the base case.\n",
    "\n",
    "Syntax:\n",
    "Class Base1:\n",
    "       Body of the class\n",
    "\n",
    "Class Base2:\n",
    "     Body of the class\n",
    "\n",
    "Class Derived(Base1, Base2):\n",
    "     Body of the class\n",
    "'''\n",
    "#Ex.\n",
    "class Class1:\n",
    "    def m(self):\n",
    "        print(\"In Class1\")\n",
    "       \n",
    "class Class2(Class1):\n",
    "    def m(self):\n",
    "        print(\"In Class2\")\n",
    " \n",
    "class Class3(Class1):\n",
    "    def m(self):\n",
    "        print(\"In Class3\") \n",
    "        \n",
    "class Class4(Class2, Class3):\n",
    "    pass  \n",
    "     \n",
    "obj = Class4()\n",
    "obj.m()"
   ]
  },
  {
   "cell_type": "markdown",
   "id": "27ae99cc-049b-425c-b356-f015e83b2ca2",
   "metadata": {},
   "source": [
    "Q4. What are getter and setter in python? Create a class and create a getter and a setter method in this\n",
    "class."
   ]
  },
  {
   "cell_type": "code",
   "execution_count": 26,
   "id": "369c7faa-a657-468a-86ba-8bd0d8a006e6",
   "metadata": {},
   "outputs": [
    {
     "name": "stdout",
     "output_type": "stream",
     "text": [
      "21\n",
      "21\n"
     ]
    }
   ],
   "source": [
    "#Answer:\n",
    "'''\n",
    "We use getters & setters to add validation logic around getting and setting a value.\n",
    "To avoid direct access of a class field i.e. private variables cannot be accessed directly or modified by external user.\n",
    "'''\n",
    "#Ex.\n",
    "class Geek:\n",
    "    def __init__(self, age = 0):\n",
    "         self._age = age\n",
    "      \n",
    "    # getter method\n",
    "    def get_age(self):\n",
    "        return self._age\n",
    "      \n",
    "    # setter method\n",
    "    def set_age(self, x):\n",
    "        self._age = x\n",
    "  \n",
    "raj = Geek()\n",
    "  \n",
    "# setting the age using setter\n",
    "raj.set_age(21)\n",
    "  \n",
    "# retrieving age using getter\n",
    "print(raj.get_age())\n",
    "  \n",
    "print(raj._age)"
   ]
  },
  {
   "cell_type": "markdown",
   "id": "60fe04bc-7b06-4b78-bdba-bbd2ff1650cc",
   "metadata": {},
   "source": [
    "Q5.What is method overriding in python? Write a python code to demonstrate method overriding."
   ]
  },
  {
   "cell_type": "code",
   "execution_count": 27,
   "id": "4f9f6d1d-a048-482a-ac96-54bd5ffe2902",
   "metadata": {},
   "outputs": [
    {
     "name": "stdout",
     "output_type": "stream",
     "text": [
      "Inside Parent\n",
      "Inside Child\n"
     ]
    }
   ],
   "source": [
    "#Method overriding :\n",
    "'''\n",
    "an ability of any object-oriented programming language that allows a subclass\n",
    "or child class to provide a specific implementation of a method that is already provided by one of its super-classes or parent classes. \n",
    "When a method in a subclass has the same name, same parameters or signature and same return type(or sub-type) as a method in \n",
    "its super-class, then the method in the subclass is said to override the method in the super-class.\n",
    "'''\n",
    "#Ex.\n",
    "class Parent():\n",
    "      \n",
    "    # Constructor\n",
    "    def __init__(self):\n",
    "        self.value = \"Inside Parent\"\n",
    "          \n",
    "    # Parent's show method\n",
    "    def show(self):\n",
    "        print(self.value)\n",
    "          \n",
    "# Defining child class\n",
    "class Child(Parent):\n",
    "      \n",
    "    # Constructor\n",
    "    def __init__(self):\n",
    "        self.value = \"Inside Child\"\n",
    "          \n",
    "    # Child's show method\n",
    "    def show(self):\n",
    "        print(self.value)\n",
    "          \n",
    "          \n",
    "# Driver's code\n",
    "obj1 = Parent()\n",
    "obj2 = Child()\n",
    "  \n",
    "obj1.show()\n",
    "obj2.show()"
   ]
  },
  {
   "cell_type": "code",
   "execution_count": null,
   "id": "f788e16f-111e-43c4-b215-8e6adad9e814",
   "metadata": {},
   "outputs": [],
   "source": []
  }
 ],
 "metadata": {
  "kernelspec": {
   "display_name": "Python 3 (ipykernel)",
   "language": "python",
   "name": "python3"
  },
  "language_info": {
   "codemirror_mode": {
    "name": "ipython",
    "version": 3
   },
   "file_extension": ".py",
   "mimetype": "text/x-python",
   "name": "python",
   "nbconvert_exporter": "python",
   "pygments_lexer": "ipython3",
   "version": "3.10.8"
  }
 },
 "nbformat": 4,
 "nbformat_minor": 5
}

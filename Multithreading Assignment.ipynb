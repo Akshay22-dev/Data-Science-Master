{
 "cells": [
  {
   "cell_type": "markdown",
   "id": "e986872c-4ded-42ea-b6c9-5efb604b1c22",
   "metadata": {},
   "source": [
    "Q1.What is multithreading in python?  Why is it used? Name the module used to handle threads in python."
   ]
  },
  {
   "cell_type": "code",
   "execution_count": 1,
   "id": "6ec20909-0622-476c-878c-45c00fcd8a8a",
   "metadata": {},
   "outputs": [
    {
     "data": {
      "text/plain": [
       "'\\nSyntax:\\nimport threading  \\nA threading module is made up of a Thread class, which is instantiated to create a Python thread.\\n'"
      ]
     },
     "execution_count": 1,
     "metadata": {},
     "output_type": "execute_result"
    }
   ],
   "source": [
    "#Multithreading:\n",
    "'''\n",
    "Multithreading is defined as the ability of a processor to execute multiple threads concurrently. \n",
    "In a simple, single-core CPU, it is achieved using frequent switching between threads. This is termed context switching.\n",
    "'''\n",
    "#Why is it used:\n",
    "'''\n",
    "Benefits of Using Python for Multithreading\n",
    "The following are the advantages of using Python for multithreading:\n",
    "It guarantees powerful usage of PC framework assets.\n",
    "Applications with multiple threads respond faster.\n",
    "It is more cost-effective because it shares resources and its state with sub-threads (child).\n",
    "It makes the multiprocessor engineering more viable because of closeness.\n",
    "By running multiple threads simultaneously, it cuts down on time.\n",
    "To store multiple threads, the system does not require a lot of memory.\n",
    "'''\n",
    "\n",
    "#There are two main modules of multithreading used to handle threads in Python.\n",
    "\n",
    "#1.The thread module:\n",
    "'''\n",
    "Syntax:\n",
    "thread.start_new_thread ( function_name, args[, kwargs] )  \n",
    "To implement the thread module in Python, we need to import a thread module and then define a function that performs some action by setting the target with a variable.   \n",
    "'''\n",
    "#2.The threading module:\n",
    "'''\n",
    "Syntax:\n",
    "import threading  \n",
    "A threading module is made up of a Thread class, which is instantiated to create a Python thread.\n",
    "'''"
   ]
  },
  {
   "cell_type": "markdown",
   "id": "5de4e156-4b40-4daf-9976-ee92784a992e",
   "metadata": {},
   "source": [
    "Q2.Why threading module used? Write the use of the following functions\n",
    "1. activeCount()\n",
    "2. currentThread()\n",
    "3. enumerate()"
   ]
  },
  {
   "cell_type": "code",
   "execution_count": 2,
   "id": "01563709-6554-4a87-85dd-c32bbad85b8c",
   "metadata": {},
   "outputs": [
    {
     "data": {
      "text/plain": [
       "\"\\n1.threading.activeCount() − Returns the number of thread objects that are active.\\n2.threading.currentThread() − Returns the number of thread objects in the caller's thread control.\\n3.threading.enumerate() − Returns a list of all thread objects that are currently active.\\n\""
      ]
     },
     "execution_count": 2,
     "metadata": {},
     "output_type": "execute_result"
    }
   ],
   "source": [
    "#Answer:\n",
    "#Why threading module used:-\n",
    "'''\n",
    "Python threading allows you to have different parts of your program run concurrently and can simplify your design.\n",
    "'''\n",
    "#The use of the following functions:\n",
    "'''\n",
    "1.threading.activeCount() − Returns the number of thread objects that are active.\n",
    "2.threading.currentThread() − Returns the number of thread objects in the caller's thread control.\n",
    "3.threading.enumerate() − Returns a list of all thread objects that are currently active.\n",
    "'''"
   ]
  },
  {
   "cell_type": "markdown",
   "id": "349748d3-c03b-4c8b-9ad2-8429bc2b72e1",
   "metadata": {},
   "source": [
    "Q3. Explain the following functions\n",
    "1.run()\n",
    "2.start()\n",
    "3.join()\n",
    "4.isAlive()"
   ]
  },
  {
   "cell_type": "code",
   "execution_count": 4,
   "id": "d7917495-5302-4e97-aa00-250e1909a245",
   "metadata": {},
   "outputs": [
    {
     "data": {
      "text/plain": [
       "'\\n1.run() − The run() method is the entry point for a thread.\\n2.start() − The start() method starts a thread by calling the run method.\\n3.join([time]) − The join() waits for threads to terminate.\\n4.isAlive() − The isAlive() method checks whether a thread is still executing.\\n'"
      ]
     },
     "execution_count": 4,
     "metadata": {},
     "output_type": "execute_result"
    }
   ],
   "source": [
    "#Answers:-\n",
    "'''\n",
    "1.run() − The run() method is the entry point for a thread.\n",
    "2.start() − The start() method starts a thread by calling the run method.\n",
    "3.join([time]) − The join() waits for threads to terminate.\n",
    "4.isAlive() − The isAlive() method checks whether a thread is still executing.\n",
    "'''"
   ]
  },
  {
   "cell_type": "markdown",
   "id": "96c0ccd0-fc7f-4d11-a672-32e1bc2b2890",
   "metadata": {},
   "source": [
    "Q4. Write a python program to create two threads. Thread one must print the list of squares and thread\n",
    "two must print the list of cubes"
   ]
  },
  {
   "cell_type": "code",
   "execution_count": null,
   "id": "c07275f7-a28c-41f3-88f6-4e32f88c2657",
   "metadata": {},
   "outputs": [],
   "source": [
    "#Answer:\n",
    "\n",
    "import queue\n",
    "import threading\n",
    "class Cube():\n",
    "def __init__(self, lat):\n",
    "    self.lat = lat\n",
    "def volume(self):\n",
    "    return self.lat ** 3\n",
    "def lenght(self):\n",
    "    return self.lat * 12\n",
    "if __name__ == \"__main__\":\n",
    "    que = queue.Queue()\n",
    "    cube = Cube(2)\n",
    "t1 = threading.Thread(target=lambda c, q: q.put(c.lenght()), args=(cube, que))\n",
    "t2 = threading.Thread(target=lambda c, q: q.put(c.volume()), args=(cube, que))\n",
    "t1.start()\n",
    "t2.start()\n",
    "t1.join()\n",
    "t2.join()\n",
    "while not que.empty():\n",
    "    result = que.get()\n",
    "    \n",
    "    print(result)"
   ]
  },
  {
   "cell_type": "markdown",
   "id": "3b413302-2ef4-4d13-94a2-3256d4077056",
   "metadata": {},
   "source": [
    "Q5. State advantages and disadvantages of multithreading"
   ]
  },
  {
   "cell_type": "code",
   "execution_count": 9,
   "id": "e0a67b2f-c771-44c1-b076-21fec8c461f3",
   "metadata": {},
   "outputs": [
    {
     "data": {
      "text/plain": [
       "'\\nComplex debugging and testing processes\\nOverhead switching of context\\nIncreased potential for deadlock occurrence\\nIncreased difficulty level in writing a program\\nUnpredictable results\\n'"
      ]
     },
     "execution_count": 9,
     "metadata": {},
     "output_type": "execute_result"
    }
   ],
   "source": [
    "#Answer:\n",
    "#Advantages:\n",
    "'''\n",
    "Following are some of the common advantages of multithreading:\n",
    "Enhanced performance by decreased development time\n",
    "Simplified and streamlined program coding\n",
    "Improvised GUI responsiveness\n",
    "Simultaneous and parallelized occurrence of tasks\n",
    "Better use of cache storage by utilization of resources\n",
    "Decreased cost of maintenance\n",
    "Better use of CPU resource\n",
    "'''\n",
    "#Disadvantages:\n",
    "'''\n",
    "Complex debugging and testing processes\n",
    "Overhead switching of context\n",
    "Increased potential for deadlock occurrence\n",
    "Increased difficulty level in writing a program\n",
    "Unpredictable results\n",
    "'''"
   ]
  },
  {
   "cell_type": "markdown",
   "id": "35626afe-0f80-42c3-b1f8-6ed95015e87c",
   "metadata": {},
   "source": [
    "Q6. Explain deadlocks and race conditions."
   ]
  },
  {
   "cell_type": "code",
   "execution_count": 10,
   "id": "c502b0b4-d39d-4db6-9b68-bccf16c1c4e9",
   "metadata": {},
   "outputs": [
    {
     "data": {
      "text/plain": [
       "'\\nA race condition occurs when two threads use the same variable at a given time.\\nDeadlock exists when two threads seek one lock simultaneously\\n'"
      ]
     },
     "execution_count": 10,
     "metadata": {},
     "output_type": "execute_result"
    }
   ],
   "source": [
    "#Answer:\n",
    "'''\n",
    "A race condition occurs when two threads use the same variable at a given time.\n",
    "Deadlock exists when two threads seek one lock simultaneously\n",
    "'''"
   ]
  },
  {
   "cell_type": "code",
   "execution_count": null,
   "id": "d272d7c1-9681-479a-bb52-c54c9fe5d636",
   "metadata": {},
   "outputs": [],
   "source": []
  }
 ],
 "metadata": {
  "kernelspec": {
   "display_name": "Python 3 (ipykernel)",
   "language": "python",
   "name": "python3"
  },
  "language_info": {
   "codemirror_mode": {
    "name": "ipython",
    "version": 3
   },
   "file_extension": ".py",
   "mimetype": "text/x-python",
   "name": "python",
   "nbconvert_exporter": "python",
   "pygments_lexer": "ipython3",
   "version": "3.10.8"
  }
 },
 "nbformat": 4,
 "nbformat_minor": 5
}

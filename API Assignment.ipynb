{
 "cells": [
  {
   "cell_type": "markdown",
   "id": "62be5ef5-b5b0-4087-a611-499b4a2464cf",
   "metadata": {},
   "source": [
    "Q1. What is an API? Give an example, where an API is used in real life."
   ]
  },
  {
   "cell_type": "raw",
   "id": "4d43a4d2-7076-4fab-a63d-dceb8f466008",
   "metadata": {},
   "source": [
    "#Answer:-\n",
    "#API(Application Programming Interface):-\n",
    "'''\n",
    "An API is the interface that allows two independent software components to exchange information.\n",
    "An API acts as an intermediary between internal software functionsand external ones, creating an exchange of information \n",
    "so seamless that it often goes unnoticed by the end user.\n",
    "'''\n",
    "#API examples:\n",
    "'''\n",
    "In practice, an API can be used to connect virtually any processes. Here are a few common examples of APIs:\n",
    "Sharing flight information between airlines and travel sites\n",
    "Using Google Maps in a rideshare app\n",
    "Building chatbots in a messaging service\n",
    "Embedding YouTube videos into a webpage\n",
    "Automating workflows between B2B software tools\n",
    "'''"
   ]
  },
  {
   "cell_type": "markdown",
   "id": "5e68ce9e-c6b2-4461-bc70-48cb8d255fa3",
   "metadata": {},
   "source": [
    "Q2. Give advantages and disadvantages of using API."
   ]
  },
  {
   "cell_type": "raw",
   "id": "f834bef1-1094-4125-b310-676d06c0afac",
   "metadata": {},
   "source": [
    "#Answr:\n",
    "#Advantages Of API:\n",
    "'''\n",
    "1.Increased Interoperability: API solutions enable different software systems to communicate with each other, \n",
    "regardless of their programming language or platform.This enhances the interoperability between systems, allowing for \n",
    "the exchange of data and functionality.\n",
    "2.Improved Efficiency: API driven infrastructures enable developers to reuse code and functionality from existing software systems, \n",
    "saving time and reducing the amount of code that needs to be written from scratch.\n",
    "3.Better User Experience: APIs can enable third-party developers to create applications that integrate with existing software systems,\n",
    "providing a better user experience and increased functionality.\n",
    "4.Increased Flexibility: APIs provide developers with greater flexibility, enabling them to choose the best programming languages and \n",
    "frameworks for their needs.\n",
    "5.New Revenue Streams: APIs can enable companies to create new revenue streams by providing third-party developers with access to \n",
    "their software systems.\n",
    "'''\n",
    "#Disadvantages Of API:\n",
    "'''\n",
    "1.Security Concerns: API infrastructures can be vulnerable to security breaches, such as SQL injection attacks and cross-site \n",
    "scripting (XSS) attacks, making it crucial to implement security measures to protect against these threats.\n",
    "2.Complexity: APIs can be complex, requiring a significant amount of development effort to implement and maintain.\n",
    "3.Compatibility Issues: APIs can have compatibility issues between different versions of the same software system or between \n",
    "different systems, which can lead to errors and system failures.\n",
    "4.Dependency on Third-Party Developers: APIs rely on third-party developers to create applications that integrate with the \n",
    "software system. This can create dependencies that are outside of the control of the company that owns the software system.\n",
    "5.Governance and Management: APIs require proper governance and management to ensure they are being used correctly and consistently\n",
    "across different applications and systems.\n",
    "'''\n"
   ]
  },
  {
   "cell_type": "markdown",
   "id": "e484f443-873d-4d7c-89b1-a96625d0ea04",
   "metadata": {},
   "source": [
    "Q3. What is a Web API? Differentiate between API and Web API."
   ]
  },
  {
   "cell_type": "raw",
   "id": "adcfcf6f-5a9f-4616-b164-518e773709c8",
   "metadata": {},
   "source": [
    "#Answer:\n",
    "#Web API:\n",
    "'''\n",
    "A Web API is an application programming interface for the Web. A Browser API can extend the functionality of a web browser.\n",
    "A Server API can extend the functionality of a web server.\n",
    "'''\n",
    "#Difference between WEB API And API:\n",
    "'''\n",
    "Web Service:\n",
    "1.All web services are APIs.\n",
    "2.It supports XML.\n",
    "3.You need a SOAP protocol to send or receive and data over the network. Therefore it does not have light-weight architecture.\n",
    "4.It can be used by any client who understands XML.\n",
    "5.Web service uses three styles: REST, SOAP, and XML-RPC for communication.\n",
    "6.It provides supports only for the HTTP protocol.\n",
    "API\n",
    "1.All APIs are not web services.\n",
    "2.Responses are formatted using Web API’s MediaTypeFormatter into XML, JSON, or any other given format.\n",
    "3.API has a light-weight architecture.\n",
    "4.It can be used by a client who understands JSON or XML.\n",
    "5.API can be used for any style of communication.\n",
    "6.It provides support for the HTTP/s protocol: URL Request/Response Headers, etc."
   ]
  },
  {
   "cell_type": "markdown",
   "id": "7692574e-4afb-42ff-b436-0928981a9125",
   "metadata": {},
   "source": [
    "Q4. Explain REST and SOAP Architecture. Mention shortcomings of SOAP.Q4. Explain REST and SOAP Architecture. Mention shortcomings of SOAP."
   ]
  },
  {
   "cell_type": "raw",
   "id": "040a6954-46d3-4816-a5de-2fe2132bf4c1",
   "metadata": {},
   "source": [
    "#Answer:\n",
    "#REST Architecture:\n",
    "'''\n",
    "REST stands for REpresentational State Transfer and API stands for Application Program Interface. REST is a software architectural style that defines the set of rules to be used for creating web services. Web services which follow the REST architectural style are known as RESTful web services. It allows requesting systems to access and manipulate web resources by using a uniform and predefined set of rules. Interaction in REST based systems happen through Internet’s Hypertext Transfer Protocol (HTTP). \n",
    "#Architectural Constraints of RESTful API:\n",
    "1.Uniform Interface\n",
    "2.Stateless\n",
    "3.Cacheable\n",
    "4.Client-Server\n",
    "5.Layered System\n",
    "6.Code on Demand\n",
    "'''\n",
    "#SOAP Architecture:\n",
    "'''\n",
    "SOAP is a protocol for the exchange of information in a distributed environment. SOAP messages are encoded as XML documents and can be exchanged using various underlying protocols.\n",
    "Formerly an acronym for Simple Object Access Protocol, SOAP is developed by the World Wide Web Consortium (W3C), and is defined in the following documents issued by W3C. Consult these documents for complete, and authoritative, information about SOAP.\n",
    "Simple Object Access Protocol (SOAP) 1.1 (W3C note)\n",
    "SOAP Version 1.2 Part 0: Primer (W3C recommendation)\n",
    "SOAP Version 1.2 Part 1: Messaging Framework (W3C recommendation)\n",
    "'''\n",
    "\n"
   ]
  },
  {
   "cell_type": "markdown",
   "id": "64f22c26-968a-48df-9e91-16eecf2b1d66",
   "metadata": {},
   "source": [
    "Q5. Differentiate between REST and SOAP."
   ]
  },
  {
   "cell_type": "raw",
   "id": "468f7da2-2b54-49ae-a956-242078cf758f",
   "metadata": {},
   "source": [
    "#Answer:\n",
    "#REST API:\n",
    "'''\n",
    "1.Relies on REST (Representational State Transfer) architecture using HTTP.\n",
    "2.Generally transports data in JSON. It is based on URI. Because REST follows stateless model, \n",
    "REST does not enforces message format as XML or JSON etc.\n",
    "3.It works with GET, POST, PUT, DELETE.\n",
    "4.Works over HTTP and HTTPS.\n",
    "5.Less structured -> less bulky data.\n",
    "6.Designed with mobile devices in mind.\n",
    "'''\n",
    "#SOAP API\n",
    "'''\n",
    "1.Relies on SOAP (Simple Object Access Protocol)\n",
    "2.Transports data in standard XML format.\n",
    "3.Because it is XML based and relies on SOAP, it works with WSDL.\n",
    "4.Works over HTTP, HTTPS, SMTP, XMPP\n",
    "5.Highly structured/typed.\n",
    "6.Designed with large enterprise applications in mind\n",
    "'''"
   ]
  },
  {
   "cell_type": "code",
   "execution_count": null,
   "id": "efa2e3c4-8e83-40d4-aa39-fe4ac02043d9",
   "metadata": {},
   "outputs": [],
   "source": [
    "s"
   ]
  }
 ],
 "metadata": {
  "kernelspec": {
   "display_name": "Python 3 (ipykernel)",
   "language": "python",
   "name": "python3"
  },
  "language_info": {
   "codemirror_mode": {
    "name": "ipython",
    "version": 3
   },
   "file_extension": ".py",
   "mimetype": "text/x-python",
   "name": "python",
   "nbconvert_exporter": "python",
   "pygments_lexer": "ipython3",
   "version": "3.10.8"
  }
 },
 "nbformat": 4,
 "nbformat_minor": 5
}

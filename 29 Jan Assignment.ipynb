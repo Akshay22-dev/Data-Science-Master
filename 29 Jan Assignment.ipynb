{
 "cells": [
  {
   "cell_type": "markdown",
   "id": "44aa9995-0357-42e6-972a-316c5d5e1e11",
   "metadata": {},
   "source": [
    "Q1. Who is developed Python programming language?\n",
    "Answer: Guido van Rossum\n"
   ]
  },
  {
   "cell_type": "markdown",
   "id": "82c5f4ac-96b5-448c-bee4-fc6cca87f4c2",
   "metadata": {},
   "source": [
    "Answer: Guido van Rossum"
   ]
  },
  {
   "cell_type": "markdown",
   "id": "80c471be-2214-4f06-aa85-e5d923c10966",
   "metadata": {},
   "source": [
    "Q2. Which type of programming does python support?"
   ]
  },
  {
   "cell_type": "markdown",
   "id": "386ffe31-cf96-44d5-9676-5010b11dce03",
   "metadata": {},
   "source": [
    "Answer: Object-oriented programming and structured programming are fully supported."
   ]
  },
  {
   "cell_type": "markdown",
   "id": "34250ea8-cc05-4bb4-9016-dbd86036b750",
   "metadata": {},
   "source": [
    "Q3.Is python Case Sensitive when dealing with identifiers?"
   ]
  },
  {
   "cell_type": "markdown",
   "id": "28a2f206-d0ba-45ba-83c0-f0042b3bb323",
   "metadata": {},
   "source": [
    "Answer:Yes, Python is a case-sensitive language.This means, Variable and variable are not the same. Always give the identifiers a name that makes sense."
   ]
  },
  {
   "cell_type": "markdown",
   "id": "4ef2052d-1967-4175-ac0b-de51c21dc501",
   "metadata": {},
   "source": [
    "Q4. What is correct extension of python file?"
   ]
  },
  {
   "cell_type": "markdown",
   "id": "3fd5f14f-69a4-407f-aeab-a890d6688e89",
   "metadata": {},
   "source": [
    "Answer: py"
   ]
  },
  {
   "cell_type": "markdown",
   "id": "ec6d0e07-2677-4577-9fad-929a97661c78",
   "metadata": {},
   "source": [
    "Q5. Is python code compiled or interprited?"
   ]
  },
  {
   "cell_type": "markdown",
   "id": "b75589f2-1b3f-4b1a-9c43-c287e7c30e61",
   "metadata": {},
   "source": [
    "Answer: Python is both compiled as well as an interpreted language, which means when we run a python code, it is first compiled and then interpreted line by line. The compile part gets deleted as soon as the code gets executed in Python so that the programmer doesn't get onto unnecessary complexity."
   ]
  },
  {
   "cell_type": "markdown",
   "id": "2b96d350-2dcc-47cb-a299-72cae3758ce2",
   "metadata": {},
   "source": [
    "Q6.Name a few blocks of code used to define in python language?"
   ]
  },
  {
   "cell_type": "markdown",
   "id": "b4b711ed-2836-4ee6-ab0b-915527f5d86a",
   "metadata": {},
   "source": [
    "Answer:The following are blocks: a module, a function body, and a class definition\n"
   ]
  },
  {
   "cell_type": "markdown",
   "id": "181a263d-eff5-4658-a7ca-b7491e863cb2",
   "metadata": {},
   "source": [
    "Q7. State a charater use to give single-line comments in python?\n"
   ]
  },
  {
   "cell_type": "markdown",
   "id": "4efa0381-9480-4392-8c0a-5b685661aaad",
   "metadata": {},
   "source": [
    "Answer: # is used in python for singel line comment."
   ]
  },
  {
   "cell_type": "markdown",
   "id": "0e2ae1c8-916d-428d-9814-ebc790410f5a",
   "metadata": {},
   "source": [
    "Q8. Mention functions which can help us to give single-line comments in python?"
   ]
  },
  {
   "cell_type": "markdown",
   "id": "01693a6f-6302-4d55-9e27-d2737b8ff5ce",
   "metadata": {},
   "source": [
    "Answer:the # character is used \n"
   ]
  },
  {
   "cell_type": "markdown",
   "id": "f668301a-7171-4cef-96cf-9754293da5e3",
   "metadata": {},
   "source": [
    "Q9. Python supports the creation of ananymous functions at runtime, using a construct called?\n"
   ]
  },
  {
   "cell_type": "markdown",
   "id": "17079213-d17f-499d-8312-16188c133f4b",
   "metadata": {},
   "source": [
    "Answer:Python supports to make anonymous functions which are not bound to a name(@ runtime). It uses a construct called \"lambda\" "
   ]
  },
  {
   "cell_type": "markdown",
   "id": "088539fc-5aa3-423f-951b-96a050769018",
   "metadata": {},
   "source": [
    "Q10.What does pip stands for python?"
   ]
  },
  {
   "cell_type": "markdown",
   "id": "7bcfd1c3-5261-4a18-9aaa-888c4a80aa2f",
   "metadata": {},
   "source": [
    "Answer;PIP stands for “Package Installer for python”, using PIP you can install packages from Python Package Index or other indexes. "
   ]
  },
  {
   "cell_type": "markdown",
   "id": "a7a1ab0b-ef8d-48a5-b583-dddc49f50829",
   "metadata": {},
   "source": [
    "Q11. Mention a few built-in functions in python?"
   ]
  },
  {
   "cell_type": "markdown",
   "id": "e9c9fa40-e41a-4f82-8b5a-46ad67f9d8a6",
   "metadata": {},
   "source": [
    "Answer:1)1. abs()\n",
    "       2)2. all()\n",
    "       3)3. any()\n",
    "       4.  ascii()\n",
    "       5. bin()"
   ]
  },
  {
   "cell_type": "markdown",
   "id": "a2485cce-56e9-4db4-87c4-af7fdd51492d",
   "metadata": {},
   "source": [
    "Q12. What is the maximum possible length of an identifier in python?\n"
   ]
  },
  {
   "cell_type": "markdown",
   "id": "ac52f716-d348-40c0-9726-d3b045b82f37",
   "metadata": {},
   "source": [
    "Answer: 79 characters"
   ]
  },
  {
   "cell_type": "markdown",
   "id": "7bfacbc4-d7ff-4e0f-95dc-4b35554f5169",
   "metadata": {},
   "source": [
    "Q13. What are the benefits of using python?"
   ]
  },
  {
   "cell_type": "markdown",
   "id": "32276bb1-a8f9-47f8-a053-e7c9bafcb6d9",
   "metadata": {},
   "source": [
    "Answer:Data science.\n",
    "Scientific and mathematical computing.\n",
    "Web development.\n",
    "Finance and trading.\n",
    "System automation and administration.\n",
    "Computer graphics.\n",
    "Basic game development.\n",
    "Security and penetration testing"
   ]
  },
  {
   "cell_type": "markdown",
   "id": "ac5b3705-403a-40bc-8775-e346d07029aa",
   "metadata": {},
   "source": [
    "Q14. How is memory managed in python?"
   ]
  },
  {
   "cell_type": "markdown",
   "id": "9e68e686-a958-409d-bcb1-f23d67b5e35c",
   "metadata": {},
   "source": [
    "Answer:Memory management in Python involves a private heap containing all Python objects and data structures. The management of this private heap is ensured internally by the Python memory manager."
   ]
  },
  {
   "cell_type": "markdown",
   "id": "d1799ae5-dff5-4f91-87bc-1ecc1ba38b60",
   "metadata": {},
   "source": [
    "15. How to install python on windows and set path variables?"
   ]
  },
  {
   "cell_type": "markdown",
   "id": "c582351d-2099-48c1-912e-9a28c093fc3c",
   "metadata": {},
   "source": [
    "Answer:The complete path of python.exe can be added by:\n",
    "\n",
    "Right-clicking This PC and going to Properties.\n",
    "\n",
    "Clicking on the Advanced system settings in the menu on the left.\n",
    "\n",
    "Clicking on the Environment Variables button o​n the bottom right.\n",
    "\n",
    "In the System variables section, selecting the Path variable and clicking on Edit. The next screen will show all the directories that are currently a part of the PATH variable.\n",
    "\n",
    "Clicking on New and entering Python’s install directory.\n",
    "\n",
    "Python can now be used directly from the command prompt without having to write its location. Try executing the command python --version; it will output the version of Python installed on your system."
   ]
  },
  {
   "cell_type": "markdown",
   "id": "10edbece-7333-4537-9d7b-accb33c5b9e6",
   "metadata": {},
   "source": [
    "Q16. is indentation required in python? "
   ]
  },
  {
   "cell_type": "markdown",
   "id": "f4f221d2-766a-4e08-a730-60614929e1bc",
   "metadata": {},
   "source": [
    "Answer: yes\n"
   ]
  },
  {
   "cell_type": "code",
   "execution_count": null,
   "id": "ebf580fd-043a-4840-b04a-5c46bd41ad80",
   "metadata": {},
   "outputs": [],
   "source": []
  }
 ],
 "metadata": {
  "kernelspec": {
   "display_name": "Python 3 (ipykernel)",
   "language": "python",
   "name": "python3"
  },
  "language_info": {
   "codemirror_mode": {
    "name": "ipython",
    "version": 3
   },
   "file_extension": ".py",
   "mimetype": "text/x-python",
   "name": "python",
   "nbconvert_exporter": "python",
   "pygments_lexer": "ipython3",
   "version": "3.10.8"
  }
 },
 "nbformat": 4,
 "nbformat_minor": 5
}

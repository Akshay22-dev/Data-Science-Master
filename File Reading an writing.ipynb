{
 "cells": [
  {
   "cell_type": "code",
   "execution_count": 5,
   "id": "ee835b4a-f05b-4a9d-b8e0-d91030b16e26",
   "metadata": {},
   "outputs": [],
   "source": [
    "data =  {\n",
    "    \"name\" : \"sudh\",\n",
    "    \"mail_id\" : \"sudh@gmail.com\",\n",
    "    \"phone_number\" : 7558690343,\n",
    "    \"subject\" : [\"data science\", \"big data\", \"data analyatics\"]\n",
    "}\n",
    "    "
   ]
  },
  {
   "cell_type": "code",
   "execution_count": 6,
   "id": "a8863503-3d09-4e78-9fb8-e1473dc5f897",
   "metadata": {},
   "outputs": [],
   "source": [
    "import json"
   ]
  },
  {
   "cell_type": "code",
   "execution_count": 7,
   "id": "64390053-7fd5-4f76-9c7f-10314e319729",
   "metadata": {},
   "outputs": [],
   "source": [
    "with open(\"test1.json\",\"w\") as f:\n",
    "    json.dump(data, f)"
   ]
  },
  {
   "cell_type": "code",
   "execution_count": 8,
   "id": "c8c69d86-671f-4406-a56c-20e5d9f8154c",
   "metadata": {},
   "outputs": [],
   "source": [
    "with open(\"test1.json\", \"r\") as f:\n",
    "    data1 = json.load(f)"
   ]
  },
  {
   "cell_type": "code",
   "execution_count": 9,
   "id": "cf82be52-857b-429b-87ab-87efc1b8d7fc",
   "metadata": {},
   "outputs": [
    {
     "data": {
      "text/plain": [
       "{'name': 'sudh',\n",
       " 'mail_id': 'sudh@gmail.com',\n",
       " 'phone_number': 7558690343,\n",
       " 'subject': ['data science', 'big data', 'data analyatics']}"
      ]
     },
     "execution_count": 9,
     "metadata": {},
     "output_type": "execute_result"
    }
   ],
   "source": [
    "data1"
   ]
  },
  {
   "cell_type": "code",
   "execution_count": 10,
   "id": "7c6fc700-58fd-43a0-aedb-d947ac96e6cc",
   "metadata": {},
   "outputs": [
    {
     "data": {
      "text/plain": [
       "'big data'"
      ]
     },
     "execution_count": 10,
     "metadata": {},
     "output_type": "execute_result"
    }
   ],
   "source": [
    "data1['subject'][1]"
   ]
  },
  {
   "cell_type": "code",
   "execution_count": 11,
   "id": "cbd2cab2-92c7-4232-b9bf-e0eefa38bb97",
   "metadata": {},
   "outputs": [],
   "source": [
    "data = [[\"name\",\"email_id\",\"number\"],\n",
    "       [\"sudh\",\"sudh@gmail.com\",7537489384],\n",
    "       [\"krish\",\"krish@gmail.com\",9865738393]\n",
    "       ]"
   ]
  },
  {
   "cell_type": "code",
   "execution_count": 12,
   "id": "507af581-d739-40c1-b124-814515a8fc46",
   "metadata": {},
   "outputs": [],
   "source": [
    "import csv"
   ]
  },
  {
   "cell_type": "code",
   "execution_count": 13,
   "id": "7f1250fc-8427-4538-ba00-3efac09b6040",
   "metadata": {
    "tags": []
   },
   "outputs": [],
   "source": [
    "with open(\"test3.csv\",'w') as f:\n",
    "    w = csv.writer(f)\n",
    "    for i in data:\n",
    "        w.writerow(i)"
   ]
  },
  {
   "cell_type": "code",
   "execution_count": 14,
   "id": "654dfabe-b069-445c-a34f-6f5b3ef31fce",
   "metadata": {},
   "outputs": [
    {
     "name": "stdout",
     "output_type": "stream",
     "text": [
      "['name', 'email_id', 'number']\n",
      "['sudh', 'sudh@gmail.com', '7537489384']\n",
      "['krish', 'krish@gmail.com', '9865738393']\n"
     ]
    }
   ],
   "source": [
    "with open(\"test3.csv\",\"r\") as f:\n",
    "    read = csv.reader(f)\n",
    "    for i in read:\n",
    "        print(i)\n",
    "\n",
    "\n",
    "\n",
    "\n",
    "\n",
    "s\n",
    "\n",
    "\n",
    "\n",
    "\n"
   ]
  },
  {
   "cell_type": "code",
   "execution_count": 15,
   "id": "d6c642eb-b3bc-4caf-9b30-9d39755bbf56",
   "metadata": {},
   "outputs": [],
   "source": [
    "with open(\"test4.bin\",'wb') as f:\n",
    "    f.write(b\"\\x01\\x02\\x03\")"
   ]
  },
  {
   "cell_type": "code",
   "execution_count": 16,
   "id": "b6e17128-5787-4191-a006-72d0b451b6f1",
   "metadata": {},
   "outputs": [
    {
     "name": "stdout",
     "output_type": "stream",
     "text": [
      "b'\\x01\\x02\\x03'\n"
     ]
    }
   ],
   "source": [
    "with open(\"test4.bin\",\"rb\") as f:\n",
    "    print(f.read())"
   ]
  },
  {
   "cell_type": "code",
   "execution_count": null,
   "id": "95476681-ce45-419f-9629-e11ec3e52e87",
   "metadata": {},
   "outputs": [],
   "source": []
  }
 ],
 "metadata": {
  "kernelspec": {
   "display_name": "Python 3 (ipykernel)",
   "language": "python",
   "name": "python3"
  },
  "language_info": {
   "codemirror_mode": {
    "name": "ipython",
    "version": 3
   },
   "file_extension": ".py",
   "mimetype": "text/x-python",
   "name": "python",
   "nbconvert_exporter": "python",
   "pygments_lexer": "ipython3",
   "version": "3.10.8"
  }
 },
 "nbformat": 4,
 "nbformat_minor": 5
}

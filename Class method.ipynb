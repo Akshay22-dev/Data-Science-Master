{
 "cells": [
  {
   "cell_type": "code",
   "execution_count": 5,
   "id": "47602b8c-a101-47cb-adb0-ec70d9318a75",
   "metadata": {},
   "outputs": [],
   "source": [
    "class pwskills:\n",
    "    def __init__(self, name ,email):\n",
    "        \n",
    "        self.name = name\n",
    "        self.email = email\n",
    "    def student_details(self):\n",
    "        print(self.name , self.email)"
   ]
  },
  {
   "cell_type": "code",
   "execution_count": 6,
   "id": "2ec15cf9-70ec-4b58-a4f2-0f01f764751f",
   "metadata": {},
   "outputs": [],
   "source": [
    "pw = pwskills(\"abd\", \"abd@gmail.com\")"
   ]
  },
  {
   "cell_type": "code",
   "execution_count": 7,
   "id": "73c86a2a-3226-4d13-b843-2ceac1d35077",
   "metadata": {},
   "outputs": [
    {
     "data": {
      "text/plain": [
       "'abd'"
      ]
     },
     "execution_count": 7,
     "metadata": {},
     "output_type": "execute_result"
    }
   ],
   "source": [
    "pw.name"
   ]
  },
  {
   "cell_type": "code",
   "execution_count": 8,
   "id": "991744c8-57fd-41e8-8635-dd985335d4c4",
   "metadata": {},
   "outputs": [
    {
     "data": {
      "text/plain": [
       "'abd@gmail.com'"
      ]
     },
     "execution_count": 8,
     "metadata": {},
     "output_type": "execute_result"
    }
   ],
   "source": [
    "pw.email"
   ]
  },
  {
   "cell_type": "code",
   "execution_count": 10,
   "id": "6c33e73a-888c-4379-bebe-c5215e9fa5b1",
   "metadata": {},
   "outputs": [
    {
     "name": "stdout",
     "output_type": "stream",
     "text": [
      "abd abd@gmail.com\n"
     ]
    }
   ],
   "source": [
    "pw.student_details()"
   ]
  },
  {
   "cell_type": "code",
   "execution_count": 11,
   "id": "3625a3c8-6b08-40bf-b110-288bfdd650a3",
   "metadata": {},
   "outputs": [],
   "source": [
    "class pwskills1:\n",
    "    def __init__(self, name ,email):\n",
    "        \n",
    "        self.name = name\n",
    "        self.email = email\n",
    "     \n",
    "    @classmethod\n",
    "    def details(cls,name,email):\n",
    "        return cls(name, email)\n",
    "    \n",
    "    \n",
    "    def student_details(self):\n",
    "        print(self.name , self.email)"
   ]
  },
  {
   "cell_type": "code",
   "execution_count": 15,
   "id": "28da9af9-bd9b-4fb2-a8fc-11b37941b2f0",
   "metadata": {},
   "outputs": [],
   "source": [
    "pw1 = pwskills1.details(\"mohan\",\"mohan@gmail.com\")"
   ]
  },
  {
   "cell_type": "code",
   "execution_count": 16,
   "id": "e86bc182-c394-424c-b591-f1495f8a8048",
   "metadata": {},
   "outputs": [
    {
     "data": {
      "text/plain": [
       "'mohan'"
      ]
     },
     "execution_count": 16,
     "metadata": {},
     "output_type": "execute_result"
    }
   ],
   "source": [
    "pw1.name"
   ]
  },
  {
   "cell_type": "code",
   "execution_count": 17,
   "id": "17ce236a-671f-4e0f-a45f-bf3868e9954f",
   "metadata": {},
   "outputs": [
    {
     "data": {
      "text/plain": [
       "'mohan@gmail.com'"
      ]
     },
     "execution_count": 17,
     "metadata": {},
     "output_type": "execute_result"
    }
   ],
   "source": [
    "pw1.email"
   ]
  },
  {
   "cell_type": "code",
   "execution_count": 18,
   "id": "27525139-a82c-4b14-95e0-821aa40043ae",
   "metadata": {},
   "outputs": [
    {
     "name": "stdout",
     "output_type": "stream",
     "text": [
      "mohan mohan@gmail.com\n"
     ]
    }
   ],
   "source": [
    "pw1.student_details()"
   ]
  },
  {
   "cell_type": "code",
   "execution_count": 28,
   "id": "0f501423-174b-4f57-bd05-b81ddc606073",
   "metadata": {},
   "outputs": [],
   "source": [
    "class pwskills2:\n",
    "    mobile_number = 7558690334\n",
    "    \n",
    "    def __init__(self, name ,email):\n",
    "        \n",
    "        self.name = name\n",
    "        self.email = email\n",
    "        \n",
    "    @classmethod\n",
    "    def change_number(cla,mobile):\n",
    "        pwskills2.mobile_number = mobile\n",
    "        \n",
    "    @classmethod\n",
    "    def details(cls,name,email):\n",
    "        return cls(name, email)\n",
    "    \n",
    "    \n",
    "    def student_details(self):\n",
    "        print(self.name , self.email,pwskills2.mobile_number)"
   ]
  },
  {
   "cell_type": "code",
   "execution_count": 21,
   "id": "d1e600b2-ce51-4f8a-a2e1-164becb65c3d",
   "metadata": {},
   "outputs": [
    {
     "data": {
      "text/plain": [
       "7558690334"
      ]
     },
     "execution_count": 21,
     "metadata": {},
     "output_type": "execute_result"
    }
   ],
   "source": [
    "pwskills2.mobile_number"
   ]
  },
  {
   "cell_type": "code",
   "execution_count": 22,
   "id": "fd934618-658f-4165-afe8-a396f3fb9c0a",
   "metadata": {},
   "outputs": [],
   "source": [
    "pw2 = pwskills2.details(\"sohan\",\"sohan@gmail.com\")"
   ]
  },
  {
   "cell_type": "code",
   "execution_count": 23,
   "id": "58190d25-3270-47a5-9d12-6a5eecfa3783",
   "metadata": {},
   "outputs": [
    {
     "name": "stdout",
     "output_type": "stream",
     "text": [
      "sohan sohan@gmail.com\n"
     ]
    }
   ],
   "source": [
    "pw2.student_details()"
   ]
  },
  {
   "cell_type": "code",
   "execution_count": 24,
   "id": "47a56b5c-665a-4ab3-b12a-46f15b5c978c",
   "metadata": {},
   "outputs": [],
   "source": [
    "pw2_obj = pwskills2(\"rohan\", \"rohan@gmail.com\")"
   ]
  },
  {
   "cell_type": "code",
   "execution_count": 29,
   "id": "84e664b2-b122-4a84-948f-87de37b2e416",
   "metadata": {},
   "outputs": [
    {
     "name": "stdout",
     "output_type": "stream",
     "text": [
      "rohan rohan@gmail.com\n"
     ]
    }
   ],
   "source": [
    "pw2_obj.student_details()"
   ]
  },
  {
   "cell_type": "code",
   "execution_count": 30,
   "id": "aa91d43e-b0d4-444e-a116-49037cf0e0af",
   "metadata": {},
   "outputs": [],
   "source": [
    "pwskills2.change_number(9552859744)"
   ]
  },
  {
   "cell_type": "code",
   "execution_count": 31,
   "id": "81eecbd5-da9d-4558-94cd-086383226917",
   "metadata": {},
   "outputs": [
    {
     "data": {
      "text/plain": [
       "9552859744"
      ]
     },
     "execution_count": 31,
     "metadata": {},
     "output_type": "execute_result"
    }
   ],
   "source": [
    "pwskills2.mobile_number"
   ]
  },
  {
   "cell_type": "code",
   "execution_count": 32,
   "id": "fcb052f9-b461-4b98-a77f-8ae581b72ef7",
   "metadata": {},
   "outputs": [],
   "source": [
    "class pwskills3:\n",
    "    mobile_number = 7558690334\n",
    "    \n",
    "    def __init__(self, name ,email):\n",
    "        \n",
    "        self.name = name\n",
    "        self.email = email\n",
    "        \n",
    "    @classmethod\n",
    "    def change_number(cla,mobile):\n",
    "        pwskills2.mobile_number = mobile\n",
    "        \n",
    "    @classmethod\n",
    "    def details(cls,name,email):\n",
    "        return cls(name, email)\n",
    "    \n",
    "    \n",
    "    def student_details(self):\n",
    "        print(self.name , self.email,pwskills2.mobile_number)"
   ]
  },
  {
   "cell_type": "code",
   "execution_count": 33,
   "id": "2b51825f-2327-4faf-a76e-91572f81a35a",
   "metadata": {},
   "outputs": [],
   "source": [
    "def course_details(cls,course_name):\n",
    "    print(\"course details\",course_name)"
   ]
  },
  {
   "cell_type": "code",
   "execution_count": 34,
   "id": "f7a50a72-6ee3-4bbe-8ae1-44aa2b76020a",
   "metadata": {},
   "outputs": [],
   "source": [
    "pwskills3.course_details = classmethod(course_details)"
   ]
  },
  {
   "cell_type": "code",
   "execution_count": 35,
   "id": "60d342dc-9275-4297-9cfb-64c428d390b8",
   "metadata": {},
   "outputs": [
    {
     "name": "stdout",
     "output_type": "stream",
     "text": [
      "course details data science master\n"
     ]
    }
   ],
   "source": [
    "pwskills3.course_details(\"data science master\")"
   ]
  },
  {
   "cell_type": "code",
   "execution_count": 36,
   "id": "d4ada9f6-3101-4a20-befd-0a3253c21e5b",
   "metadata": {},
   "outputs": [],
   "source": [
    "class pwskills4:\n",
    "    mobile_number = 7558690334\n",
    "    \n",
    "    def __init__(self, name ,email):\n",
    "        \n",
    "        self.name = name\n",
    "        self.email = email\n",
    "        \n",
    "    @classmethod\n",
    "    def change_number(cla,mobile):\n",
    "        pwskills2.mobile_number = mobile\n",
    "        \n",
    "    @classmethod\n",
    "    def details(cls,name,email):\n",
    "        return cls(name, email)\n",
    "    \n",
    "    \n",
    "    def student_details(self):\n",
    "        print(self.name , self.email,pwskills2.mobile_number)"
   ]
  },
  {
   "cell_type": "code",
   "execution_count": 37,
   "id": "1cb2ff28-75a7-4a53-bef1-59e293a29237",
   "metadata": {},
   "outputs": [],
   "source": [
    "del pwskills4.change_number"
   ]
  },
  {
   "cell_type": "code",
   "execution_count": 38,
   "id": "c8ea35e2-bb79-4c6b-878b-7373ae3d0bb4",
   "metadata": {},
   "outputs": [
    {
     "ename": "AttributeError",
     "evalue": "type object 'pwskills4' has no attribute 'change_number'",
     "output_type": "error",
     "traceback": [
      "\u001b[0;31m---------------------------------------------------------------------------\u001b[0m",
      "\u001b[0;31mAttributeError\u001b[0m                            Traceback (most recent call last)",
      "Cell \u001b[0;32mIn[38], line 1\u001b[0m\n\u001b[0;32m----> 1\u001b[0m \u001b[43mpwskills4\u001b[49m\u001b[38;5;241;43m.\u001b[39;49m\u001b[43mchange_number\u001b[49m(\u001b[38;5;241m7455889900\u001b[39m)\n",
      "\u001b[0;31mAttributeError\u001b[0m: type object 'pwskills4' has no attribute 'change_number'"
     ]
    }
   ],
   "source": [
    "pwskills4.change_number(7455889900)"
   ]
  },
  {
   "cell_type": "code",
   "execution_count": 39,
   "id": "d5cfb91c-17ae-46bd-bded-6429582e3112",
   "metadata": {},
   "outputs": [
    {
     "data": {
      "text/plain": [
       "7558690334"
      ]
     },
     "execution_count": 39,
     "metadata": {},
     "output_type": "execute_result"
    }
   ],
   "source": [
    "pwskills4.mobile_number"
   ]
  },
  {
   "cell_type": "code",
   "execution_count": 40,
   "id": "2fafaf2a-7be1-473d-963b-066dbed3d41d",
   "metadata": {},
   "outputs": [],
   "source": [
    "delattr(pwskills4,\"mobile_number\")"
   ]
  },
  {
   "cell_type": "code",
   "execution_count": 41,
   "id": "65f36b20-3351-4d1f-acb8-4522b2783281",
   "metadata": {},
   "outputs": [
    {
     "ename": "AttributeError",
     "evalue": "type object 'pwskills4' has no attribute 'mobile_number'",
     "output_type": "error",
     "traceback": [
      "\u001b[0;31m---------------------------------------------------------------------------\u001b[0m",
      "\u001b[0;31mAttributeError\u001b[0m                            Traceback (most recent call last)",
      "Cell \u001b[0;32mIn[41], line 1\u001b[0m\n\u001b[0;32m----> 1\u001b[0m \u001b[43mpwskills4\u001b[49m\u001b[38;5;241;43m.\u001b[39;49m\u001b[43mmobile_number\u001b[49m\n",
      "\u001b[0;31mAttributeError\u001b[0m: type object 'pwskills4' has no attribute 'mobile_number'"
     ]
    }
   ],
   "source": [
    "pwskills4.mobile_number"
   ]
  },
  {
   "cell_type": "code",
   "execution_count": null,
   "id": "015fe992-a518-4fba-a970-533de4b66c17",
   "metadata": {},
   "outputs": [],
   "source": []
  }
 ],
 "metadata": {
  "kernelspec": {
   "display_name": "Python 3 (ipykernel)",
   "language": "python",
   "name": "python3"
  },
  "language_info": {
   "codemirror_mode": {
    "name": "ipython",
    "version": 3
   },
   "file_extension": ".py",
   "mimetype": "text/x-python",
   "name": "python",
   "nbconvert_exporter": "python",
   "pygments_lexer": "ipython3",
   "version": "3.10.8"
  }
 },
 "nbformat": 4,
 "nbformat_minor": 5
}
